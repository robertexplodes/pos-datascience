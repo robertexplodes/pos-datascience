{
 "cells": [
  {
   "cell_type": "code",
   "execution_count": 1,
   "metadata": {
    "collapsed": true
   },
   "outputs": [],
   "source": [
    "import pandas as pd\n",
    "from sklearn.model_selection import train_test_split"
   ]
  },
  {
   "cell_type": "code",
   "execution_count": 2,
   "outputs": [
    {
     "data": {
      "text/plain": "   PassengerId  Survived  Pclass  \\\n0            1         0       3   \n1            2         1       1   \n2            3         1       3   \n3            4         1       1   \n4            5         0       3   \n\n                                                Name     Sex   Age  SibSp  \\\n0                            Braund, Mr. Owen Harris    male  22.0      1   \n1  Cumings, Mrs. John Bradley (Florence Briggs Th...  female  38.0      1   \n2                             Heikkinen, Miss. Laina  female  26.0      0   \n3       Futrelle, Mrs. Jacques Heath (Lily May Peel)  female  35.0      1   \n4                           Allen, Mr. William Henry    male  35.0      0   \n\n   Parch            Ticket     Fare Cabin Embarked  \n0      0         A/5 21171   7.2500   NaN        S  \n1      0          PC 17599  71.2833   C85        C  \n2      0  STON/O2. 3101282   7.9250   NaN        S  \n3      0            113803  53.1000  C123        S  \n4      0            373450   8.0500   NaN        S  ",
      "text/html": "<div>\n<style scoped>\n    .dataframe tbody tr th:only-of-type {\n        vertical-align: middle;\n    }\n\n    .dataframe tbody tr th {\n        vertical-align: top;\n    }\n\n    .dataframe thead th {\n        text-align: right;\n    }\n</style>\n<table border=\"1\" class=\"dataframe\">\n  <thead>\n    <tr style=\"text-align: right;\">\n      <th></th>\n      <th>PassengerId</th>\n      <th>Survived</th>\n      <th>Pclass</th>\n      <th>Name</th>\n      <th>Sex</th>\n      <th>Age</th>\n      <th>SibSp</th>\n      <th>Parch</th>\n      <th>Ticket</th>\n      <th>Fare</th>\n      <th>Cabin</th>\n      <th>Embarked</th>\n    </tr>\n  </thead>\n  <tbody>\n    <tr>\n      <th>0</th>\n      <td>1</td>\n      <td>0</td>\n      <td>3</td>\n      <td>Braund, Mr. Owen Harris</td>\n      <td>male</td>\n      <td>22.0</td>\n      <td>1</td>\n      <td>0</td>\n      <td>A/5 21171</td>\n      <td>7.2500</td>\n      <td>NaN</td>\n      <td>S</td>\n    </tr>\n    <tr>\n      <th>1</th>\n      <td>2</td>\n      <td>1</td>\n      <td>1</td>\n      <td>Cumings, Mrs. John Bradley (Florence Briggs Th...</td>\n      <td>female</td>\n      <td>38.0</td>\n      <td>1</td>\n      <td>0</td>\n      <td>PC 17599</td>\n      <td>71.2833</td>\n      <td>C85</td>\n      <td>C</td>\n    </tr>\n    <tr>\n      <th>2</th>\n      <td>3</td>\n      <td>1</td>\n      <td>3</td>\n      <td>Heikkinen, Miss. Laina</td>\n      <td>female</td>\n      <td>26.0</td>\n      <td>0</td>\n      <td>0</td>\n      <td>STON/O2. 3101282</td>\n      <td>7.9250</td>\n      <td>NaN</td>\n      <td>S</td>\n    </tr>\n    <tr>\n      <th>3</th>\n      <td>4</td>\n      <td>1</td>\n      <td>1</td>\n      <td>Futrelle, Mrs. Jacques Heath (Lily May Peel)</td>\n      <td>female</td>\n      <td>35.0</td>\n      <td>1</td>\n      <td>0</td>\n      <td>113803</td>\n      <td>53.1000</td>\n      <td>C123</td>\n      <td>S</td>\n    </tr>\n    <tr>\n      <th>4</th>\n      <td>5</td>\n      <td>0</td>\n      <td>3</td>\n      <td>Allen, Mr. William Henry</td>\n      <td>male</td>\n      <td>35.0</td>\n      <td>0</td>\n      <td>0</td>\n      <td>373450</td>\n      <td>8.0500</td>\n      <td>NaN</td>\n      <td>S</td>\n    </tr>\n  </tbody>\n</table>\n</div>"
     },
     "execution_count": 2,
     "metadata": {},
     "output_type": "execute_result"
    }
   ],
   "source": [
    "df = pd.read_csv('Titanic-Dataset.csv')\n",
    "df.head()"
   ],
   "metadata": {
    "collapsed": false
   }
  },
  {
   "cell_type": "code",
   "execution_count": 3,
   "outputs": [
    {
     "data": {
      "text/plain": "     PassengerId  Survived  Pclass  \\\n0              1         0       3   \n1              2         1       1   \n2              3         1       3   \n3              4         1       1   \n4              5         0       3   \n..           ...       ...     ...   \n886          887         0       2   \n887          888         1       1   \n888          889         0       3   \n889          890         1       1   \n890          891         0       3   \n\n                                                  Name   Age  SibSp  Parch  \\\n0                              Braund, Mr. Owen Harris  22.0      1      0   \n1    Cumings, Mrs. John Bradley (Florence Briggs Th...  38.0      1      0   \n2                               Heikkinen, Miss. Laina  26.0      0      0   \n3         Futrelle, Mrs. Jacques Heath (Lily May Peel)  35.0      1      0   \n4                             Allen, Mr. William Henry  35.0      0      0   \n..                                                 ...   ...    ...    ...   \n886                              Montvila, Rev. Juozas  27.0      0      0   \n887                       Graham, Miss. Margaret Edith  19.0      0      0   \n888           Johnston, Miss. Catherine Helen \"Carrie\"   NaN      1      2   \n889                              Behr, Mr. Karl Howell  26.0      0      0   \n890                                Dooley, Mr. Patrick  32.0      0      0   \n\n               Ticket     Fare Cabin  Sex_male  Embarked_Q  Embarked_S  \n0           A/5 21171   7.2500   NaN         1           0           1  \n1            PC 17599  71.2833   C85         0           0           0  \n2    STON/O2. 3101282   7.9250   NaN         0           0           1  \n3              113803  53.1000  C123         0           0           1  \n4              373450   8.0500   NaN         1           0           1  \n..                ...      ...   ...       ...         ...         ...  \n886            211536  13.0000   NaN         1           0           1  \n887            112053  30.0000   B42         0           0           1  \n888        W./C. 6607  23.4500   NaN         0           0           1  \n889            111369  30.0000  C148         1           0           0  \n890            370376   7.7500   NaN         1           1           0  \n\n[891 rows x 13 columns]",
      "text/html": "<div>\n<style scoped>\n    .dataframe tbody tr th:only-of-type {\n        vertical-align: middle;\n    }\n\n    .dataframe tbody tr th {\n        vertical-align: top;\n    }\n\n    .dataframe thead th {\n        text-align: right;\n    }\n</style>\n<table border=\"1\" class=\"dataframe\">\n  <thead>\n    <tr style=\"text-align: right;\">\n      <th></th>\n      <th>PassengerId</th>\n      <th>Survived</th>\n      <th>Pclass</th>\n      <th>Name</th>\n      <th>Age</th>\n      <th>SibSp</th>\n      <th>Parch</th>\n      <th>Ticket</th>\n      <th>Fare</th>\n      <th>Cabin</th>\n      <th>Sex_male</th>\n      <th>Embarked_Q</th>\n      <th>Embarked_S</th>\n    </tr>\n  </thead>\n  <tbody>\n    <tr>\n      <th>0</th>\n      <td>1</td>\n      <td>0</td>\n      <td>3</td>\n      <td>Braund, Mr. Owen Harris</td>\n      <td>22.0</td>\n      <td>1</td>\n      <td>0</td>\n      <td>A/5 21171</td>\n      <td>7.2500</td>\n      <td>NaN</td>\n      <td>1</td>\n      <td>0</td>\n      <td>1</td>\n    </tr>\n    <tr>\n      <th>1</th>\n      <td>2</td>\n      <td>1</td>\n      <td>1</td>\n      <td>Cumings, Mrs. John Bradley (Florence Briggs Th...</td>\n      <td>38.0</td>\n      <td>1</td>\n      <td>0</td>\n      <td>PC 17599</td>\n      <td>71.2833</td>\n      <td>C85</td>\n      <td>0</td>\n      <td>0</td>\n      <td>0</td>\n    </tr>\n    <tr>\n      <th>2</th>\n      <td>3</td>\n      <td>1</td>\n      <td>3</td>\n      <td>Heikkinen, Miss. Laina</td>\n      <td>26.0</td>\n      <td>0</td>\n      <td>0</td>\n      <td>STON/O2. 3101282</td>\n      <td>7.9250</td>\n      <td>NaN</td>\n      <td>0</td>\n      <td>0</td>\n      <td>1</td>\n    </tr>\n    <tr>\n      <th>3</th>\n      <td>4</td>\n      <td>1</td>\n      <td>1</td>\n      <td>Futrelle, Mrs. Jacques Heath (Lily May Peel)</td>\n      <td>35.0</td>\n      <td>1</td>\n      <td>0</td>\n      <td>113803</td>\n      <td>53.1000</td>\n      <td>C123</td>\n      <td>0</td>\n      <td>0</td>\n      <td>1</td>\n    </tr>\n    <tr>\n      <th>4</th>\n      <td>5</td>\n      <td>0</td>\n      <td>3</td>\n      <td>Allen, Mr. William Henry</td>\n      <td>35.0</td>\n      <td>0</td>\n      <td>0</td>\n      <td>373450</td>\n      <td>8.0500</td>\n      <td>NaN</td>\n      <td>1</td>\n      <td>0</td>\n      <td>1</td>\n    </tr>\n    <tr>\n      <th>...</th>\n      <td>...</td>\n      <td>...</td>\n      <td>...</td>\n      <td>...</td>\n      <td>...</td>\n      <td>...</td>\n      <td>...</td>\n      <td>...</td>\n      <td>...</td>\n      <td>...</td>\n      <td>...</td>\n      <td>...</td>\n      <td>...</td>\n    </tr>\n    <tr>\n      <th>886</th>\n      <td>887</td>\n      <td>0</td>\n      <td>2</td>\n      <td>Montvila, Rev. Juozas</td>\n      <td>27.0</td>\n      <td>0</td>\n      <td>0</td>\n      <td>211536</td>\n      <td>13.0000</td>\n      <td>NaN</td>\n      <td>1</td>\n      <td>0</td>\n      <td>1</td>\n    </tr>\n    <tr>\n      <th>887</th>\n      <td>888</td>\n      <td>1</td>\n      <td>1</td>\n      <td>Graham, Miss. Margaret Edith</td>\n      <td>19.0</td>\n      <td>0</td>\n      <td>0</td>\n      <td>112053</td>\n      <td>30.0000</td>\n      <td>B42</td>\n      <td>0</td>\n      <td>0</td>\n      <td>1</td>\n    </tr>\n    <tr>\n      <th>888</th>\n      <td>889</td>\n      <td>0</td>\n      <td>3</td>\n      <td>Johnston, Miss. Catherine Helen \"Carrie\"</td>\n      <td>NaN</td>\n      <td>1</td>\n      <td>2</td>\n      <td>W./C. 6607</td>\n      <td>23.4500</td>\n      <td>NaN</td>\n      <td>0</td>\n      <td>0</td>\n      <td>1</td>\n    </tr>\n    <tr>\n      <th>889</th>\n      <td>890</td>\n      <td>1</td>\n      <td>1</td>\n      <td>Behr, Mr. Karl Howell</td>\n      <td>26.0</td>\n      <td>0</td>\n      <td>0</td>\n      <td>111369</td>\n      <td>30.0000</td>\n      <td>C148</td>\n      <td>1</td>\n      <td>0</td>\n      <td>0</td>\n    </tr>\n    <tr>\n      <th>890</th>\n      <td>891</td>\n      <td>0</td>\n      <td>3</td>\n      <td>Dooley, Mr. Patrick</td>\n      <td>32.0</td>\n      <td>0</td>\n      <td>0</td>\n      <td>370376</td>\n      <td>7.7500</td>\n      <td>NaN</td>\n      <td>1</td>\n      <td>1</td>\n      <td>0</td>\n    </tr>\n  </tbody>\n</table>\n<p>891 rows × 13 columns</p>\n</div>"
     },
     "execution_count": 3,
     "metadata": {},
     "output_type": "execute_result"
    }
   ],
   "source": [
    "df = pd.get_dummies(data=df, columns=['Sex', 'Embarked'], drop_first=True)\n",
    "df"
   ],
   "metadata": {
    "collapsed": false
   }
  },
  {
   "cell_type": "code",
   "execution_count": 4,
   "outputs": [
    {
     "data": {
      "text/plain": "Index(['PassengerId', 'Survived', 'Pclass', 'Name', 'Age', 'SibSp', 'Parch',\n       'Ticket', 'Fare', 'Cabin', 'Sex_male', 'Embarked_Q', 'Embarked_S'],\n      dtype='object')"
     },
     "execution_count": 4,
     "metadata": {},
     "output_type": "execute_result"
    }
   ],
   "source": [
    "df.columns"
   ],
   "metadata": {
    "collapsed": false
   }
  },
  {
   "cell_type": "code",
   "execution_count": 5,
   "outputs": [
    {
     "data": {
      "text/plain": "   Survived  Pclass   Age  SibSp  Parch     Fare  Sex_male  Embarked_Q  \\\n0         0       3  22.0      1      0   7.2500         1           0   \n1         1       1  38.0      1      0  71.2833         0           0   \n2         1       3  26.0      0      0   7.9250         0           0   \n3         1       1  35.0      1      0  53.1000         0           0   \n4         0       3  35.0      0      0   8.0500         1           0   \n\n   Embarked_S  \n0           1  \n1           0  \n2           1  \n3           1  \n4           1  ",
      "text/html": "<div>\n<style scoped>\n    .dataframe tbody tr th:only-of-type {\n        vertical-align: middle;\n    }\n\n    .dataframe tbody tr th {\n        vertical-align: top;\n    }\n\n    .dataframe thead th {\n        text-align: right;\n    }\n</style>\n<table border=\"1\" class=\"dataframe\">\n  <thead>\n    <tr style=\"text-align: right;\">\n      <th></th>\n      <th>Survived</th>\n      <th>Pclass</th>\n      <th>Age</th>\n      <th>SibSp</th>\n      <th>Parch</th>\n      <th>Fare</th>\n      <th>Sex_male</th>\n      <th>Embarked_Q</th>\n      <th>Embarked_S</th>\n    </tr>\n  </thead>\n  <tbody>\n    <tr>\n      <th>0</th>\n      <td>0</td>\n      <td>3</td>\n      <td>22.0</td>\n      <td>1</td>\n      <td>0</td>\n      <td>7.2500</td>\n      <td>1</td>\n      <td>0</td>\n      <td>1</td>\n    </tr>\n    <tr>\n      <th>1</th>\n      <td>1</td>\n      <td>1</td>\n      <td>38.0</td>\n      <td>1</td>\n      <td>0</td>\n      <td>71.2833</td>\n      <td>0</td>\n      <td>0</td>\n      <td>0</td>\n    </tr>\n    <tr>\n      <th>2</th>\n      <td>1</td>\n      <td>3</td>\n      <td>26.0</td>\n      <td>0</td>\n      <td>0</td>\n      <td>7.9250</td>\n      <td>0</td>\n      <td>0</td>\n      <td>1</td>\n    </tr>\n    <tr>\n      <th>3</th>\n      <td>1</td>\n      <td>1</td>\n      <td>35.0</td>\n      <td>1</td>\n      <td>0</td>\n      <td>53.1000</td>\n      <td>0</td>\n      <td>0</td>\n      <td>1</td>\n    </tr>\n    <tr>\n      <th>4</th>\n      <td>0</td>\n      <td>3</td>\n      <td>35.0</td>\n      <td>0</td>\n      <td>0</td>\n      <td>8.0500</td>\n      <td>1</td>\n      <td>0</td>\n      <td>1</td>\n    </tr>\n  </tbody>\n</table>\n</div>"
     },
     "execution_count": 5,
     "metadata": {},
     "output_type": "execute_result"
    }
   ],
   "source": [
    "df = df.drop(columns=['PassengerId','Name', 'Ticket', 'Cabin'])\n",
    "df.head()"
   ],
   "metadata": {
    "collapsed": false
   }
  },
  {
   "cell_type": "code",
   "execution_count": 6,
   "outputs": [],
   "source": [
    "X = df.drop(columns='Survived')\n",
    "y = df.Survived\n",
    "\n",
    "X_train, X_test, y_train, y_test = train_test_split(X, y, test_size=0.3, random_state=42)"
   ],
   "metadata": {
    "collapsed": false
   }
  },
  {
   "cell_type": "code",
   "execution_count": 8,
   "outputs": [
    {
     "name": "stdout",
     "output_type": "stream",
     "text": [
      "Epoch 1/100\n",
      "39/39 [==============================] - 1s 7ms/step - loss: nan - accuracy: 0.6228 - val_loss: nan - val_accuracy: 0.5858\n",
      "Epoch 2/100\n",
      "39/39 [==============================] - 0s 3ms/step - loss: nan - accuracy: 0.6292 - val_loss: nan - val_accuracy: 0.5858\n",
      "Epoch 3/100\n",
      "39/39 [==============================] - 0s 3ms/step - loss: nan - accuracy: 0.6292 - val_loss: nan - val_accuracy: 0.5858\n",
      "Epoch 4/100\n",
      "39/39 [==============================] - 0s 3ms/step - loss: nan - accuracy: 0.6292 - val_loss: nan - val_accuracy: 0.5858\n",
      "Epoch 5/100\n",
      "39/39 [==============================] - 0s 3ms/step - loss: nan - accuracy: 0.6292 - val_loss: nan - val_accuracy: 0.5858\n",
      "Epoch 6/100\n",
      "39/39 [==============================] - 0s 3ms/step - loss: nan - accuracy: 0.6292 - val_loss: nan - val_accuracy: 0.5858\n",
      "Epoch 7/100\n",
      "39/39 [==============================] - 0s 2ms/step - loss: nan - accuracy: 0.6292 - val_loss: nan - val_accuracy: 0.5858\n",
      "Epoch 8/100\n",
      "39/39 [==============================] - 0s 2ms/step - loss: nan - accuracy: 0.6292 - val_loss: nan - val_accuracy: 0.5858\n",
      "Epoch 9/100\n",
      "39/39 [==============================] - 0s 2ms/step - loss: nan - accuracy: 0.6292 - val_loss: nan - val_accuracy: 0.5858\n",
      "Epoch 10/100\n",
      "39/39 [==============================] - 0s 2ms/step - loss: nan - accuracy: 0.6292 - val_loss: nan - val_accuracy: 0.5858\n",
      "Epoch 11/100\n",
      "39/39 [==============================] - 0s 2ms/step - loss: nan - accuracy: 0.6292 - val_loss: nan - val_accuracy: 0.5858\n",
      "Epoch 12/100\n",
      "39/39 [==============================] - 0s 2ms/step - loss: nan - accuracy: 0.6292 - val_loss: nan - val_accuracy: 0.5858\n",
      "Epoch 13/100\n",
      "39/39 [==============================] - 0s 3ms/step - loss: nan - accuracy: 0.6292 - val_loss: nan - val_accuracy: 0.5858\n",
      "Epoch 14/100\n",
      "39/39 [==============================] - 0s 3ms/step - loss: nan - accuracy: 0.6292 - val_loss: nan - val_accuracy: 0.5858\n",
      "Epoch 15/100\n",
      "39/39 [==============================] - 0s 2ms/step - loss: nan - accuracy: 0.6292 - val_loss: nan - val_accuracy: 0.5858\n",
      "Epoch 16/100\n",
      "39/39 [==============================] - 0s 2ms/step - loss: nan - accuracy: 0.6292 - val_loss: nan - val_accuracy: 0.5858\n",
      "Epoch 17/100\n",
      "39/39 [==============================] - 0s 2ms/step - loss: nan - accuracy: 0.6292 - val_loss: nan - val_accuracy: 0.5858\n",
      "Epoch 18/100\n",
      "39/39 [==============================] - 0s 2ms/step - loss: nan - accuracy: 0.6292 - val_loss: nan - val_accuracy: 0.5858\n",
      "Epoch 19/100\n",
      "39/39 [==============================] - 0s 2ms/step - loss: nan - accuracy: 0.6292 - val_loss: nan - val_accuracy: 0.5858\n",
      "Epoch 20/100\n",
      "39/39 [==============================] - 0s 2ms/step - loss: nan - accuracy: 0.6292 - val_loss: nan - val_accuracy: 0.5858\n",
      "Epoch 21/100\n",
      "39/39 [==============================] - 0s 2ms/step - loss: nan - accuracy: 0.6292 - val_loss: nan - val_accuracy: 0.5858\n",
      "Epoch 22/100\n",
      "39/39 [==============================] - 0s 2ms/step - loss: nan - accuracy: 0.6292 - val_loss: nan - val_accuracy: 0.5858\n",
      "Epoch 23/100\n",
      "39/39 [==============================] - 0s 2ms/step - loss: nan - accuracy: 0.6292 - val_loss: nan - val_accuracy: 0.5858\n",
      "Epoch 24/100\n",
      "39/39 [==============================] - 0s 3ms/step - loss: nan - accuracy: 0.6292 - val_loss: nan - val_accuracy: 0.5858\n",
      "Epoch 25/100\n",
      "39/39 [==============================] - 0s 2ms/step - loss: nan - accuracy: 0.6292 - val_loss: nan - val_accuracy: 0.5858\n",
      "Epoch 26/100\n",
      "39/39 [==============================] - 0s 3ms/step - loss: nan - accuracy: 0.6292 - val_loss: nan - val_accuracy: 0.5858\n",
      "Epoch 27/100\n",
      "39/39 [==============================] - 0s 2ms/step - loss: nan - accuracy: 0.6292 - val_loss: nan - val_accuracy: 0.5858\n",
      "Epoch 28/100\n",
      "39/39 [==============================] - 0s 2ms/step - loss: nan - accuracy: 0.6292 - val_loss: nan - val_accuracy: 0.5858\n",
      "Epoch 29/100\n",
      "39/39 [==============================] - 0s 2ms/step - loss: nan - accuracy: 0.6292 - val_loss: nan - val_accuracy: 0.5858\n",
      "Epoch 30/100\n",
      "39/39 [==============================] - 0s 2ms/step - loss: nan - accuracy: 0.6292 - val_loss: nan - val_accuracy: 0.5858\n",
      "Epoch 31/100\n",
      "39/39 [==============================] - 0s 3ms/step - loss: nan - accuracy: 0.6292 - val_loss: nan - val_accuracy: 0.5858\n",
      "Epoch 32/100\n",
      "39/39 [==============================] - 0s 2ms/step - loss: nan - accuracy: 0.6292 - val_loss: nan - val_accuracy: 0.5858\n",
      "Epoch 33/100\n",
      "39/39 [==============================] - 0s 2ms/step - loss: nan - accuracy: 0.6292 - val_loss: nan - val_accuracy: 0.5858\n",
      "Epoch 34/100\n",
      "39/39 [==============================] - 0s 3ms/step - loss: nan - accuracy: 0.6292 - val_loss: nan - val_accuracy: 0.5858\n",
      "Epoch 35/100\n",
      "39/39 [==============================] - 0s 2ms/step - loss: nan - accuracy: 0.6292 - val_loss: nan - val_accuracy: 0.5858\n",
      "Epoch 36/100\n",
      "39/39 [==============================] - 0s 3ms/step - loss: nan - accuracy: 0.6292 - val_loss: nan - val_accuracy: 0.5858\n",
      "Epoch 37/100\n",
      "39/39 [==============================] - 0s 3ms/step - loss: nan - accuracy: 0.6292 - val_loss: nan - val_accuracy: 0.5858\n",
      "Epoch 38/100\n",
      "39/39 [==============================] - 0s 3ms/step - loss: nan - accuracy: 0.6292 - val_loss: nan - val_accuracy: 0.5858\n",
      "Epoch 39/100\n",
      "39/39 [==============================] - 0s 3ms/step - loss: nan - accuracy: 0.6292 - val_loss: nan - val_accuracy: 0.5858\n",
      "Epoch 40/100\n",
      "39/39 [==============================] - 0s 2ms/step - loss: nan - accuracy: 0.6292 - val_loss: nan - val_accuracy: 0.5858\n",
      "Epoch 41/100\n",
      "39/39 [==============================] - 0s 3ms/step - loss: nan - accuracy: 0.6292 - val_loss: nan - val_accuracy: 0.5858\n",
      "Epoch 42/100\n",
      "39/39 [==============================] - 0s 3ms/step - loss: nan - accuracy: 0.6292 - val_loss: nan - val_accuracy: 0.5858\n",
      "Epoch 43/100\n",
      "39/39 [==============================] - 0s 3ms/step - loss: nan - accuracy: 0.6292 - val_loss: nan - val_accuracy: 0.5858\n",
      "Epoch 44/100\n",
      "39/39 [==============================] - 0s 3ms/step - loss: nan - accuracy: 0.6292 - val_loss: nan - val_accuracy: 0.5858\n",
      "Epoch 45/100\n",
      "39/39 [==============================] - 0s 3ms/step - loss: nan - accuracy: 0.6292 - val_loss: nan - val_accuracy: 0.5858\n",
      "Epoch 46/100\n",
      "39/39 [==============================] - 0s 4ms/step - loss: nan - accuracy: 0.6292 - val_loss: nan - val_accuracy: 0.5858\n",
      "Epoch 47/100\n",
      "39/39 [==============================] - 0s 4ms/step - loss: nan - accuracy: 0.6292 - val_loss: nan - val_accuracy: 0.5858\n",
      "Epoch 48/100\n",
      "39/39 [==============================] - 0s 4ms/step - loss: nan - accuracy: 0.6292 - val_loss: nan - val_accuracy: 0.5858\n",
      "Epoch 49/100\n",
      "39/39 [==============================] - 0s 5ms/step - loss: nan - accuracy: 0.6292 - val_loss: nan - val_accuracy: 0.5858\n",
      "Epoch 50/100\n",
      "39/39 [==============================] - 0s 4ms/step - loss: nan - accuracy: 0.6292 - val_loss: nan - val_accuracy: 0.5858\n",
      "Epoch 51/100\n",
      "39/39 [==============================] - 0s 4ms/step - loss: nan - accuracy: 0.6292 - val_loss: nan - val_accuracy: 0.5858\n",
      "Epoch 52/100\n",
      "39/39 [==============================] - 0s 3ms/step - loss: nan - accuracy: 0.6292 - val_loss: nan - val_accuracy: 0.5858\n",
      "Epoch 53/100\n",
      "39/39 [==============================] - 0s 3ms/step - loss: nan - accuracy: 0.6292 - val_loss: nan - val_accuracy: 0.5858\n",
      "Epoch 54/100\n",
      "39/39 [==============================] - 0s 3ms/step - loss: nan - accuracy: 0.6292 - val_loss: nan - val_accuracy: 0.5858\n",
      "Epoch 55/100\n",
      "39/39 [==============================] - 0s 3ms/step - loss: nan - accuracy: 0.6292 - val_loss: nan - val_accuracy: 0.5858\n",
      "Epoch 56/100\n",
      "39/39 [==============================] - 0s 5ms/step - loss: nan - accuracy: 0.6292 - val_loss: nan - val_accuracy: 0.5858\n",
      "Epoch 57/100\n",
      "39/39 [==============================] - 0s 4ms/step - loss: nan - accuracy: 0.6292 - val_loss: nan - val_accuracy: 0.5858\n",
      "Epoch 58/100\n",
      "39/39 [==============================] - 0s 6ms/step - loss: nan - accuracy: 0.6292 - val_loss: nan - val_accuracy: 0.5858\n",
      "Epoch 59/100\n",
      "39/39 [==============================] - 0s 4ms/step - loss: nan - accuracy: 0.6292 - val_loss: nan - val_accuracy: 0.5858\n",
      "Epoch 60/100\n",
      "39/39 [==============================] - 0s 5ms/step - loss: nan - accuracy: 0.6292 - val_loss: nan - val_accuracy: 0.5858\n",
      "Epoch 61/100\n",
      "39/39 [==============================] - 0s 6ms/step - loss: nan - accuracy: 0.6292 - val_loss: nan - val_accuracy: 0.5858\n",
      "Epoch 62/100\n",
      "39/39 [==============================] - 0s 4ms/step - loss: nan - accuracy: 0.6292 - val_loss: nan - val_accuracy: 0.5858\n",
      "Epoch 63/100\n",
      "39/39 [==============================] - 0s 6ms/step - loss: nan - accuracy: 0.6292 - val_loss: nan - val_accuracy: 0.5858\n",
      "Epoch 64/100\n",
      "39/39 [==============================] - 0s 7ms/step - loss: nan - accuracy: 0.6292 - val_loss: nan - val_accuracy: 0.5858\n",
      "Epoch 65/100\n",
      "39/39 [==============================] - 0s 6ms/step - loss: nan - accuracy: 0.6292 - val_loss: nan - val_accuracy: 0.5858\n",
      "Epoch 66/100\n",
      "39/39 [==============================] - 0s 10ms/step - loss: nan - accuracy: 0.6292 - val_loss: nan - val_accuracy: 0.5858\n",
      "Epoch 67/100\n",
      "39/39 [==============================] - 0s 4ms/step - loss: nan - accuracy: 0.6292 - val_loss: nan - val_accuracy: 0.5858\n",
      "Epoch 68/100\n",
      "39/39 [==============================] - 0s 4ms/step - loss: nan - accuracy: 0.6292 - val_loss: nan - val_accuracy: 0.5858\n",
      "Epoch 69/100\n",
      "39/39 [==============================] - 0s 4ms/step - loss: nan - accuracy: 0.6292 - val_loss: nan - val_accuracy: 0.5858\n",
      "Epoch 70/100\n",
      "39/39 [==============================] - 0s 4ms/step - loss: nan - accuracy: 0.6292 - val_loss: nan - val_accuracy: 0.5858\n",
      "Epoch 71/100\n",
      "39/39 [==============================] - 0s 6ms/step - loss: nan - accuracy: 0.6292 - val_loss: nan - val_accuracy: 0.5858\n",
      "Epoch 72/100\n",
      "39/39 [==============================] - 0s 4ms/step - loss: nan - accuracy: 0.6292 - val_loss: nan - val_accuracy: 0.5858\n",
      "Epoch 73/100\n",
      "39/39 [==============================] - 0s 4ms/step - loss: nan - accuracy: 0.6292 - val_loss: nan - val_accuracy: 0.5858\n",
      "Epoch 74/100\n",
      "39/39 [==============================] - 0s 4ms/step - loss: nan - accuracy: 0.6292 - val_loss: nan - val_accuracy: 0.5858\n",
      "Epoch 75/100\n",
      "39/39 [==============================] - 0s 4ms/step - loss: nan - accuracy: 0.6292 - val_loss: nan - val_accuracy: 0.5858\n",
      "Epoch 76/100\n",
      "39/39 [==============================] - 0s 5ms/step - loss: nan - accuracy: 0.6292 - val_loss: nan - val_accuracy: 0.5858\n",
      "Epoch 77/100\n",
      "39/39 [==============================] - 0s 7ms/step - loss: nan - accuracy: 0.6292 - val_loss: nan - val_accuracy: 0.5858\n",
      "Epoch 78/100\n",
      "39/39 [==============================] - 0s 5ms/step - loss: nan - accuracy: 0.6292 - val_loss: nan - val_accuracy: 0.5858\n",
      "Epoch 79/100\n",
      "39/39 [==============================] - 0s 6ms/step - loss: nan - accuracy: 0.6292 - val_loss: nan - val_accuracy: 0.5858\n",
      "Epoch 80/100\n",
      "39/39 [==============================] - 0s 3ms/step - loss: nan - accuracy: 0.6292 - val_loss: nan - val_accuracy: 0.5858\n",
      "Epoch 81/100\n",
      "39/39 [==============================] - 0s 4ms/step - loss: nan - accuracy: 0.6292 - val_loss: nan - val_accuracy: 0.5858\n",
      "Epoch 82/100\n",
      "39/39 [==============================] - 0s 4ms/step - loss: nan - accuracy: 0.6292 - val_loss: nan - val_accuracy: 0.5858\n",
      "Epoch 83/100\n",
      "39/39 [==============================] - 0s 8ms/step - loss: nan - accuracy: 0.6292 - val_loss: nan - val_accuracy: 0.5858\n",
      "Epoch 84/100\n",
      "39/39 [==============================] - 0s 9ms/step - loss: nan - accuracy: 0.6292 - val_loss: nan - val_accuracy: 0.5858\n",
      "Epoch 85/100\n",
      "39/39 [==============================] - 0s 4ms/step - loss: nan - accuracy: 0.6292 - val_loss: nan - val_accuracy: 0.5858\n",
      "Epoch 86/100\n",
      "39/39 [==============================] - 0s 6ms/step - loss: nan - accuracy: 0.6292 - val_loss: nan - val_accuracy: 0.5858\n",
      "Epoch 87/100\n",
      "39/39 [==============================] - 0s 4ms/step - loss: nan - accuracy: 0.6292 - val_loss: nan - val_accuracy: 0.5858\n",
      "Epoch 88/100\n",
      "39/39 [==============================] - 0s 4ms/step - loss: nan - accuracy: 0.6292 - val_loss: nan - val_accuracy: 0.5858\n",
      "Epoch 89/100\n",
      "39/39 [==============================] - 0s 3ms/step - loss: nan - accuracy: 0.6292 - val_loss: nan - val_accuracy: 0.5858\n",
      "Epoch 90/100\n",
      "39/39 [==============================] - 0s 3ms/step - loss: nan - accuracy: 0.6292 - val_loss: nan - val_accuracy: 0.5858\n",
      "Epoch 91/100\n",
      "39/39 [==============================] - 0s 4ms/step - loss: nan - accuracy: 0.6292 - val_loss: nan - val_accuracy: 0.5858\n",
      "Epoch 92/100\n",
      "39/39 [==============================] - 0s 3ms/step - loss: nan - accuracy: 0.6292 - val_loss: nan - val_accuracy: 0.5858\n",
      "Epoch 93/100\n",
      "39/39 [==============================] - 0s 3ms/step - loss: nan - accuracy: 0.6292 - val_loss: nan - val_accuracy: 0.5858\n",
      "Epoch 94/100\n",
      "39/39 [==============================] - 0s 4ms/step - loss: nan - accuracy: 0.6292 - val_loss: nan - val_accuracy: 0.5858\n",
      "Epoch 95/100\n",
      "39/39 [==============================] - 0s 4ms/step - loss: nan - accuracy: 0.6292 - val_loss: nan - val_accuracy: 0.5858\n",
      "Epoch 96/100\n",
      "39/39 [==============================] - 0s 3ms/step - loss: nan - accuracy: 0.6292 - val_loss: nan - val_accuracy: 0.5858\n",
      "Epoch 97/100\n",
      "39/39 [==============================] - 0s 3ms/step - loss: nan - accuracy: 0.6292 - val_loss: nan - val_accuracy: 0.5858\n",
      "Epoch 98/100\n",
      "39/39 [==============================] - 0s 3ms/step - loss: nan - accuracy: 0.6292 - val_loss: nan - val_accuracy: 0.5858\n",
      "Epoch 99/100\n",
      "39/39 [==============================] - 0s 3ms/step - loss: nan - accuracy: 0.6292 - val_loss: nan - val_accuracy: 0.5858\n",
      "Epoch 100/100\n",
      "39/39 [==============================] - 0s 4ms/step - loss: nan - accuracy: 0.6292 - val_loss: nan - val_accuracy: 0.5858\n"
     ]
    }
   ],
   "source": [
    "from tensorflow.keras import layers\n",
    "from tensorflow.keras.models import Sequential\n",
    "\n",
    "ann = Sequential([\n",
    "    layers.Dense(units=4, activation='relu', dtype='float64'),\n",
    "    layers.Dense(units=4, activation='relu', dtype='float64'),\n",
    "    layers.Dense(units=1, activation='sigmoid', dtype='float64'),   # LogisticRegression\n",
    "])\n",
    "ann.compile(optimizer='adam', loss='binary_crossentropy', metrics='accuracy')\n",
    "history = ann.fit(X_train,\n",
    "                  y_train,\n",
    "                  batch_size=16,\n",
    "                  validation_data=(X_test, y_test),\n",
    "                  epochs=100,\n",
    "                  verbose=1)\n"
   ],
   "metadata": {
    "collapsed": false
   }
  },
  {
   "cell_type": "code",
   "execution_count": 15,
   "outputs": [
    {
     "ename": "ModuleNotFoundError",
     "evalue": "No module named 'ann_visualizer'",
     "output_type": "error",
     "traceback": [
      "\u001B[1;31m---------------------------------------------------------------------------\u001B[0m",
      "\u001B[1;31mModuleNotFoundError\u001B[0m                       Traceback (most recent call last)",
      "\u001B[1;32mD:\\Temp\\ipykernel_60224\\2137502137.py\u001B[0m in \u001B[0;36m<module>\u001B[1;34m\u001B[0m\n\u001B[1;32m----> 1\u001B[1;33m \u001B[1;32mfrom\u001B[0m \u001B[0mann_visualizer\u001B[0m\u001B[1;33m.\u001B[0m\u001B[0mvisualize\u001B[0m \u001B[1;32mimport\u001B[0m \u001B[0mann_viz\u001B[0m\u001B[1;33m;\u001B[0m\u001B[1;33m\u001B[0m\u001B[1;33m\u001B[0m\u001B[0m\n\u001B[0m\u001B[0;32m      2\u001B[0m \u001B[1;33m\u001B[0m\u001B[0m\n\u001B[0;32m      3\u001B[0m \u001B[0mann_viz\u001B[0m\u001B[1;33m(\u001B[0m\u001B[0mann\u001B[0m\u001B[1;33m,\u001B[0m \u001B[0mtitle\u001B[0m\u001B[1;33m=\u001B[0m\u001B[1;34m\"My first neural network\"\u001B[0m\u001B[1;33m)\u001B[0m\u001B[1;33m\u001B[0m\u001B[1;33m\u001B[0m\u001B[0m\n",
      "\u001B[1;31mModuleNotFoundError\u001B[0m: No module named 'ann_visualizer'"
     ]
    }
   ],
   "source": [
    "from ann_visualizer.visualize import ann_viz;\n",
    "\n",
    "ann_viz(ann, title=\"My first neural network\")"
   ],
   "metadata": {
    "collapsed": false
   }
  }
 ],
 "metadata": {
  "kernelspec": {
   "display_name": "Python 3",
   "language": "python",
   "name": "python3"
  },
  "language_info": {
   "codemirror_mode": {
    "name": "ipython",
    "version": 2
   },
   "file_extension": ".py",
   "mimetype": "text/x-python",
   "name": "python",
   "nbconvert_exporter": "python",
   "pygments_lexer": "ipython2",
   "version": "2.7.6"
  }
 },
 "nbformat": 4,
 "nbformat_minor": 0
}
