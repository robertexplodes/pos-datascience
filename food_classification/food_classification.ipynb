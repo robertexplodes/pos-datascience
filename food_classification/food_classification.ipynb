{
 "cells": [
  {
   "cell_type": "code",
   "execution_count": 26,
   "metadata": {
    "collapsed": true
   },
   "outputs": [
    {
     "ename": "ModuleNotFoundError",
     "evalue": "No module named 'tensorflow.python.keras.preprocessing'",
     "output_type": "error",
     "traceback": [
      "\u001B[1;31m---------------------------------------------------------------------------\u001B[0m",
      "\u001B[1;31mModuleNotFoundError\u001B[0m                       Traceback (most recent call last)",
      "\u001B[1;32m~\\AppData\\Local\\Temp\\ipykernel_9872\\3716812917.py\u001B[0m in \u001B[0;36m<module>\u001B[1;34m\u001B[0m\n\u001B[0;32m      3\u001B[0m \u001B[1;32mfrom\u001B[0m \u001B[0mkeras\u001B[0m\u001B[1;33m.\u001B[0m\u001B[0mlayers\u001B[0m \u001B[1;32mimport\u001B[0m \u001B[0mConv2D\u001B[0m\u001B[1;33m,\u001B[0m \u001B[0mBatchNormalization\u001B[0m\u001B[1;33m,\u001B[0m \u001B[0mMaxPooling2D\u001B[0m\u001B[1;33m,\u001B[0m \u001B[0mDropout\u001B[0m\u001B[1;33m,\u001B[0m \u001B[0mFlatten\u001B[0m\u001B[1;33m,\u001B[0m \u001B[0mDense\u001B[0m\u001B[1;33m\u001B[0m\u001B[1;33m\u001B[0m\u001B[0m\n\u001B[0;32m      4\u001B[0m \u001B[1;32mfrom\u001B[0m \u001B[0mkeras\u001B[0m\u001B[1;33m.\u001B[0m\u001B[0moptimizers\u001B[0m \u001B[1;32mimport\u001B[0m \u001B[0mAdam\u001B[0m\u001B[1;33m\u001B[0m\u001B[1;33m\u001B[0m\u001B[0m\n\u001B[1;32m----> 5\u001B[1;33m \u001B[1;32mfrom\u001B[0m \u001B[0mtensorflow\u001B[0m\u001B[1;33m.\u001B[0m\u001B[0mpython\u001B[0m\u001B[1;33m.\u001B[0m\u001B[0mkeras\u001B[0m\u001B[1;33m.\u001B[0m\u001B[0mpreprocessing\u001B[0m\u001B[1;33m.\u001B[0m\u001B[0mimage\u001B[0m \u001B[1;32mimport\u001B[0m \u001B[0mImageDataGenerator\u001B[0m\u001B[1;33m\u001B[0m\u001B[1;33m\u001B[0m\u001B[0m\n\u001B[0m\u001B[0;32m      6\u001B[0m \u001B[1;32mimport\u001B[0m \u001B[0mtensorflow\u001B[0m \u001B[1;32mas\u001B[0m \u001B[0mtf\u001B[0m\u001B[1;33m\u001B[0m\u001B[1;33m\u001B[0m\u001B[0m\n\u001B[0;32m      7\u001B[0m \u001B[1;31m#import keras_tuner as kt\u001B[0m\u001B[1;33m\u001B[0m\u001B[1;33m\u001B[0m\u001B[0m\n",
      "\u001B[1;31mModuleNotFoundError\u001B[0m: No module named 'tensorflow.python.keras.preprocessing'"
     ]
    }
   ],
   "source": [
    "from keras import Sequential, Input\n",
    "from keras.callbacks import EarlyStopping\n",
    "from keras.layers import Conv2D, BatchNormalization, MaxPooling2D, Dropout, Flatten, Dense\n",
    "from keras.optimizers import Adam\n",
    "from keras.preprocessing import image\n",
    "from keras.preprocessing.image import ImageDataGenerator\n",
    "import tensorflow as tf\n",
    "#import keras_tuner as kt\n",
    "import os"
   ]
  },
  {
   "cell_type": "markdown",
   "source": [
    "## Image scaling"
   ],
   "metadata": {
    "collapsed": false
   }
  },
  {
   "cell_type": "code",
   "execution_count": 2,
   "outputs": [],
   "source": [
    "train_datagen = ImageDataGenerator(rescale=1 / 255,\n",
    "                                   rotation_range=360,\n",
    "                                   zoom_range=0.1,\n",
    "                                   horizontal_flip=True,\n",
    "                                   validation_split=0.2)\n",
    "test_datagen = ImageDataGenerator(rescale=1 / 255)"
   ],
   "metadata": {
    "collapsed": false
   }
  },
  {
   "cell_type": "code",
   "execution_count": 5,
   "outputs": [
    {
     "name": "stdout",
     "output_type": "stream",
     "text": [
      "Found 7920 images belonging to 11 classes.\n",
      "Found 1980 images belonging to 11 classes.\n",
      "Found 1100 images belonging to 11 classes.\n"
     ]
    }
   ],
   "source": [
    "target_size = (64, 64)\n",
    "batch_size = 32\n",
    "train_data_dir = './data/food11/train'\n",
    "\n",
    "train_generator = train_datagen.flow_from_directory(train_data_dir, target_size=target_size,\n",
    "                                                    batch_size=batch_size,\n",
    "                                                    class_mode='categorical',\n",
    "                                                    subset='training')\n",
    "\n",
    "validation_generator = train_datagen.flow_from_directory(train_data_dir, target_size=target_size,\n",
    "                                                         batch_size=batch_size,\n",
    "                                                         class_mode='categorical',\n",
    "                                                         subset='validation')\n",
    "\n",
    "test_generator = test_datagen.flow_from_directory('./data/food11/test',\n",
    "                                                  target_size=target_size,\n",
    "                                                  batch_size=batch_size,\n",
    "                                                  shuffle=False,\n",
    "                                                  class_mode='categorical')"
   ],
   "metadata": {
    "collapsed": false
   }
  },
  {
   "cell_type": "markdown",
   "source": [
    "## Training"
   ],
   "metadata": {
    "collapsed": false
   }
  },
  {
   "cell_type": "code",
   "execution_count": 8,
   "outputs": [
    {
     "name": "stdout",
     "output_type": "stream",
     "text": [
      "Model: \"sequential_1\"\n",
      "_________________________________________________________________\n",
      " Layer (type)                Output Shape              Param #   \n",
      "=================================================================\n",
      " conv2d_6 (Conv2D)           (None, 62, 62, 32)        896       \n",
      "                                                                 \n",
      " batch_normalization_7 (Batc  (None, 62, 62, 32)       128       \n",
      " hNormalization)                                                 \n",
      "                                                                 \n",
      " conv2d_7 (Conv2D)           (None, 60, 60, 32)        9248      \n",
      "                                                                 \n",
      " batch_normalization_8 (Batc  (None, 60, 60, 32)       128       \n",
      " hNormalization)                                                 \n",
      "                                                                 \n",
      " max_pooling2d_3 (MaxPooling  (None, 30, 30, 32)       0         \n",
      " 2D)                                                             \n",
      "                                                                 \n",
      " dropout_5 (Dropout)         (None, 30, 30, 32)        0         \n",
      "                                                                 \n",
      " conv2d_8 (Conv2D)           (None, 28, 28, 64)        18496     \n",
      "                                                                 \n",
      " batch_normalization_9 (Batc  (None, 28, 28, 64)       256       \n",
      " hNormalization)                                                 \n",
      "                                                                 \n",
      " conv2d_9 (Conv2D)           (None, 26, 26, 64)        36928     \n",
      "                                                                 \n",
      " batch_normalization_10 (Bat  (None, 26, 26, 64)       256       \n",
      " chNormalization)                                                \n",
      "                                                                 \n",
      " max_pooling2d_4 (MaxPooling  (None, 13, 13, 64)       0         \n",
      " 2D)                                                             \n",
      "                                                                 \n",
      " dropout_6 (Dropout)         (None, 13, 13, 64)        0         \n",
      "                                                                 \n",
      " conv2d_10 (Conv2D)          (None, 11, 11, 128)       73856     \n",
      "                                                                 \n",
      " batch_normalization_11 (Bat  (None, 11, 11, 128)      512       \n",
      " chNormalization)                                                \n",
      "                                                                 \n",
      " conv2d_11 (Conv2D)          (None, 9, 9, 128)         147584    \n",
      "                                                                 \n",
      " batch_normalization_12 (Bat  (None, 9, 9, 128)        512       \n",
      " chNormalization)                                                \n",
      "                                                                 \n",
      " max_pooling2d_5 (MaxPooling  (None, 4, 4, 128)        0         \n",
      " 2D)                                                             \n",
      "                                                                 \n",
      " dropout_7 (Dropout)         (None, 4, 4, 128)         0         \n",
      "                                                                 \n",
      " flatten_1 (Flatten)         (None, 2048)              0         \n",
      "                                                                 \n",
      " dropout_8 (Dropout)         (None, 2048)              0         \n",
      "                                                                 \n",
      " dense_2 (Dense)             (None, 256)               524544    \n",
      "                                                                 \n",
      " batch_normalization_13 (Bat  (None, 256)              1024      \n",
      " chNormalization)                                                \n",
      "                                                                 \n",
      " dropout_9 (Dropout)         (None, 256)               0         \n",
      "                                                                 \n",
      " dense_3 (Dense)             (None, 11)                2827      \n",
      "                                                                 \n",
      "=================================================================\n",
      "Total params: 817,195\n",
      "Trainable params: 815,787\n",
      "Non-trainable params: 1,408\n",
      "_________________________________________________________________\n"
     ]
    }
   ],
   "source": [
    "cnn = Sequential([\n",
    "    Conv2D(filters=32, kernel_size=3, activation='relu', input_shape=train_generator.image_shape),\n",
    "    BatchNormalization(),\n",
    "    Conv2D(filters=32, kernel_size=3, activation='relu'),\n",
    "    BatchNormalization(),\n",
    "    MaxPooling2D(pool_size=2),\n",
    "    Dropout(rate=.2),\n",
    "    Conv2D(filters=64, kernel_size=3, activation='relu'),\n",
    "    BatchNormalization(),\n",
    "    Conv2D(filters=64, kernel_size=3, activation='relu'),\n",
    "    BatchNormalization(),\n",
    "    MaxPooling2D(pool_size=2),\n",
    "    Dropout(rate=.2),\n",
    "    Conv2D(filters=128, kernel_size=3, activation='relu'),\n",
    "    BatchNormalization(),\n",
    "    Conv2D(filters=128, kernel_size=3, activation='relu'),\n",
    "    BatchNormalization(),\n",
    "    MaxPooling2D(pool_size=2),\n",
    "    Dropout(rate=.2),\n",
    "    Flatten(),\n",
    "    Dropout(rate=.2),\n",
    "    Dense(units=256, activation='relu'),\n",
    "    BatchNormalization(),\n",
    "    Dropout(rate=.2),\n",
    "    Dense(units=11, activation='softmax')\n",
    "])\n",
    "\n",
    "cnn.compile(optimizer='adam', loss=tf.keras.losses.CategoricalCrossentropy(), metrics='accuracy')\n",
    "cnn.summary()"
   ],
   "metadata": {
    "collapsed": false
   }
  },
  {
   "cell_type": "code",
   "execution_count": 13,
   "outputs": [
    {
     "name": "stdout",
     "output_type": "stream",
     "text": [
      "Epoch 1/15\n",
      "247/247 [==============================] - 62s 249ms/step - loss: 1.3514 - accuracy: 0.5493 - val_loss: 1.8656 - val_accuracy: 0.4073\n",
      "Epoch 2/15\n",
      "247/247 [==============================] - 63s 254ms/step - loss: 1.3113 - accuracy: 0.5664 - val_loss: 1.9228 - val_accuracy: 0.3986\n",
      "Epoch 3/15\n",
      "247/247 [==============================] - 63s 254ms/step - loss: 1.2581 - accuracy: 0.5879 - val_loss: 1.9441 - val_accuracy: 0.4206\n",
      "Epoch 4/15\n",
      "247/247 [==============================] - 63s 255ms/step - loss: 1.2033 - accuracy: 0.6060 - val_loss: 1.4866 - val_accuracy: 0.5200\n",
      "Epoch 5/15\n",
      "247/247 [==============================] - 66s 267ms/step - loss: 1.1701 - accuracy: 0.6171 - val_loss: 1.8953 - val_accuracy: 0.4493\n",
      "Epoch 6/15\n",
      "247/247 [==============================] - 62s 252ms/step - loss: 1.1468 - accuracy: 0.6202 - val_loss: 2.0679 - val_accuracy: 0.4073\n",
      "Epoch 7/15\n",
      "247/247 [==============================] - 67s 269ms/step - loss: 1.1103 - accuracy: 0.6337 - val_loss: 1.4741 - val_accuracy: 0.5323\n",
      "Epoch 8/15\n",
      "247/247 [==============================] - 62s 252ms/step - loss: 1.0781 - accuracy: 0.6395 - val_loss: 1.4681 - val_accuracy: 0.5451\n",
      "Epoch 9/15\n",
      "247/247 [==============================] - 65s 263ms/step - loss: 1.0229 - accuracy: 0.6620 - val_loss: 1.4257 - val_accuracy: 0.5456\n",
      "Epoch 10/15\n",
      "247/247 [==============================] - 63s 255ms/step - loss: 0.9917 - accuracy: 0.6780 - val_loss: 1.3697 - val_accuracy: 0.5692\n",
      "Epoch 11/15\n",
      "247/247 [==============================] - 72s 290ms/step - loss: 0.9597 - accuracy: 0.6808 - val_loss: 1.3481 - val_accuracy: 0.5809\n",
      "Epoch 12/15\n",
      "247/247 [==============================] - 63s 255ms/step - loss: 0.9127 - accuracy: 0.6951 - val_loss: 1.4372 - val_accuracy: 0.5651\n",
      "Epoch 13/15\n",
      "247/247 [==============================] - 67s 271ms/step - loss: 0.9090 - accuracy: 0.6983 - val_loss: 1.3975 - val_accuracy: 0.5676\n",
      "Epoch 14/15\n",
      "247/247 [==============================] - 63s 254ms/step - loss: 0.8711 - accuracy: 0.7135 - val_loss: 1.6628 - val_accuracy: 0.5195\n",
      "Epoch 15/15\n",
      "247/247 [==============================] - 65s 263ms/step - loss: 0.8580 - accuracy: 0.7163 - val_loss: 1.8256 - val_accuracy: 0.4518\n"
     ]
    }
   ],
   "source": [
    "steps_per_epoch = train_generator.n // train_generator.batch_size\n",
    "validation_steps = validation_generator.n // validation_generator.batch_size\n",
    "\n",
    "callbacks = [\n",
    "    EarlyStopping(min_delta=.005, monitor='val_accuracy', patience=10, restore_best_weights=True)\n",
    "]\n",
    "\n",
    "history = cnn.fit(train_generator,\n",
    "                    steps_per_epoch=steps_per_epoch,\n",
    "                    batch_size=32,\n",
    "                    epochs=15,\n",
    "                    validation_data=validation_generator,\n",
    "                    validation_steps=validation_steps)"
   ],
   "metadata": {
    "collapsed": false
   }
  },
  {
   "cell_type": "code",
   "execution_count": 14,
   "outputs": [
    {
     "data": {
      "text/plain": "<AxesSubplot:>"
     },
     "execution_count": 14,
     "metadata": {},
     "output_type": "execute_result"
    },
    {
     "data": {
      "text/plain": "<Figure size 640x480 with 1 Axes>",
      "image/png": "[encoded data removed]"
     },
     "metadata": {},
     "output_type": "display_data"
    }
   ],
   "source": [
    "import seaborn as sns\n",
    "sns.lineplot(data=history.history)"
   ],
   "metadata": {
    "collapsed": false
   }
  },
  {
   "cell_type": "code",
   "execution_count": 29,
   "outputs": [],
   "source": [
    "from keras.preprocessing import image\n",
    "import numpy as np\n",
    "def prepare_image(path):\n",
    "    img = image.load_img(path, target_size=target_size)\n",
    "    img_array = image.img_to_array(img) / 255\n",
    "    return np.expand_dims(img_array, axis=0)"
   ],
   "metadata": {
    "collapsed": false
   }
  },
  {
   "cell_type": "code",
   "execution_count": 30,
   "outputs": [
    {
     "ename": "AttributeError",
     "evalue": "module 'keras.preprocessing.image' has no attribute 'load_img'",
     "output_type": "error",
     "traceback": [
      "\u001B[1;31m---------------------------------------------------------------------------\u001B[0m",
      "\u001B[1;31mAttributeError\u001B[0m                            Traceback (most recent call last)",
      "\u001B[1;32m~\\AppData\\Local\\Temp\\ipykernel_9872\\3973426862.py\u001B[0m in \u001B[0;36m<module>\u001B[1;34m\u001B[0m\n\u001B[1;32m----> 1\u001B[1;33m \u001B[0mcnn\u001B[0m\u001B[1;33m.\u001B[0m\u001B[0mpredict\u001B[0m\u001B[1;33m(\u001B[0m\u001B[0mprepare_image\u001B[0m\u001B[1;33m(\u001B[0m\u001B[1;34m'./data/pizza.png'\u001B[0m\u001B[1;33m)\u001B[0m\u001B[1;33m)\u001B[0m\u001B[1;33m\u001B[0m\u001B[1;33m\u001B[0m\u001B[0m\n\u001B[0m",
      "\u001B[1;32m~\\AppData\\Local\\Temp\\ipykernel_9872\\3743710854.py\u001B[0m in \u001B[0;36mprepare_image\u001B[1;34m(path)\u001B[0m\n\u001B[0;32m      2\u001B[0m \u001B[1;32mimport\u001B[0m \u001B[0mnumpy\u001B[0m \u001B[1;32mas\u001B[0m \u001B[0mnp\u001B[0m\u001B[1;33m\u001B[0m\u001B[1;33m\u001B[0m\u001B[0m\n\u001B[0;32m      3\u001B[0m \u001B[1;32mdef\u001B[0m \u001B[0mprepare_image\u001B[0m\u001B[1;33m(\u001B[0m\u001B[0mpath\u001B[0m\u001B[1;33m)\u001B[0m\u001B[1;33m:\u001B[0m\u001B[1;33m\u001B[0m\u001B[1;33m\u001B[0m\u001B[0m\n\u001B[1;32m----> 4\u001B[1;33m     \u001B[0mimg\u001B[0m \u001B[1;33m=\u001B[0m \u001B[0mimage\u001B[0m\u001B[1;33m.\u001B[0m\u001B[0mload_img\u001B[0m\u001B[1;33m(\u001B[0m\u001B[0mpath\u001B[0m\u001B[1;33m,\u001B[0m \u001B[0mtarget_size\u001B[0m\u001B[1;33m=\u001B[0m\u001B[0mtarget_size\u001B[0m\u001B[1;33m)\u001B[0m\u001B[1;33m\u001B[0m\u001B[1;33m\u001B[0m\u001B[0m\n\u001B[0m\u001B[0;32m      5\u001B[0m     \u001B[0mimg_array\u001B[0m \u001B[1;33m=\u001B[0m \u001B[0mimage\u001B[0m\u001B[1;33m.\u001B[0m\u001B[0mimg_to_array\u001B[0m\u001B[1;33m(\u001B[0m\u001B[0mimg\u001B[0m\u001B[1;33m)\u001B[0m \u001B[1;33m/\u001B[0m \u001B[1;36m255\u001B[0m\u001B[1;33m\u001B[0m\u001B[1;33m\u001B[0m\u001B[0m\n\u001B[0;32m      6\u001B[0m     \u001B[1;32mreturn\u001B[0m \u001B[0mnp\u001B[0m\u001B[1;33m.\u001B[0m\u001B[0mexpand_dims\u001B[0m\u001B[1;33m(\u001B[0m\u001B[0mimg_array\u001B[0m\u001B[1;33m,\u001B[0m \u001B[0maxis\u001B[0m\u001B[1;33m=\u001B[0m\u001B[1;36m0\u001B[0m\u001B[1;33m)\u001B[0m\u001B[1;33m\u001B[0m\u001B[1;33m\u001B[0m\u001B[0m\n",
      "\u001B[1;31mAttributeError\u001B[0m: module 'keras.preprocessing.image' has no attribute 'load_img'"
     ]
    }
   ],
   "source": [
    "cnn.predict(prepare_image('./data/pizza.png'))"
   ],
   "metadata": {
    "collapsed": false
   }
  },
  {
   "cell_type": "markdown",
   "source": [
    "## Finding a better model"
   ],
   "metadata": {
    "collapsed": false
   }
  },
  {
   "cell_type": "code",
   "execution_count": null,
   "outputs": [],
   "source": [
    "def create_model(hp: kt.HyperParameters):\n",
    "    model = Sequential([\n",
    "        Input(shape=train_generator.image_shape)\n",
    "    ])\n",
    "\n",
    "    dropout = hp.Float('dropout', min_value=0.2, max_value=0.5, step=0.1)\n",
    "    first_filters = hp.Choice('first_filters', values=[16, 32, 64])\n",
    "    conv_layers = hp.Int('conv_layers', min_value=1, max_value=3, step=1)\n",
    "\n",
    "    for i in range(conv_layers):\n",
    "        model.add(Conv2D(filters=2 ** i * first_filters, kernel_size=3, activation='relu'))\n",
    "        model.add(BatchNormalization())\n",
    "        model.add(Conv2D(filters=2 ** i * first_filters, kernel_size=3, activation='relu'))\n",
    "        model.add(BatchNormalization())\n",
    "        model.add(MaxPooling2D(pool_size=2))\n",
    "        model.add(Dropout(rate=dropout))\n",
    "\n",
    "    model.add(Flatten())\n",
    "    model.add(Dropout(rate=dropout))\n",
    "\n",
    "    dense_layers = hp.Int('dense_layers', min_value=1, max_value=3, step=1)\n",
    "    dense_units = hp.Choice('dense_units', values=[64, 128, 256])\n",
    "\n",
    "    for i in range(dense_layers):\n",
    "        model.add(Dense(units=dense_units, activation='relu'))\n",
    "        model.add(BatchNormalization())\n",
    "        model.add(Dropout(rate=dropout))\n",
    "\n",
    "    model.add(Dense(units=1, activation='sigmoid'))\n",
    "\n",
    "    learning_rate = hp.Choice('learning_rate', values=[1e-2, 1e-3, 1e-4])\n",
    "    model.compile(optimizer=Adam(learning_rate=learning_rate),\n",
    "                  loss='binary_crossentropy',\n",
    "                  metrics=['accuracy'])\n",
    "\n",
    "    return model"
   ],
   "metadata": {
    "collapsed": false
   }
  },
  {
   "cell_type": "code",
   "execution_count": null,
   "outputs": [],
   "source": [
    "tuner = kt.Hyperband(create_model,\n",
    "                     objective='val_accuracy',\n",
    "                     max_epochs=10,\n",
    "                     directory=os.path.normpath('C:/'),\n",
    "                     project_name='')\n",
    "\n",
    "callbacks = [\n",
    "    EarlyStopping(monitor='val_loss', patience=5)\n",
    "]\n",
    "\n",
    "tuner.search(train_generator,\n",
    "             steps_per_epoch=steps_per_epoch,\n",
    "             epochs=20,\n",
    "             callbacks=callbacks,\n",
    "             validation_data=validation_generator,\n",
    "             validation_steps=validation_steps)"
   ],
   "metadata": {
    "collapsed": false
   }
  },
  {
   "cell_type": "code",
   "execution_count": null,
   "outputs": [],
   "source": [],
   "metadata": {
    "collapsed": false
   }
  }
 ],
 "metadata": {
  "kernelspec": {
   "display_name": "Python 3",
   "language": "python",
   "name": "python3"
  },
  "language_info": {
   "codemirror_mode": {
    "name": "ipython",
    "version": 2
   },
   "file_extension": ".py",
   "mimetype": "text/x-python",
   "name": "python",
   "nbconvert_exporter": "python",
   "pygments_lexer": "ipython2",
   "version": "2.7.6"
  }
 },
 "nbformat": 4,
 "nbformat_minor": 0
}
