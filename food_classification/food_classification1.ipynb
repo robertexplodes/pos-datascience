{
 "cells": [
  {
   "cell_type": "code",
   "execution_count": 12,
   "metadata": {},
   "outputs": [],
   "source": [
    "import tensorflow as tf\n",
    "from keras import Input\n",
    "from tensorflow.python.keras.callbacks import EarlyStopping\n",
    "from tensorflow.python.keras.engine.input_layer import InputLayer\n",
    "from tensorflow.python.keras.layers import Conv2D, MaxPooling2D, Dropout, Flatten, Dense, BatchNormalization\n",
    "from keras.preprocessing import image\n",
    "# from tensorflow.python.keras.models import Sequential\n",
    "from tensorflow.keras.models import Sequential\n",
    "from tensorflow.python.keras.preprocessing.image import ImageDataGenerator\n",
    "import keras_tuner as kt\n",
    "import numpy as np"
   ]
  },
  {
   "cell_type": "code",
   "execution_count": 3,
   "metadata": {
    "scrolled": true
   },
   "outputs": [
    {
     "data": {
      "text/plain": [
       "[PhysicalDevice(name='/physical_device:GPU:0', device_type='GPU')]"
      ]
     },
     "execution_count": 3,
     "metadata": {},
     "output_type": "execute_result"
    }
   ],
   "source": [
    "tf.config.list_physical_devices(\"GPU\")"
   ]
  },
  {
   "cell_type": "code",
   "execution_count": 4,
   "metadata": {},
   "outputs": [],
   "source": [
    "train_datagen = ImageDataGenerator(rescale=1 / 255,\n",
    "                                   rotation_range=10,\n",
    "                                   zoom_range=0.1,\n",
    "                                   horizontal_flip=True,\n",
    "                                   validation_split=0.2)\n",
    "test_datagen = ImageDataGenerator(rescale=1 / 255)"
   ]
  },
  {
   "cell_type": "code",
   "execution_count": 5,
   "metadata": {},
   "outputs": [
    {
     "name": "stdout",
     "output_type": "stream",
     "text": [
      "Found 7920 images belonging to 11 classes.\n",
      "Found 1980 images belonging to 11 classes.\n",
      "Found 1100 images belonging to 11 classes.\n"
     ]
    }
   ],
   "source": [
    "target_size = (64, 64)\n",
    "batch_size = 32\n",
    "train_data_dir = './data/food11/train'\n",
    "\n",
    "train_generator = train_datagen.flow_from_directory(train_data_dir, target_size=target_size,\n",
    "                                                    batch_size=batch_size,\n",
    "                                                    class_mode='categorical',\n",
    "                                                    subset='training')\n",
    "\n",
    "validation_generator = train_datagen.flow_from_directory(train_data_dir, target_size=target_size,\n",
    "                                                         batch_size=batch_size,\n",
    "                                                         class_mode='categorical',\n",
    "                                                         subset='validation')\n",
    "\n",
    "test_generator = test_datagen.flow_from_directory('./data/food11/test',\n",
    "                                                  target_size=target_size,\n",
    "                                                  batch_size=batch_size,\n",
    "                                                  shuffle=False,\n",
    "                                                  class_mode='categorical')"
   ]
  },
  {
   "cell_type": "markdown",
   "metadata": {},
   "source": [
    "## Training"
   ]
  },
  {
   "cell_type": "code",
   "execution_count": 29,
   "metadata": {},
   "outputs": [],
   "source": [
    "cnn = Sequential([\n",
    "    Conv2D(filters=32, kernel_size=3, activation='relu', input_shape=train_generator.image_shape),\n",
    "    BatchNormalization(),\n",
    "    Conv2D(filters=32, kernel_size=3, activation='relu'),\n",
    "    BatchNormalization(),\n",
    "    MaxPooling2D(pool_size=2),\n",
    "    Dropout(rate=.2),\n",
    "    Conv2D(filters=64, kernel_size=3, activation='relu'),\n",
    "    BatchNormalization(),\n",
    "    Conv2D(filters=64, kernel_size=3, activation='relu'),\n",
    "    BatchNormalization(),\n",
    "    MaxPooling2D(pool_size=2),\n",
    "    Dropout(rate=.2),\n",
    "    Conv2D(filters=128, kernel_size=3, activation='relu'),\n",
    "    BatchNormalization(),\n",
    "    Conv2D(filters=128, kernel_size=3, activation='relu'),\n",
    "    BatchNormalization(),\n",
    "    MaxPooling2D(pool_size=2),\n",
    "    Dropout(rate=.2),\n",
    "    Flatten(),\n",
    "    Dropout(rate=.2),\n",
    "    Dense(units=256, activation='relu'),\n",
    "    BatchNormalization(),\n",
    "    Dropout(rate=.2),\n",
    "    Dense(units=11, activation='softmax')\n",
    "])\n",
    "cnn.compile(optimizer='adam', loss=tf.keras.losses.CategoricalCrossentropy(), metrics='accuracy')"
   ]
  },
  {
   "cell_type": "code",
   "execution_count": 6,
   "metadata": {},
   "outputs": [
    {
     "ename": "NameError",
     "evalue": "name 'cnn' is not defined",
     "output_type": "error",
     "traceback": [
      "\u001B[1;31m---------------------------------------------------------------------------\u001B[0m",
      "\u001B[1;31mNameError\u001B[0m                                 Traceback (most recent call last)",
      "\u001B[1;32mD:\\Temp\\ipykernel_10432\\1215369764.py\u001B[0m in \u001B[0;36m<module>\u001B[1;34m\u001B[0m\n\u001B[0;32m      6\u001B[0m ]\n\u001B[0;32m      7\u001B[0m \u001B[1;33m\u001B[0m\u001B[0m\n\u001B[1;32m----> 8\u001B[1;33m history = cnn.fit(train_generator,\n\u001B[0m\u001B[0;32m      9\u001B[0m                   \u001B[0msteps_per_epoch\u001B[0m\u001B[1;33m=\u001B[0m\u001B[0msteps_per_epoch\u001B[0m\u001B[1;33m,\u001B[0m\u001B[1;33m\u001B[0m\u001B[1;33m\u001B[0m\u001B[0m\n\u001B[0;32m     10\u001B[0m                   \u001B[0mbatch_size\u001B[0m\u001B[1;33m=\u001B[0m\u001B[1;36m32\u001B[0m\u001B[1;33m,\u001B[0m\u001B[1;33m\u001B[0m\u001B[1;33m\u001B[0m\u001B[0m\n",
      "\u001B[1;31mNameError\u001B[0m: name 'cnn' is not defined"
     ]
    }
   ],
   "source": [
    "steps_per_epoch = train_generator.n // train_generator.batch_size\n",
    "validation_steps = validation_generator.n // validation_generator.batch_size\n",
    "\n",
    "callbacks = [\n",
    "    EarlyStopping(min_delta=.005, monitor='val_accuracy', patience=10, restore_best_weights=True)\n",
    "]\n",
    "\n",
    "history = cnn.fit(train_generator,\n",
    "                  steps_per_epoch=steps_per_epoch,\n",
    "                  batch_size=32,\n",
    "                  epochs=30,\n",
    "                  workers=-1,\n",
    "                  validation_data=validation_generator,\n",
    "                  validation_steps=validation_steps)"
   ]
  },
  {
   "cell_type": "code",
   "execution_count": 24,
   "metadata": {},
   "outputs": [
    {
     "data": {
      "text/plain": [
       "<matplotlib.axes._subplots.AxesSubplot at 0x1d0be1f1e48>"
      ]
     },
     "execution_count": 24,
     "metadata": {},
     "output_type": "execute_result"
    },
    {
     "data": {
      "image/png": "[encoded data removed]",
      "text/plain": [
       "<Figure size 640x480 with 1 Axes>"
      ]
     },
     "metadata": {},
     "output_type": "display_data"
    }
   ],
   "source": [
    "import seaborn as sns\n",
    "sns.lineplot(data=history.history)"
   ]
  },
  {
   "cell_type": "code",
   "execution_count": null,
   "metadata": {},
   "outputs": [],
   "source": []
  },
  {
   "cell_type": "markdown",
   "metadata": {},
   "source": [
    "## Hyperparametertuning"
   ]
  },
  {
   "cell_type": "code",
   "execution_count": 5,
   "metadata": {},
   "outputs": [],
   "source": [
    "def create_model(hp: kt.HyperParameters):\n",
    "    model = Sequential()\n",
    "\n",
    "    dropout = hp.Float('dropout', min_value=0.2, max_value=0.5, step=0.1)\n",
    "    first_filters = hp.Choice('first_filters', values=[16, 32, 64])\n",
    "    conv_layers = hp.Int('conv_layers', min_value=1, max_value=4, step=1)\n",
    "\n",
    "    for i in range(conv_layers):\n",
    "        model.add(Conv2D(filters=2 ** i * first_filters, kernel_size=3, activation='relu'))\n",
    "        model.add(BatchNormalization())\n",
    "        model.add(Conv2D(filters=2 ** i * first_filters, kernel_size=3, activation='relu'))\n",
    "        model.add(BatchNormalization())\n",
    "        model.add(MaxPooling2D(pool_size=2))\n",
    "        model.add(Dropout(rate=dropout))\n",
    "\n",
    "    model.add(Flatten())\n",
    "    model.add(Dropout(rate=dropout))\n",
    "\n",
    "    dense_layers = hp.Int('dense_layers', min_value=1, max_value=4, step=1)\n",
    "    dense_units = hp.Choice('dense_units', values=[64, 128, 256])\n",
    "\n",
    "    for i in range(dense_layers):\n",
    "        model.add(Dense(units=dense_units, activation='relu'))\n",
    "        model.add(BatchNormalization())\n",
    "        model.add(Dropout(rate=dropout))\n",
    "\n",
    "    model.add(Dense(units=11, activation='softmax'))\n",
    "\n",
    "    model.compile(optimizer='adam',\n",
    "                  loss=tf.keras.losses.CategoricalCrossentropy(),\n",
    "                  metrics=['accuracy'])\n",
    "\n",
    "    return model"
   ]
  },
  {
   "cell_type": "code",
   "execution_count": null,
   "metadata": {
    "scrolled": true
   },
   "outputs": [
    {
     "name": "stdout",
     "output_type": "stream",
     "text": [
      "INFO:tensorflow:Reloading Oracle from existing project D:\\Flo\\Python\\schule_pos\\food_classification\\oracle.json\n",
      "INFO:tensorflow:Reloading Tuner from D:\\Flo\\Python\\schule_pos\\food_classification\\tuner0.json\n",
      "\n",
      "Search: Running Trial #29\n",
      "\n",
      "Value             |Best Value So Far |Hyperparameter\n",
      "0.4               |0.3               |dropout\n",
      "16                |16                |first_filters\n",
      "4                 |2                 |conv_layers\n",
      "4                 |2                 |dense_layers\n",
      "128               |256               |dense_units\n",
      "10                |10                |tuner/epochs\n",
      "0                 |4                 |tuner/initial_epoch\n",
      "0                 |1                 |tuner/bracket\n",
      "0                 |1                 |tuner/round\n",
      "\n",
      "Epoch 1/10\n"
     ]
    }
   ],
   "source": [
    "import os\n",
    "\n",
    "tuner = kt.Hyperband(create_model,\n",
    "                     objective='val_accuracy',\n",
    "                     max_epochs=10,\n",
    "                     directory=os.path.normpath('D:/Flo/Python/schule_pos'),\n",
    "                     project_name='food_classification')\n",
    "\n",
    "callbacks = [\n",
    "    EarlyStopping(monitor='val_loss', patience=10)\n",
    "]\n",
    "\n",
    "tuner.search(train_generator,\n",
    "             steps_per_epoch=steps_per_epoch,\n",
    "             epochs=20,\n",
    "             callbacks=callbacks,\n",
    "             validation_data=validation_generator,\n",
    "             validation_steps=validation_steps)"
   ]
  },
  {
   "cell_type": "code",
   "execution_count": null,
   "metadata": {},
   "outputs": [],
   "source": [
    "best_hps = tuner.get_best_hyperparameters(1)[0]"
   ]
  },
  {
   "cell_type": "markdown",
   "metadata": {},
   "source": [
    "I got a \"Dead Kernel\" error after more than an hour of finding the best hyperparameters. I just built the cnn with the best values so far."
   ]
  },
  {
   "cell_type": "markdown",
   "metadata": {},
   "source": [
    "## Retrainging Model with best Hyperparameters"
   ]
  },
  {
   "cell_type": "code",
   "execution_count": 7,
   "metadata": {},
   "outputs": [],
   "source": [
    "model = Sequential([\n",
    "    Conv2D(filters=32, kernel_size=3, activation='relu', input_shape=train_generator.image_shape),\n",
    "    BatchNormalization(),\n",
    "    Conv2D(filters=32, kernel_size=3, activation='relu'),\n",
    "    BatchNormalization(),\n",
    "    MaxPooling2D(pool_size=2),\n",
    "    Dropout(rate=.3),\n",
    "    Conv2D(filters=64, kernel_size=3, activation='relu'),\n",
    "    BatchNormalization(),\n",
    "    Conv2D(filters=64, kernel_size=3, activation='relu'),\n",
    "    BatchNormalization(),\n",
    "    MaxPooling2D(pool_size=2),\n",
    "    Dropout(rate=.3),\n",
    "    Conv2D(filters=128, kernel_size=3, activation='relu'),\n",
    "    BatchNormalization(),\n",
    "    Conv2D(filters=128, kernel_size=3, activation='relu'),\n",
    "    BatchNormalization(),\n",
    "    MaxPooling2D(pool_size=2),\n",
    "    Dropout(rate=.3),\n",
    "    Flatten(),\n",
    "    Dropout(rate=.3),\n",
    "    Dense(units=256, activation='relu'),\n",
    "    BatchNormalization(),\n",
    "    Dropout(rate=.3),\n",
    "    Dense(units=256, activation='relu'),\n",
    "    BatchNormalization(),\n",
    "    Dropout(rate=.3),\n",
    "    Dense(units=11, activation='softmax')\n",
    "])\n",
    "model.compile(optimizer='adam', loss=tf.keras.losses.CategoricalCrossentropy(), metrics='accuracy')"
   ]
  },
  {
   "cell_type": "code",
   "execution_count": 8,
   "metadata": {},
   "outputs": [
    {
     "name": "stdout",
     "output_type": "stream",
     "text": [
      "Epoch 1/100\n",
      "247/247 [==============================] - 171s 683ms/step - loss: 2.7736 - accuracy: 0.1507 - val_loss: 2.9879 - val_accuracy: 0.1255\n",
      "Epoch 2/100\n",
      "247/247 [==============================] - 35s 143ms/step - loss: 2.3233 - accuracy: 0.2231 - val_loss: 2.4078 - val_accuracy: 0.1819\n",
      "Epoch 3/100\n",
      "247/247 [==============================] - 34s 140ms/step - loss: 2.1710 - accuracy: 0.2608 - val_loss: 2.1880 - val_accuracy: 0.2720\n",
      "Epoch 4/100\n",
      "247/247 [==============================] - 36s 145ms/step - loss: 2.0601 - accuracy: 0.2935 - val_loss: 2.1190 - val_accuracy: 0.2818\n",
      "Epoch 5/100\n",
      "247/247 [==============================] - 35s 142ms/step - loss: 1.9549 - accuracy: 0.3302 - val_loss: 2.0682 - val_accuracy: 0.3089\n",
      "Epoch 6/100\n",
      "247/247 [==============================] - 34s 138ms/step - loss: 1.8912 - accuracy: 0.3564 - val_loss: 2.3301 - val_accuracy: 0.2802\n",
      "Epoch 7/100\n",
      "247/247 [==============================] - 34s 138ms/step - loss: 1.8077 - accuracy: 0.3834 - val_loss: 3.3326 - val_accuracy: 0.2264\n",
      "Epoch 8/100\n",
      "247/247 [==============================] - 34s 137ms/step - loss: 1.7328 - accuracy: 0.4191 - val_loss: 1.8917 - val_accuracy: 0.3678\n",
      "Epoch 9/100\n",
      "247/247 [==============================] - 34s 138ms/step - loss: 1.6706 - accuracy: 0.4428 - val_loss: 2.0192 - val_accuracy: 0.3345\n",
      "Epoch 10/100\n",
      "247/247 [==============================] - 35s 141ms/step - loss: 1.6166 - accuracy: 0.4670 - val_loss: 2.0848 - val_accuracy: 0.3473\n",
      "Epoch 11/100\n",
      "247/247 [==============================] - 35s 142ms/step - loss: 1.5674 - accuracy: 0.4791 - val_loss: 3.2629 - val_accuracy: 0.2234\n",
      "Epoch 12/100\n",
      "247/247 [==============================] - 34s 139ms/step - loss: 1.5331 - accuracy: 0.4958 - val_loss: 1.5330 - val_accuracy: 0.4857\n",
      "Epoch 13/100\n",
      "247/247 [==============================] - 34s 139ms/step - loss: 1.4747 - accuracy: 0.5158 - val_loss: 1.5336 - val_accuracy: 0.4985\n",
      "Epoch 14/100\n",
      "247/247 [==============================] - 34s 138ms/step - loss: 1.4445 - accuracy: 0.5257 - val_loss: 1.8112 - val_accuracy: 0.4175\n",
      "Epoch 15/100\n",
      "247/247 [==============================] - 34s 138ms/step - loss: 1.3981 - accuracy: 0.5407 - val_loss: 1.6796 - val_accuracy: 0.4524\n",
      "Epoch 16/100\n",
      "247/247 [==============================] - 34s 138ms/step - loss: 1.3665 - accuracy: 0.5488 - val_loss: 1.5058 - val_accuracy: 0.5159\n",
      "Epoch 17/100\n",
      "247/247 [==============================] - 34s 138ms/step - loss: 1.3427 - accuracy: 0.5595 - val_loss: 1.7202 - val_accuracy: 0.4790\n",
      "Epoch 18/100\n",
      "247/247 [==============================] - 34s 139ms/step - loss: 1.3073 - accuracy: 0.5737 - val_loss: 1.5893 - val_accuracy: 0.4841\n",
      "Epoch 19/100\n",
      "247/247 [==============================] - 34s 137ms/step - loss: 1.2797 - accuracy: 0.5853 - val_loss: 2.0839 - val_accuracy: 0.4134\n",
      "Epoch 20/100\n",
      "247/247 [==============================] - 34s 138ms/step - loss: 1.2488 - accuracy: 0.5934 - val_loss: 1.6763 - val_accuracy: 0.4682\n",
      "Epoch 21/100\n",
      "247/247 [==============================] - 34s 137ms/step - loss: 1.2251 - accuracy: 0.6051 - val_loss: 1.7835 - val_accuracy: 0.4493\n",
      "Epoch 22/100\n",
      "247/247 [==============================] - 34s 138ms/step - loss: 1.2098 - accuracy: 0.5994 - val_loss: 1.8513 - val_accuracy: 0.4022\n",
      "Epoch 23/100\n",
      "247/247 [==============================] - 34s 138ms/step - loss: 1.1809 - accuracy: 0.6132 - val_loss: 1.4111 - val_accuracy: 0.5482\n",
      "Epoch 24/100\n",
      "247/247 [==============================] - 34s 138ms/step - loss: 1.1512 - accuracy: 0.6265 - val_loss: 1.6040 - val_accuracy: 0.5051\n",
      "Epoch 25/100\n",
      "247/247 [==============================] - 35s 141ms/step - loss: 1.1282 - accuracy: 0.6336 - val_loss: 1.5917 - val_accuracy: 0.4974\n",
      "Epoch 26/100\n",
      "247/247 [==============================] - 34s 139ms/step - loss: 1.1165 - accuracy: 0.6354 - val_loss: 1.4027 - val_accuracy: 0.5697\n",
      "Epoch 27/100\n",
      "247/247 [==============================] - 34s 137ms/step - loss: 1.0770 - accuracy: 0.6416 - val_loss: 1.5038 - val_accuracy: 0.5302\n",
      "Epoch 28/100\n",
      "247/247 [==============================] - 34s 136ms/step - loss: 1.0803 - accuracy: 0.6436 - val_loss: 1.6391 - val_accuracy: 0.5072\n",
      "Epoch 29/100\n",
      "247/247 [==============================] - 34s 136ms/step - loss: 1.0501 - accuracy: 0.6573 - val_loss: 1.4829 - val_accuracy: 0.5287\n",
      "Epoch 30/100\n",
      "247/247 [==============================] - 34s 136ms/step - loss: 1.0233 - accuracy: 0.6638 - val_loss: 1.4724 - val_accuracy: 0.5353\n",
      "Epoch 31/100\n",
      "247/247 [==============================] - 33s 136ms/step - loss: 1.0168 - accuracy: 0.6682 - val_loss: 1.3922 - val_accuracy: 0.5589\n",
      "Epoch 32/100\n",
      "247/247 [==============================] - 34s 138ms/step - loss: 0.9764 - accuracy: 0.6837 - val_loss: 1.3749 - val_accuracy: 0.5753\n",
      "Epoch 33/100\n",
      "247/247 [==============================] - 34s 138ms/step - loss: 0.9844 - accuracy: 0.6789 - val_loss: 1.5130 - val_accuracy: 0.5261\n",
      "Epoch 34/100\n",
      "247/247 [==============================] - 34s 137ms/step - loss: 0.9759 - accuracy: 0.6796 - val_loss: 1.4718 - val_accuracy: 0.5666\n",
      "Epoch 35/100\n",
      "247/247 [==============================] - 34s 136ms/step - loss: 0.9593 - accuracy: 0.6884 - val_loss: 1.5434 - val_accuracy: 0.5369\n",
      "Epoch 36/100\n",
      "247/247 [==============================] - 33s 135ms/step - loss: 0.9240 - accuracy: 0.6923 - val_loss: 1.3933 - val_accuracy: 0.5748\n",
      "Epoch 37/100\n",
      "247/247 [==============================] - 33s 135ms/step - loss: 0.9277 - accuracy: 0.6897 - val_loss: 1.4758 - val_accuracy: 0.5451\n",
      "Epoch 38/100\n",
      "247/247 [==============================] - 33s 135ms/step - loss: 0.9090 - accuracy: 0.6987 - val_loss: 1.3595 - val_accuracy: 0.5722\n",
      "Epoch 39/100\n",
      "247/247 [==============================] - 34s 137ms/step - loss: 0.8776 - accuracy: 0.7078 - val_loss: 1.3238 - val_accuracy: 0.6025\n",
      "Epoch 40/100\n",
      "247/247 [==============================] - 34s 137ms/step - loss: 0.8818 - accuracy: 0.7087 - val_loss: 1.2811 - val_accuracy: 0.6199\n",
      "Epoch 41/100\n",
      "247/247 [==============================] - 34s 137ms/step - loss: 0.8700 - accuracy: 0.7142 - val_loss: 1.4687 - val_accuracy: 0.5779\n",
      "Epoch 42/100\n",
      "247/247 [==============================] - 37s 148ms/step - loss: 0.8444 - accuracy: 0.7208 - val_loss: 1.3237 - val_accuracy: 0.5948\n",
      "Epoch 43/100\n",
      "247/247 [==============================] - 35s 141ms/step - loss: 0.8707 - accuracy: 0.7097 - val_loss: 1.4586 - val_accuracy: 0.5594\n",
      "Epoch 44/100\n",
      "247/247 [==============================] - 34s 139ms/step - loss: 0.8230 - accuracy: 0.7263 - val_loss: 1.6060 - val_accuracy: 0.5394\n",
      "Epoch 45/100\n",
      "247/247 [==============================] - 34s 138ms/step - loss: 0.8004 - accuracy: 0.7349 - val_loss: 1.4193 - val_accuracy: 0.5871\n",
      "Epoch 46/100\n",
      "247/247 [==============================] - 34s 138ms/step - loss: 0.8264 - accuracy: 0.7300 - val_loss: 1.4655 - val_accuracy: 0.5753\n",
      "Epoch 47/100\n",
      "247/247 [==============================] - 34s 138ms/step - loss: 0.8002 - accuracy: 0.7301 - val_loss: 1.3980 - val_accuracy: 0.5984\n",
      "Epoch 48/100\n",
      "247/247 [==============================] - 34s 138ms/step - loss: 0.7803 - accuracy: 0.7382 - val_loss: 1.2957 - val_accuracy: 0.6132\n",
      "Epoch 49/100\n",
      "247/247 [==============================] - 34s 139ms/step - loss: 0.7797 - accuracy: 0.7400 - val_loss: 1.4857 - val_accuracy: 0.5686\n",
      "Epoch 50/100\n",
      "247/247 [==============================] - 34s 138ms/step - loss: 0.7664 - accuracy: 0.7423 - val_loss: 1.2956 - val_accuracy: 0.6235\n",
      "Epoch 51/100\n",
      "247/247 [==============================] - 34s 137ms/step - loss: 0.7553 - accuracy: 0.7471 - val_loss: 1.4083 - val_accuracy: 0.5789\n",
      "Epoch 52/100\n",
      "247/247 [==============================] - 35s 140ms/step - loss: 0.7385 - accuracy: 0.7553 - val_loss: 1.5214 - val_accuracy: 0.5697\n",
      "Epoch 53/100\n",
      "247/247 [==============================] - 34s 139ms/step - loss: 0.7440 - accuracy: 0.7527 - val_loss: 1.3483 - val_accuracy: 0.6255\n",
      "Epoch 54/100\n",
      "247/247 [==============================] - 34s 137ms/step - loss: 0.7431 - accuracy: 0.7454 - val_loss: 1.3602 - val_accuracy: 0.6153\n",
      "Epoch 55/100\n",
      "247/247 [==============================] - 34s 138ms/step - loss: 0.7130 - accuracy: 0.7648 - val_loss: 1.3256 - val_accuracy: 0.6194\n",
      "Epoch 56/100\n",
      "247/247 [==============================] - 34s 138ms/step - loss: 0.6985 - accuracy: 0.7660 - val_loss: 1.4954 - val_accuracy: 0.5774\n"
     ]
    },
    {
     "name": "stdout",
     "output_type": "stream",
     "text": [
      "Epoch 57/100\n",
      "247/247 [==============================] - 34s 137ms/step - loss: 0.6824 - accuracy: 0.7719 - val_loss: 1.7156 - val_accuracy: 0.5476\n",
      "Epoch 58/100\n",
      "247/247 [==============================] - 34s 137ms/step - loss: 0.6941 - accuracy: 0.7693 - val_loss: 1.6194 - val_accuracy: 0.5574\n",
      "Epoch 59/100\n",
      "247/247 [==============================] - 34s 138ms/step - loss: 0.6924 - accuracy: 0.7636 - val_loss: 1.2983 - val_accuracy: 0.6327\n",
      "Epoch 60/100\n",
      "247/247 [==============================] - 34s 138ms/step - loss: 0.6778 - accuracy: 0.7762 - val_loss: 1.3500 - val_accuracy: 0.6142\n",
      "Epoch 61/100\n",
      "247/247 [==============================] - 34s 136ms/step - loss: 0.6720 - accuracy: 0.7764 - val_loss: 1.3818 - val_accuracy: 0.6189\n",
      "Epoch 62/100\n",
      "247/247 [==============================] - 34s 137ms/step - loss: 0.6741 - accuracy: 0.7717 - val_loss: 1.5218 - val_accuracy: 0.5830\n",
      "Epoch 63/100\n",
      "247/247 [==============================] - 34s 136ms/step - loss: 0.6582 - accuracy: 0.7850 - val_loss: 1.4515 - val_accuracy: 0.6066\n",
      "Epoch 64/100\n",
      "247/247 [==============================] - 33s 136ms/step - loss: 0.6342 - accuracy: 0.7865 - val_loss: 1.3217 - val_accuracy: 0.6168\n",
      "Epoch 65/100\n",
      "247/247 [==============================] - 33s 136ms/step - loss: 0.6379 - accuracy: 0.7849 - val_loss: 1.3378 - val_accuracy: 0.6183\n",
      "Epoch 66/100\n",
      "247/247 [==============================] - 34s 136ms/step - loss: 0.6490 - accuracy: 0.7831 - val_loss: 1.3660 - val_accuracy: 0.6194\n",
      "Epoch 67/100\n",
      "247/247 [==============================] - 33s 136ms/step - loss: 0.6319 - accuracy: 0.7860 - val_loss: 1.3918 - val_accuracy: 0.6122\n",
      "Epoch 68/100\n",
      "247/247 [==============================] - 34s 138ms/step - loss: 0.6118 - accuracy: 0.7889 - val_loss: 1.3219 - val_accuracy: 0.6352\n",
      "Epoch 69/100\n",
      "247/247 [==============================] - 34s 138ms/step - loss: 0.6331 - accuracy: 0.7894 - val_loss: 1.4427 - val_accuracy: 0.5963\n",
      "Epoch 70/100\n",
      "247/247 [==============================] - 34s 138ms/step - loss: 0.6191 - accuracy: 0.7922 - val_loss: 1.8056 - val_accuracy: 0.5154\n",
      "Epoch 71/100\n",
      "247/247 [==============================] - 34s 139ms/step - loss: 0.6130 - accuracy: 0.7921 - val_loss: 1.4065 - val_accuracy: 0.6096\n",
      "Epoch 72/100\n",
      "247/247 [==============================] - 34s 137ms/step - loss: 0.6104 - accuracy: 0.7953 - val_loss: 1.6480 - val_accuracy: 0.5405\n",
      "Epoch 73/100\n",
      "247/247 [==============================] - 34s 138ms/step - loss: 0.6038 - accuracy: 0.7991 - val_loss: 1.3849 - val_accuracy: 0.6219\n",
      "Epoch 74/100\n",
      "247/247 [==============================] - 34s 138ms/step - loss: 0.6096 - accuracy: 0.7946 - val_loss: 1.4560 - val_accuracy: 0.6066\n",
      "Epoch 75/100\n",
      "247/247 [==============================] - 34s 138ms/step - loss: 0.5680 - accuracy: 0.8046 - val_loss: 1.4149 - val_accuracy: 0.6117\n",
      "Epoch 76/100\n",
      "247/247 [==============================] - 34s 138ms/step - loss: 0.5665 - accuracy: 0.8112 - val_loss: 1.3585 - val_accuracy: 0.6286\n",
      "Epoch 77/100\n",
      "247/247 [==============================] - 34s 138ms/step - loss: 0.5873 - accuracy: 0.8007 - val_loss: 1.3313 - val_accuracy: 0.6327\n",
      "Epoch 78/100\n",
      "247/247 [==============================] - 34s 136ms/step - loss: 0.5663 - accuracy: 0.8060 - val_loss: 1.5733 - val_accuracy: 0.5676\n",
      "Epoch 79/100\n",
      "247/247 [==============================] - 34s 137ms/step - loss: 0.5712 - accuracy: 0.8084 - val_loss: 1.3815 - val_accuracy: 0.6250\n",
      "Epoch 80/100\n",
      "247/247 [==============================] - 34s 137ms/step - loss: 0.5597 - accuracy: 0.8088 - val_loss: 1.3339 - val_accuracy: 0.6260\n",
      "Epoch 81/100\n",
      "247/247 [==============================] - 34s 136ms/step - loss: 0.5680 - accuracy: 0.8031 - val_loss: 1.4201 - val_accuracy: 0.6204\n",
      "Epoch 82/100\n",
      "247/247 [==============================] - 34s 136ms/step - loss: 0.5523 - accuracy: 0.8141 - val_loss: 1.3680 - val_accuracy: 0.6363\n",
      "Epoch 83/100\n",
      "247/247 [==============================] - 34s 136ms/step - loss: 0.5513 - accuracy: 0.8117 - val_loss: 1.3524 - val_accuracy: 0.6311\n",
      "Epoch 84/100\n",
      "247/247 [==============================] - 34s 136ms/step - loss: 0.5515 - accuracy: 0.8145 - val_loss: 1.4305 - val_accuracy: 0.6337\n",
      "Epoch 85/100\n",
      "247/247 [==============================] - 34s 138ms/step - loss: 0.5401 - accuracy: 0.8171 - val_loss: 1.4639 - val_accuracy: 0.6189\n",
      "Epoch 86/100\n",
      "247/247 [==============================] - 34s 136ms/step - loss: 0.5298 - accuracy: 0.8218 - val_loss: 1.3752 - val_accuracy: 0.6368\n",
      "Epoch 87/100\n",
      "247/247 [==============================] - 34s 136ms/step - loss: 0.5405 - accuracy: 0.8186 - val_loss: 1.3713 - val_accuracy: 0.6352\n",
      "Epoch 88/100\n",
      "247/247 [==============================] - 34s 136ms/step - loss: 0.5322 - accuracy: 0.8243 - val_loss: 1.3915 - val_accuracy: 0.6245\n",
      "Epoch 89/100\n",
      "247/247 [==============================] - 33s 135ms/step - loss: 0.5128 - accuracy: 0.8238 - val_loss: 1.3949 - val_accuracy: 0.6383\n",
      "Epoch 90/100\n",
      "247/247 [==============================] - 33s 135ms/step - loss: 0.5231 - accuracy: 0.8239 - val_loss: 1.4055 - val_accuracy: 0.6194\n",
      "Epoch 91/100\n",
      "247/247 [==============================] - 33s 135ms/step - loss: 0.5063 - accuracy: 0.8273 - val_loss: 1.4123 - val_accuracy: 0.6393\n",
      "Epoch 92/100\n",
      "247/247 [==============================] - 33s 135ms/step - loss: 0.5201 - accuracy: 0.8216 - val_loss: 1.4573 - val_accuracy: 0.6194\n",
      "Epoch 93/100\n",
      "247/247 [==============================] - 33s 135ms/step - loss: 0.5033 - accuracy: 0.8277 - val_loss: 1.3368 - val_accuracy: 0.6496\n",
      "Epoch 94/100\n",
      "247/247 [==============================] - 33s 135ms/step - loss: 0.5187 - accuracy: 0.8231 - val_loss: 1.3226 - val_accuracy: 0.6481\n",
      "Epoch 95/100\n",
      "247/247 [==============================] - 33s 135ms/step - loss: 0.4957 - accuracy: 0.8294 - val_loss: 1.4679 - val_accuracy: 0.6148\n",
      "Epoch 96/100\n",
      "247/247 [==============================] - 33s 135ms/step - loss: 0.5128 - accuracy: 0.8292 - val_loss: 1.3945 - val_accuracy: 0.6342\n",
      "Epoch 97/100\n",
      "247/247 [==============================] - 33s 135ms/step - loss: 0.5062 - accuracy: 0.8300 - val_loss: 1.3178 - val_accuracy: 0.6506\n",
      "Epoch 98/100\n",
      "247/247 [==============================] - 33s 135ms/step - loss: 0.4985 - accuracy: 0.8308 - val_loss: 1.3744 - val_accuracy: 0.6399\n",
      "Epoch 99/100\n",
      "247/247 [==============================] - 34s 136ms/step - loss: 0.4804 - accuracy: 0.8385 - val_loss: 1.4816 - val_accuracy: 0.6209\n",
      "Epoch 100/100\n",
      "247/247 [==============================] - 33s 136ms/step - loss: 0.5003 - accuracy: 0.8313 - val_loss: 1.4238 - val_accuracy: 0.6219\n"
     ]
    }
   ],
   "source": [
    "steps_per_epoch = train_generator.n // train_generator.batch_size\n",
    "validation_steps = validation_generator.n // validation_generator.batch_size\n",
    "\n",
    "callbacks = [\n",
    "    EarlyStopping(min_delta=.005, monitor='val_accuracy', patience=10, restore_best_weights=True)\n",
    "]\n",
    "\n",
    "history = model.fit(train_generator,\n",
    "                  steps_per_epoch=steps_per_epoch,\n",
    "                  batch_size=32,\n",
    "                  epochs=100,\n",
    "                  workers=-1,\n",
    "                  validation_data=validation_generator,\n",
    "                  validation_steps=validation_steps)"
   ]
  },
  {
   "cell_type": "code",
   "execution_count": 73,
   "metadata": {},
   "outputs": [
    {
     "name": "stderr",
     "output_type": "stream",
     "text": [
      "WARNING:absl:Found untraced functions such as conv2d_layer_call_and_return_conditional_losses, conv2d_layer_call_fn, conv2d_1_layer_call_and_return_conditional_losses, conv2d_1_layer_call_fn, dropout_layer_call_and_return_conditional_losses while saving (showing 5 of 80). These functions will not be directly callable after loading.\n"
     ]
    },
    {
     "name": "stdout",
     "output_type": "stream",
     "text": [
      "INFO:tensorflow:Assets written to: saved_model\\assets\n"
     ]
    },
    {
     "name": "stderr",
     "output_type": "stream",
     "text": [
      "INFO:tensorflow:Assets written to: saved_model\\assets\n"
     ]
    }
   ],
   "source": [
    "model.save('saved_model')"
   ]
  },
  {
   "cell_type": "markdown",
   "metadata": {},
   "source": [
    "## Testing with own images"
   ]
  },
  {
   "cell_type": "code",
   "execution_count": 69,
   "metadata": {},
   "outputs": [],
   "source": [
    "labels = [\"apple_pie\", \"cheesecake\", \"chicken_cury\", \n",
    "          \"french_fries\", \"fried_rice\", \"hamburger\", \"hot_dog\", \n",
    "          \"ice_cream\", \"omelette\", \"pizza\", \"sushi\"]\n",
    "def beautify_prediction(prediction):\n",
    "    max = 0\n",
    "    maxIdx = 0\n",
    "    for idx, i in enumerate(prediction[0]):\n",
    "        print(f'{labels[idx]:>15s} {i:.2f}')\n",
    "        if(i > max):\n",
    "            max = i\n",
    "            maxIdx = idx\n",
    "    print(\"The image contains a \" + labels[maxIdx])"
   ]
  },
  {
   "cell_type": "code",
   "execution_count": 13,
   "metadata": {},
   "outputs": [],
   "source": [
    "def prepare_image(path):\n",
    "    img = image.load_img(path, target_size=target_size)\n",
    "    img_array = image.img_to_array(img) / 255\n",
    "    return np.expand_dims(img_array, axis=0)"
   ]
  },
  {
   "cell_type": "code",
   "execution_count": 74,
   "metadata": {},
   "outputs": [
    {
     "name": "stdout",
     "output_type": "stream",
     "text": [
      "      apple_pie 0.00\n",
      "     cheesecake 0.01\n",
      "   chicken_cury 0.00\n",
      "   french_fries 0.00\n",
      "     fried_rice 0.00\n",
      "      hamburger 0.00\n",
      "        hot_dog 0.00\n",
      "      ice_cream 0.99\n",
      "       omelette 0.00\n",
      "          pizza 0.00\n",
      "          sushi 0.00\n",
      "The image contains a ice_cream\n"
     ]
    }
   ],
   "source": [
    "img = prepare_image('./data/samuel.png')\n",
    "beautify_prediction(model.predict(img))"
   ]
  },
  {
   "cell_type": "code",
   "execution_count": 72,
   "metadata": {},
   "outputs": [
    {
     "name": "stdout",
     "output_type": "stream",
     "text": [
      "WARNING:tensorflow:Layers in a Sequential model should only have a single input tensor, but we receive a <class 'tuple'> input: (<tf.Tensor 'IteratorGetNext:0' shape=(32, 64, 64, 3) dtype=float32>, <tf.Tensor 'IteratorGetNext:1' shape=(32, 11) dtype=float32>)\n",
      "Consider rewriting this model with the Functional API.\n"
     ]
    },
    {
     "name": "stderr",
     "output_type": "stream",
     "text": [
      "WARNING:tensorflow:Layers in a Sequential model should only have a single input tensor, but we receive a <class 'tuple'> input: (<tf.Tensor 'IteratorGetNext:0' shape=(32, 64, 64, 3) dtype=float32>, <tf.Tensor 'IteratorGetNext:1' shape=(32, 11) dtype=float32>)\n",
      "Consider rewriting this model with the Functional API.\n"
     ]
    },
    {
     "data": {
      "text/plain": [
       "array([[1.10333815e-01, 8.91587231e-03, 9.98045783e-03, 1.23075632e-04,\n",
       "        8.09708714e-01, 1.12239400e-06, 6.39501604e-06, 2.50197668e-02,\n",
       "        1.78759955e-02, 1.74790192e-02, 5.55643870e-04],\n",
       "       [8.59916091e-01, 1.24089876e-02, 1.31566273e-02, 1.78393489e-03,\n",
       "        7.19220610e-04, 5.15211083e-04, 2.35024840e-04, 9.26155075e-02,\n",
       "        1.06109446e-02, 3.08204850e-04, 7.73019018e-03],\n",
       "       [9.66247618e-01, 6.41271565e-03, 9.06688103e-04, 2.20466027e-05,\n",
       "        2.20153723e-02, 1.07371070e-05, 7.54245411e-06, 4.37314482e-03,\n",
       "        2.85862541e-07, 3.17252989e-06, 7.43615942e-07],\n",
       "       [8.86552513e-01, 1.54158492e-02, 1.09739594e-04, 2.28850491e-04,\n",
       "        1.59372902e-03, 4.63287272e-02, 1.59043571e-04, 3.85719053e-02,\n",
       "        5.92595246e-03, 5.52656653e-04, 4.56092088e-03],\n",
       "       [7.06044137e-01, 1.30266584e-02, 8.99698498e-05, 1.11108860e-02,\n",
       "        1.94449349e-05, 4.18321251e-05, 8.29997938e-04, 2.68532127e-01,\n",
       "        2.29072204e-04, 6.81342863e-05, 7.61145702e-06],\n",
       "       [7.89549470e-01, 1.93598438e-02, 5.38256500e-05, 7.89770856e-03,\n",
       "        1.07900394e-06, 6.08399557e-03, 1.30582892e-04, 1.76439151e-01,\n",
       "        2.44877592e-05, 1.03104940e-05, 4.49505664e-04],\n",
       "       [3.57706487e-01, 3.09796399e-03, 1.36903420e-01, 4.68222424e-02,\n",
       "        3.64804238e-01, 1.40475519e-02, 2.12444924e-03, 2.22054273e-02,\n",
       "        1.16552273e-02, 1.28174806e-02, 2.78155357e-02],\n",
       "       [2.45840233e-02, 7.33929081e-03, 6.59563661e-01, 1.44249236e-03,\n",
       "        2.06772471e-04, 2.60789692e-03, 2.49914244e-01, 1.55733409e-03,\n",
       "        1.05969878e-02, 3.91361825e-02, 3.05112801e-03],\n",
       "       [9.98593867e-01, 4.79825103e-04, 4.55811445e-04, 5.55852739e-06,\n",
       "        1.67069418e-04, 1.64546327e-05, 8.00587222e-05, 9.16433637e-05,\n",
       "        1.03159720e-04, 3.94745484e-06, 2.56942235e-06],\n",
       "       [3.12476277e-01, 1.49651477e-02, 7.56005873e-04, 4.74856328e-03,\n",
       "        4.18461412e-02, 3.61087848e-04, 1.87516883e-02, 5.93278408e-01,\n",
       "        9.73495189e-03, 2.95488629e-03, 1.26851097e-04],\n",
       "       [9.94222462e-01, 6.12265649e-05, 4.38515702e-03, 8.28962811e-07,\n",
       "        1.49515719e-04, 5.53425089e-05, 5.93042068e-06, 1.11320603e-03,\n",
       "        4.83489339e-06, 1.35791410e-07, 1.35737753e-06],\n",
       "       [9.38126385e-01, 7.56296376e-03, 2.99528800e-03, 7.36534412e-06,\n",
       "        4.05199267e-02, 6.83318474e-04, 2.77629122e-04, 7.14450236e-03,\n",
       "        2.06768885e-03, 6.02425192e-04, 1.24978205e-05],\n",
       "       [1.62975900e-02, 2.68939348e-05, 3.56283708e-05, 9.82449293e-01,\n",
       "        7.56821919e-07, 4.27576742e-05, 6.38353988e-04, 5.07006771e-04,\n",
       "        1.03898606e-06, 4.80642939e-07, 2.17834014e-07],\n",
       "       [2.82905132e-01, 3.65917906e-02, 2.58254707e-01, 2.01982707e-01,\n",
       "        5.52053191e-03, 1.53082132e-01, 3.55254896e-02, 1.09774014e-03,\n",
       "        1.96958650e-02, 3.52191599e-03, 1.82187115e-03],\n",
       "       [9.97309923e-01, 3.44372565e-05, 1.30558782e-03, 1.54862704e-04,\n",
       "        9.12261967e-05, 4.26896324e-04, 2.72076068e-05, 5.70390839e-04,\n",
       "        6.84485349e-05, 5.73023158e-07, 1.03470120e-05],\n",
       "       [4.60433364e-02, 2.99904568e-05, 5.24510592e-02, 8.72935707e-05,\n",
       "        4.26017540e-03, 1.22000254e-03, 1.98140056e-04, 1.90995715e-03,\n",
       "        8.93645346e-01, 5.90452837e-05, 9.57078810e-05],\n",
       "       [1.76266869e-04, 1.27979098e-02, 1.25318373e-04, 2.53204169e-04,\n",
       "        6.56458288e-02, 8.59029125e-03, 4.11363617e-05, 9.09796357e-01,\n",
       "        2.96629587e-04, 1.25206029e-03, 1.02507742e-03],\n",
       "       [9.93916094e-01, 1.73563421e-05, 4.26243665e-03, 1.56341970e-03,\n",
       "        3.47093078e-06, 1.44609012e-05, 2.87347848e-05, 8.91990494e-05,\n",
       "        7.56305162e-05, 2.90290627e-05, 2.07327034e-07],\n",
       "       [9.70768750e-01, 2.14072131e-02, 1.71357475e-04, 1.05102343e-04,\n",
       "        4.62724711e-06, 8.35240004e-04, 1.24827540e-03, 4.41687088e-03,\n",
       "        3.87071632e-05, 9.33157135e-05, 9.10558854e-04],\n",
       "       [6.77744687e-01, 2.66904175e-01, 1.04165834e-03, 1.26707673e-04,\n",
       "        2.33501909e-04, 1.48185296e-04, 2.85858492e-04, 5.34098633e-02,\n",
       "        8.90819792e-05, 1.18568632e-05, 4.38542111e-06],\n",
       "       [7.02950209e-02, 1.23413774e-04, 1.41855218e-02, 3.14038654e-04,\n",
       "        2.12167334e-02, 2.87035969e-03, 7.26520602e-06, 8.90635371e-01,\n",
       "        3.31257499e-04, 1.68514034e-05, 4.22248422e-06],\n",
       "       [4.40707326e-01, 4.72489424e-04, 1.07460073e-04, 8.81093089e-04,\n",
       "        1.48337967e-05, 4.74560201e-01, 2.27208473e-02, 1.00522419e-03,\n",
       "        5.74748218e-02, 1.14587334e-03, 9.09872528e-04],\n",
       "       [8.37708592e-01, 2.52971379e-03, 6.38378988e-05, 8.16106422e-06,\n",
       "        3.84083251e-05, 2.18151733e-02, 6.32692419e-04, 5.73595380e-03,\n",
       "        1.25591084e-01, 4.49531805e-03, 1.38111238e-03],\n",
       "       [3.84580016e-01, 6.95253606e-04, 4.42157984e-01, 5.11038750e-02,\n",
       "        1.93868391e-02, 4.10056636e-02, 1.82972625e-02, 4.16686572e-03,\n",
       "        4.57749789e-04, 2.34203562e-02, 1.47280814e-02],\n",
       "       [2.39975490e-02, 2.46632402e-03, 1.02152946e-04, 6.85380510e-05,\n",
       "        2.65358966e-02, 4.43892386e-05, 3.38858331e-06, 9.45822418e-01,\n",
       "        9.54887364e-04, 3.35203868e-06, 1.03557875e-06],\n",
       "       [3.53473648e-02, 4.87200618e-02, 2.11042352e-04, 9.65373649e-04,\n",
       "        1.17678829e-02, 1.62592947e-01, 1.53186520e-05, 7.34927297e-01,\n",
       "        5.35510387e-03, 3.73954172e-05, 6.01475258e-05],\n",
       "       [7.92510867e-01, 3.23429098e-03, 1.04984757e-03, 1.14168477e-04,\n",
       "        3.72271868e-03, 1.77238020e-03, 4.79625873e-02, 8.26806575e-02,\n",
       "        6.69393167e-02, 2.97420502e-06, 1.02321255e-05],\n",
       "       [1.85461789e-01, 5.19087732e-01, 2.09836792e-02, 8.47589909e-05,\n",
       "        9.02285683e-05, 1.63959421e-03, 1.72733426e-01, 9.92393196e-02,\n",
       "        4.93297703e-04, 1.42696648e-04, 4.34945432e-05],\n",
       "       [8.09136212e-01, 9.28199035e-04, 1.37397973e-02, 3.65229207e-04,\n",
       "        5.28433546e-03, 5.26288524e-04, 6.55579715e-05, 1.49072573e-01,\n",
       "        9.86596197e-03, 1.00430129e-02, 9.72813345e-04],\n",
       "       [9.02672485e-03, 6.08723722e-02, 7.78388698e-03, 1.72593016e-02,\n",
       "        1.15489133e-01, 2.20001792e-03, 3.25453766e-05, 7.85396516e-01,\n",
       "        2.55802297e-04, 1.42841169e-03, 2.55293678e-04],\n",
       "       [2.46209726e-01, 1.33121470e-02, 2.10873215e-04, 1.22113451e-02,\n",
       "        9.23815221e-02, 8.73407873e-04, 2.54716317e-04, 4.66629583e-03,\n",
       "        4.16137860e-04, 6.27015173e-01, 2.44867313e-03],\n",
       "       [8.54670942e-01, 5.18198982e-02, 2.99370458e-06, 2.72617472e-05,\n",
       "        3.09282768e-05, 1.32808741e-03, 6.91842812e-04, 9.12297070e-02,\n",
       "        6.91662426e-05, 9.10436356e-05, 3.81335303e-05]], dtype=float32)"
      ]
     },
     "execution_count": 72,
     "metadata": {},
     "output_type": "execute_result"
    }
   ],
   "source": []
  }
 ],
 "metadata": {
  "kernelspec": {
   "display_name": "Python 3",
   "language": "python",
   "name": "python3"
  },
  "language_info": {
   "codemirror_mode": {
    "name": "ipython",
    "version": 3
   },
   "file_extension": ".py",
   "mimetype": "text/x-python",
   "name": "python",
   "nbconvert_exporter": "python",
   "pygments_lexer": "ipython3",
   "version": "3.7.12"
  }
 },
 "nbformat": 4,
 "nbformat_minor": 1
}
