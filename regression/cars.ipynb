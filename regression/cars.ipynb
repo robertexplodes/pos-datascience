{
 "cells": [
  {
   "cell_type": "code",
   "execution_count": 76,
   "outputs": [],
   "source": [
    "import pandas as pd\n",
    "from scipy.stats import randint, norm\n",
    "from sklearn.ensemble import RandomForestRegressor\n",
    "from sklearn.linear_model import LinearRegression\n",
    "from sklearn.metrics import mean_squared_error\n",
    "from sklearn.model_selection import train_test_split, RandomizedSearchCV\n",
    "import numpy as np"
   ],
   "metadata": {
    "collapsed": false
   }
  },
  {
   "cell_type": "markdown",
   "metadata": {
    "collapsed": true
   },
   "source": [
    "## Lies `cars.csv` in einen DataFrame"
   ]
  },
  {
   "cell_type": "code",
   "execution_count": 28,
   "outputs": [
    {
     "data": {
      "text/plain": "   price  yearOfRegistration  powerPS  kilometer   model fuelType  \\\n0   1450                1997       75      90000  andere   benzin   \n1  13100                2005      280       5000    golf   benzin   \n2   4500                2008       87      90000   yaris   benzin   \n3   6000                2009      177     125000     3er   diesel   \n4   3990                1999      118      90000     3er   benzin   \n\n                                             name  \n0          Toyota_Toyota_Starlet_1._Hand__TÜV_neu  \n1                        R32_tauschen_oder_kaufen  \n2                          Toyota_Yaris_1.3_VVT_i  \n3                      320_Alpinweiss_Kohlenstoff  \n4  BMW_318i_E46_+++_1._Hand_+++_Liebhaberfahrzeug  ",
      "text/html": "<div>\n<style scoped>\n    .dataframe tbody tr th:only-of-type {\n        vertical-align: middle;\n    }\n\n    .dataframe tbody tr th {\n        vertical-align: top;\n    }\n\n    .dataframe thead th {\n        text-align: right;\n    }\n</style>\n<table border=\"1\" class=\"dataframe\">\n  <thead>\n    <tr style=\"text-align: right;\">\n      <th></th>\n      <th>price</th>\n      <th>yearOfRegistration</th>\n      <th>powerPS</th>\n      <th>kilometer</th>\n      <th>model</th>\n      <th>fuelType</th>\n      <th>name</th>\n    </tr>\n  </thead>\n  <tbody>\n    <tr>\n      <th>0</th>\n      <td>1450</td>\n      <td>1997</td>\n      <td>75</td>\n      <td>90000</td>\n      <td>andere</td>\n      <td>benzin</td>\n      <td>Toyota_Toyota_Starlet_1._Hand__TÜV_neu</td>\n    </tr>\n    <tr>\n      <th>1</th>\n      <td>13100</td>\n      <td>2005</td>\n      <td>280</td>\n      <td>5000</td>\n      <td>golf</td>\n      <td>benzin</td>\n      <td>R32_tauschen_oder_kaufen</td>\n    </tr>\n    <tr>\n      <th>2</th>\n      <td>4500</td>\n      <td>2008</td>\n      <td>87</td>\n      <td>90000</td>\n      <td>yaris</td>\n      <td>benzin</td>\n      <td>Toyota_Yaris_1.3_VVT_i</td>\n    </tr>\n    <tr>\n      <th>3</th>\n      <td>6000</td>\n      <td>2009</td>\n      <td>177</td>\n      <td>125000</td>\n      <td>3er</td>\n      <td>diesel</td>\n      <td>320_Alpinweiss_Kohlenstoff</td>\n    </tr>\n    <tr>\n      <th>4</th>\n      <td>3990</td>\n      <td>1999</td>\n      <td>118</td>\n      <td>90000</td>\n      <td>3er</td>\n      <td>benzin</td>\n      <td>BMW_318i_E46_+++_1._Hand_+++_Liebhaberfahrzeug</td>\n    </tr>\n  </tbody>\n</table>\n</div>"
     },
     "execution_count": 28,
     "metadata": {},
     "output_type": "execute_result"
    }
   ],
   "source": [
    "df = pd.read_csv('data/cars.csv')\n",
    "df.head()"
   ],
   "metadata": {
    "collapsed": false
   }
  },
  {
   "cell_type": "markdown",
   "source": [
    "## Data Cleaning\n",
    "\n",
    "* entferne die Features `model` und `name`\n",
    "* entferne Observations mit `NaN`-Einträgen\n",
    "* entferne Observations, deren `fuelType` nicht `benzin` oder `diesel` ist\n",
    "* Führe ein One-Hot-Encoding für `fuelType` durch"
   ],
   "metadata": {
    "collapsed": false
   }
  },
  {
   "cell_type": "code",
   "execution_count": 29,
   "outputs": [
    {
     "data": {
      "text/plain": "   price  yearOfRegistration  powerPS  kilometer fuelType\n0   1450                1997       75      90000   benzin\n1  13100                2005      280       5000   benzin\n2   4500                2008       87      90000   benzin\n3   6000                2009      177     125000   diesel\n4   3990                1999      118      90000   benzin",
      "text/html": "<div>\n<style scoped>\n    .dataframe tbody tr th:only-of-type {\n        vertical-align: middle;\n    }\n\n    .dataframe tbody tr th {\n        vertical-align: top;\n    }\n\n    .dataframe thead th {\n        text-align: right;\n    }\n</style>\n<table border=\"1\" class=\"dataframe\">\n  <thead>\n    <tr style=\"text-align: right;\">\n      <th></th>\n      <th>price</th>\n      <th>yearOfRegistration</th>\n      <th>powerPS</th>\n      <th>kilometer</th>\n      <th>fuelType</th>\n    </tr>\n  </thead>\n  <tbody>\n    <tr>\n      <th>0</th>\n      <td>1450</td>\n      <td>1997</td>\n      <td>75</td>\n      <td>90000</td>\n      <td>benzin</td>\n    </tr>\n    <tr>\n      <th>1</th>\n      <td>13100</td>\n      <td>2005</td>\n      <td>280</td>\n      <td>5000</td>\n      <td>benzin</td>\n    </tr>\n    <tr>\n      <th>2</th>\n      <td>4500</td>\n      <td>2008</td>\n      <td>87</td>\n      <td>90000</td>\n      <td>benzin</td>\n    </tr>\n    <tr>\n      <th>3</th>\n      <td>6000</td>\n      <td>2009</td>\n      <td>177</td>\n      <td>125000</td>\n      <td>diesel</td>\n    </tr>\n    <tr>\n      <th>4</th>\n      <td>3990</td>\n      <td>1999</td>\n      <td>118</td>\n      <td>90000</td>\n      <td>benzin</td>\n    </tr>\n  </tbody>\n</table>\n</div>"
     },
     "execution_count": 29,
     "metadata": {},
     "output_type": "execute_result"
    }
   ],
   "source": [
    "df = df.drop(columns=['model', 'name'])\n",
    "df = df[df.notna()]\n",
    "df = df.query('fuelType == \"benzin\" or fuelType == \"diesel\"')\n",
    "df.head()"
   ],
   "metadata": {
    "collapsed": false
   }
  },
  {
   "cell_type": "code",
   "execution_count": 39,
   "outputs": [
    {
     "data": {
      "text/plain": "   price  yearOfRegistration  powerPS  kilometer  isBenzin\n0   1450                1997       75      90000         1\n1  13100                2005      280       5000         1\n2   4500                2008       87      90000         1\n3   6000                2009      177     125000         0\n4   3990                1999      118      90000         1",
      "text/html": "<div>\n<style scoped>\n    .dataframe tbody tr th:only-of-type {\n        vertical-align: middle;\n    }\n\n    .dataframe tbody tr th {\n        vertical-align: top;\n    }\n\n    .dataframe thead th {\n        text-align: right;\n    }\n</style>\n<table border=\"1\" class=\"dataframe\">\n  <thead>\n    <tr style=\"text-align: right;\">\n      <th></th>\n      <th>price</th>\n      <th>yearOfRegistration</th>\n      <th>powerPS</th>\n      <th>kilometer</th>\n      <th>isBenzin</th>\n    </tr>\n  </thead>\n  <tbody>\n    <tr>\n      <th>0</th>\n      <td>1450</td>\n      <td>1997</td>\n      <td>75</td>\n      <td>90000</td>\n      <td>1</td>\n    </tr>\n    <tr>\n      <th>1</th>\n      <td>13100</td>\n      <td>2005</td>\n      <td>280</td>\n      <td>5000</td>\n      <td>1</td>\n    </tr>\n    <tr>\n      <th>2</th>\n      <td>4500</td>\n      <td>2008</td>\n      <td>87</td>\n      <td>90000</td>\n      <td>1</td>\n    </tr>\n    <tr>\n      <th>3</th>\n      <td>6000</td>\n      <td>2009</td>\n      <td>177</td>\n      <td>125000</td>\n      <td>0</td>\n    </tr>\n    <tr>\n      <th>4</th>\n      <td>3990</td>\n      <td>1999</td>\n      <td>118</td>\n      <td>90000</td>\n      <td>1</td>\n    </tr>\n  </tbody>\n</table>\n</div>"
     },
     "execution_count": 39,
     "metadata": {},
     "output_type": "execute_result"
    }
   ],
   "source": [
    "df['isBenzin'] = df['fuelType'].replace({'benzin': 1, 'diesel': 0})\n",
    "df = df.drop(columns='fuelType')\n",
    "df.head()"
   ],
   "metadata": {
    "collapsed": false
   }
  },
  {
   "cell_type": "markdown",
   "source": [
    "## Training\n",
    "\n",
    "* Verwende 20% Testdaten und `random_state=42`\n",
    "* predicte `price`\n",
    "* Verwende eine LinearRegression und ermittle, welches Feature einen negativen Einfluss auf den Preis hat\n",
    "* Verwende einen RandomForestRegressor und ermittle das wichtigste Feature"
   ],
   "metadata": {
    "collapsed": false
   }
  },
  {
   "cell_type": "code",
   "execution_count": 100,
   "outputs": [],
   "source": [
    "X = df.drop(columns='price')\n",
    "y = df['price']\n",
    "\n",
    "X_train, X_test, y_train, y_test = train_test_split(X, y, test_size=0.2, random_state=42)"
   ],
   "metadata": {
    "collapsed": false
   }
  },
  {
   "cell_type": "code",
   "execution_count": 101,
   "outputs": [
    {
     "data": {
      "text/plain": "array([ 1.31662959e+02,  8.42243833e+01, -7.99518456e-02, -4.99755376e+03])"
     },
     "execution_count": 101,
     "metadata": {},
     "output_type": "execute_result"
    }
   ],
   "source": [
    "lin_model = LinearRegression()\n",
    "lin_model.fit(X_train, y_train)\n",
    "lin_model.coef_"
   ],
   "metadata": {
    "collapsed": false
   }
  },
  {
   "cell_type": "code",
   "execution_count": 53,
   "outputs": [
    {
     "data": {
      "text/plain": "yearOfRegistration    0.357412\npowerPS               0.608716\nkilometer            -0.443695\nisBenzin             -0.443016\nName: price, dtype: float64"
     },
     "execution_count": 53,
     "metadata": {},
     "output_type": "execute_result"
    }
   ],
   "source": [
    "df.corr()[\"price\"][1:]"
   ],
   "metadata": {
    "collapsed": false
   }
  },
  {
   "cell_type": "code",
   "execution_count": 54,
   "outputs": [
    {
     "data": {
      "text/plain": "array([0.29530925, 0.45743525, 0.21389106, 0.03336444])"
     },
     "execution_count": 54,
     "metadata": {},
     "output_type": "execute_result"
    }
   ],
   "source": [
    "forest = RandomForestRegressor()\n",
    "forest.fit(X_train, y_train)\n",
    "forest.feature_importances_"
   ],
   "metadata": {
    "collapsed": false
   }
  },
  {
   "cell_type": "markdown",
   "source": [
    "Most important Feature for the RandomForestRegressor is `powerPS`"
   ],
   "metadata": {
    "collapsed": false
   }
  },
  {
   "cell_type": "markdown",
   "source": [
    "## Evaluierung\n",
    "\n",
    "* Ermittle den mean squared error für beide Modelle\n",
    "* Performt eines der models besser, wenn die Daten skaliert werden?"
   ],
   "metadata": {
    "collapsed": false
   }
  },
  {
   "cell_type": "code",
   "execution_count": 61,
   "outputs": [],
   "source": [
    "def calc_error(model, X_test, y_true):\n",
    "    predictions = model.predict(X_test)\n",
    "    return np.sqrt(mean_squared_error(y_true, predictions))"
   ],
   "metadata": {
    "collapsed": false
   }
  },
  {
   "cell_type": "code",
   "execution_count": 71,
   "outputs": [
    {
     "name": "stdout",
     "output_type": "stream",
     "text": [
      "LinearRegression error for training dataset: 4977.009336292843\n",
      "LinearRegression error for test dataset:     3703.981155490193\n"
     ]
    }
   ],
   "source": [
    "print('LinearRegression error for training dataset: ', end='')\n",
    "print(calc_error(lin_model, X_train, y_train))\n",
    "print('LinearRegression error for test dataset:     ', end='')\n",
    "print(calc_error(lin_model, X_test, y_test))"
   ],
   "metadata": {
    "collapsed": false
   }
  },
  {
   "cell_type": "code",
   "execution_count": 72,
   "outputs": [
    {
     "name": "stdout",
     "output_type": "stream",
     "text": [
      "RandomForestRegressor error for training dataset: 1887.944264947669\n",
      "RandomForestRegressor error for test dataset:     3375.256651494581\n"
     ]
    }
   ],
   "source": [
    "print('RandomForestRegressor error for training dataset: ', end='')\n",
    "print(calc_error(forest, X_train, y_train))\n",
    "print('RandomForestRegressor error for test dataset:     ', end='')\n",
    "print(calc_error(forest, X_test, y_test))"
   ],
   "metadata": {
    "collapsed": false
   }
  },
  {
   "cell_type": "markdown",
   "source": [
    "### Tuning\n",
    "\n",
    "Finde ein model, welches am Testset einen mse < 3200 aufweist"
   ],
   "metadata": {
    "collapsed": false
   }
  },
  {
   "cell_type": "code",
   "execution_count": 96,
   "outputs": [
    {
     "data": {
      "text/plain": "RandomizedSearchCV(cv=5, estimator=RandomForestRegressor(), n_iter=20, n_jobs=8,\n                   param_distributions={'max_features': <scipy.stats._distn_infrastructure.rv_continuous_frozen object at 0x000001A25730C760>,\n                                        'n_estimators': <scipy.stats._distn_infrastructure.rv_discrete_frozen object at 0x000001A2562B5C10>},\n                   scoring='neg_mean_squared_error')"
     },
     "execution_count": 96,
     "metadata": {},
     "output_type": "execute_result"
    }
   ],
   "source": [
    "gridRandomized = RandomizedSearchCV(estimator=RandomForestRegressor(),\n",
    "                                    param_distributions={'n_estimators': randint(0, 1000),\n",
    "                                                         'max_features': norm(loc=0.5, scale=0.15)},\n",
    "                                    scoring='neg_mean_squared_error',  # -mse, damit höher=besser\n",
    "                                    cv=5,\n",
    "                                    n_iter=20,\n",
    "                                    n_jobs=8)\n",
    "gridRandomized.fit(X_train, y_train)"
   ],
   "metadata": {
    "collapsed": false
   }
  },
  {
   "cell_type": "code",
   "execution_count": 97,
   "outputs": [
    {
     "data": {
      "text/plain": "    mean_fit_time  std_fit_time  mean_score_time  std_score_time  \\\n0        0.565403      0.083362         0.036598        0.013351   \n1        0.214205      0.075899         0.010598        0.000486   \n2        1.470994      0.083258         0.085998        0.010369   \n3        1.120996      0.045938         0.059595        0.002245   \n4        1.017600      0.029319         0.057801        0.004216   \n5        1.423603      0.027187         0.084399        0.001628   \n6        0.461600      0.012340         0.029400        0.002498   \n7        0.574601      0.021021         0.035000        0.002607   \n8        0.802995      0.030378         0.047205        0.001601   \n9        1.361602      0.073290         0.077197        0.001936   \n10       0.211402      0.009727         0.014398        0.001356   \n11       0.029598      0.002056         0.003204        0.000400   \n12       1.180601      0.078835         0.079600        0.012419   \n13       1.107589      0.025495         0.065002        0.001672   \n14       0.021998      0.002758         0.006002        0.006511   \n15       0.646802      0.017064         0.036797        0.002228   \n16       1.262398      0.035679         0.072399        0.001856   \n17       1.398598      0.066034         0.081199        0.009908   \n18       0.294202      0.010028         0.018200        0.000983   \n19       1.122802      0.030398         0.052396        0.006648   \n\n   param_max_features param_n_estimators  \\\n0            0.361901                259   \n1            0.278094                 97   \n2            0.465387                901   \n3            0.544212                715   \n4            0.528105                682   \n5            0.308982                990   \n6            0.500506                316   \n7            0.366043                392   \n8             0.46431                559   \n9            0.615706                909   \n10           0.449022                141   \n11           0.373896                 18   \n12           0.402162                774   \n13           0.442501                774   \n14           0.328082                 12   \n15           0.638615                423   \n16           0.307417                866   \n17           0.448744                913   \n18           0.572369                193   \n19           0.059183                741   \n\n                                               params  split0_test_score  \\\n0   {'max_features': 0.36190138409881734, 'n_estim...      -3.725824e+07   \n1   {'max_features': 0.27809418121612106, 'n_estim...      -4.015178e+07   \n2   {'max_features': 0.4653865005504697, 'n_estima...      -3.845484e+07   \n3   {'max_features': 0.5442120733070823, 'n_estima...      -4.088207e+07   \n4   {'max_features': 0.528104845039258, 'n_estimat...      -4.068820e+07   \n5   {'max_features': 0.30898217298530417, 'n_estim...      -3.809760e+07   \n6   {'max_features': 0.5005060893288119, 'n_estima...      -4.022761e+07   \n7   {'max_features': 0.36604345058147, 'n_estimato...      -3.848801e+07   \n8   {'max_features': 0.46430988007106144, 'n_estim...      -3.875141e+07   \n9   {'max_features': 0.615705990989708, 'n_estimat...      -3.990285e+07   \n10  {'max_features': 0.44902183370491494, 'n_estim...      -3.811554e+07   \n11  {'max_features': 0.37389634497269075, 'n_estim...      -3.403021e+07   \n12  {'max_features': 0.4021622298288422, 'n_estima...      -3.773886e+07   \n13  {'max_features': 0.44250108969902635, 'n_estim...      -3.788557e+07   \n14  {'max_features': 0.32808210815911965, 'n_estim...      -3.893295e+07   \n15  {'max_features': 0.6386153845111577, 'n_estima...      -4.018811e+07   \n16  {'max_features': 0.30741710140393697, 'n_estim...      -3.850993e+07   \n17  {'max_features': 0.44874403325156736, 'n_estim...      -3.826030e+07   \n18  {'max_features': 0.572368880492134, 'n_estimat...      -4.031267e+07   \n19  {'max_features': 0.05918338655325994, 'n_estim...      -3.765715e+07   \n\n    split1_test_score  split2_test_score  split3_test_score  \\\n0       -2.414698e+07      -3.480909e+07      -8.642599e+06   \n1       -2.505989e+07      -3.592989e+07      -9.416239e+06   \n2       -2.345332e+07      -3.444958e+07      -8.707785e+06   \n3       -2.655407e+07      -3.062215e+07      -6.374483e+06   \n4       -2.540048e+07      -3.082134e+07      -6.201164e+06   \n5       -2.440335e+07      -3.421003e+07      -8.298631e+06   \n6       -2.586723e+07      -3.062801e+07      -6.936857e+06   \n7       -2.558804e+07      -3.459568e+07      -7.844349e+06   \n8       -2.384973e+07      -3.480671e+07      -8.957301e+06   \n9       -2.619291e+07      -3.124402e+07      -6.489946e+06   \n10      -2.413411e+07      -3.644658e+07      -8.373384e+06   \n11      -2.579456e+07      -3.317226e+07      -1.210354e+07   \n12      -2.444956e+07      -3.443770e+07      -8.376073e+06   \n13      -2.396125e+07      -3.412025e+07      -8.596228e+06   \n14      -1.927330e+07      -3.929162e+07      -1.118231e+07   \n15      -2.545741e+07      -3.102912e+07      -6.487190e+06   \n16      -2.434876e+07      -3.508884e+07      -8.556351e+06   \n17      -2.402229e+07      -3.455459e+07      -8.475833e+06   \n18      -2.644238e+07      -3.222038e+07      -6.585211e+06   \n19      -2.278437e+07      -3.451758e+07      -8.426119e+06   \n\n    split4_test_score  mean_test_score  std_test_score  rank_test_score  \n0       -9.119785e+06    -2.279534e+07    1.218732e+07                4  \n1       -1.030922e+07    -2.417340e+07    1.268305e+07               19  \n2       -8.901000e+06    -2.279330e+07    1.243371e+07                3  \n3       -1.286091e+07    -2.345873e+07    1.239882e+07               17  \n4       -1.260315e+07    -2.314287e+07    1.240968e+07               11  \n5       -9.251023e+06    -2.285213e+07    1.233391e+07                6  \n6       -1.218573e+07    -2.316909e+07    1.214931e+07               12  \n7       -9.959589e+06    -2.329513e+07    1.249277e+07               16  \n8       -9.307789e+06    -2.313459e+07    1.243230e+07                9  \n9       -1.238228e+07    -2.324240e+07    1.223837e+07               14  \n10      -8.623145e+06    -2.313855e+07    1.289273e+07               10  \n11      -1.109509e+07    -2.323913e+07    9.930998e+06               13  \n12      -9.249858e+06    -2.285041e+07    1.227167e+07                5  \n13      -8.822607e+06    -2.267718e+07    1.228096e+07                2  \n14      -1.262228e+07    -2.426049e+07    1.243040e+07               20  \n15      -1.180596e+07    -2.299356e+07    1.236055e+07                8  \n16      -9.848512e+06    -2.327048e+07    1.240751e+07               15  \n17      -9.068191e+06    -2.287624e+07    1.242900e+07                7  \n18      -1.213556e+07    -2.353924e+07    1.251097e+07               18  \n19      -9.841807e+06    -2.264540e+07    1.210323e+07                1  ",
      "text/html": "<div>\n<style scoped>\n    .dataframe tbody tr th:only-of-type {\n        vertical-align: middle;\n    }\n\n    .dataframe tbody tr th {\n        vertical-align: top;\n    }\n\n    .dataframe thead th {\n        text-align: right;\n    }\n</style>\n<table border=\"1\" class=\"dataframe\">\n  <thead>\n    <tr style=\"text-align: right;\">\n      <th></th>\n      <th>mean_fit_time</th>\n      <th>std_fit_time</th>\n      <th>mean_score_time</th>\n      <th>std_score_time</th>\n      <th>param_max_features</th>\n      <th>param_n_estimators</th>\n      <th>params</th>\n      <th>split0_test_score</th>\n      <th>split1_test_score</th>\n      <th>split2_test_score</th>\n      <th>split3_test_score</th>\n      <th>split4_test_score</th>\n      <th>mean_test_score</th>\n      <th>std_test_score</th>\n      <th>rank_test_score</th>\n    </tr>\n  </thead>\n  <tbody>\n    <tr>\n      <th>0</th>\n      <td>0.565403</td>\n      <td>0.083362</td>\n      <td>0.036598</td>\n      <td>0.013351</td>\n      <td>0.361901</td>\n      <td>259</td>\n      <td>{'max_features': 0.36190138409881734, 'n_estim...</td>\n      <td>-3.725824e+07</td>\n      <td>-2.414698e+07</td>\n      <td>-3.480909e+07</td>\n      <td>-8.642599e+06</td>\n      <td>-9.119785e+06</td>\n      <td>-2.279534e+07</td>\n      <td>1.218732e+07</td>\n      <td>4</td>\n    </tr>\n    <tr>\n      <th>1</th>\n      <td>0.214205</td>\n      <td>0.075899</td>\n      <td>0.010598</td>\n      <td>0.000486</td>\n      <td>0.278094</td>\n      <td>97</td>\n      <td>{'max_features': 0.27809418121612106, 'n_estim...</td>\n      <td>-4.015178e+07</td>\n      <td>-2.505989e+07</td>\n      <td>-3.592989e+07</td>\n      <td>-9.416239e+06</td>\n      <td>-1.030922e+07</td>\n      <td>-2.417340e+07</td>\n      <td>1.268305e+07</td>\n      <td>19</td>\n    </tr>\n    <tr>\n      <th>2</th>\n      <td>1.470994</td>\n      <td>0.083258</td>\n      <td>0.085998</td>\n      <td>0.010369</td>\n      <td>0.465387</td>\n      <td>901</td>\n      <td>{'max_features': 0.4653865005504697, 'n_estima...</td>\n      <td>-3.845484e+07</td>\n      <td>-2.345332e+07</td>\n      <td>-3.444958e+07</td>\n      <td>-8.707785e+06</td>\n      <td>-8.901000e+06</td>\n      <td>-2.279330e+07</td>\n      <td>1.243371e+07</td>\n      <td>3</td>\n    </tr>\n    <tr>\n      <th>3</th>\n      <td>1.120996</td>\n      <td>0.045938</td>\n      <td>0.059595</td>\n      <td>0.002245</td>\n      <td>0.544212</td>\n      <td>715</td>\n      <td>{'max_features': 0.5442120733070823, 'n_estima...</td>\n      <td>-4.088207e+07</td>\n      <td>-2.655407e+07</td>\n      <td>-3.062215e+07</td>\n      <td>-6.374483e+06</td>\n      <td>-1.286091e+07</td>\n      <td>-2.345873e+07</td>\n      <td>1.239882e+07</td>\n      <td>17</td>\n    </tr>\n    <tr>\n      <th>4</th>\n      <td>1.017600</td>\n      <td>0.029319</td>\n      <td>0.057801</td>\n      <td>0.004216</td>\n      <td>0.528105</td>\n      <td>682</td>\n      <td>{'max_features': 0.528104845039258, 'n_estimat...</td>\n      <td>-4.068820e+07</td>\n      <td>-2.540048e+07</td>\n      <td>-3.082134e+07</td>\n      <td>-6.201164e+06</td>\n      <td>-1.260315e+07</td>\n      <td>-2.314287e+07</td>\n      <td>1.240968e+07</td>\n      <td>11</td>\n    </tr>\n    <tr>\n      <th>5</th>\n      <td>1.423603</td>\n      <td>0.027187</td>\n      <td>0.084399</td>\n      <td>0.001628</td>\n      <td>0.308982</td>\n      <td>990</td>\n      <td>{'max_features': 0.30898217298530417, 'n_estim...</td>\n      <td>-3.809760e+07</td>\n      <td>-2.440335e+07</td>\n      <td>-3.421003e+07</td>\n      <td>-8.298631e+06</td>\n      <td>-9.251023e+06</td>\n      <td>-2.285213e+07</td>\n      <td>1.233391e+07</td>\n      <td>6</td>\n    </tr>\n    <tr>\n      <th>6</th>\n      <td>0.461600</td>\n      <td>0.012340</td>\n      <td>0.029400</td>\n      <td>0.002498</td>\n      <td>0.500506</td>\n      <td>316</td>\n      <td>{'max_features': 0.5005060893288119, 'n_estima...</td>\n      <td>-4.022761e+07</td>\n      <td>-2.586723e+07</td>\n      <td>-3.062801e+07</td>\n      <td>-6.936857e+06</td>\n      <td>-1.218573e+07</td>\n      <td>-2.316909e+07</td>\n      <td>1.214931e+07</td>\n      <td>12</td>\n    </tr>\n    <tr>\n      <th>7</th>\n      <td>0.574601</td>\n      <td>0.021021</td>\n      <td>0.035000</td>\n      <td>0.002607</td>\n      <td>0.366043</td>\n      <td>392</td>\n      <td>{'max_features': 0.36604345058147, 'n_estimato...</td>\n      <td>-3.848801e+07</td>\n      <td>-2.558804e+07</td>\n      <td>-3.459568e+07</td>\n      <td>-7.844349e+06</td>\n      <td>-9.959589e+06</td>\n      <td>-2.329513e+07</td>\n      <td>1.249277e+07</td>\n      <td>16</td>\n    </tr>\n    <tr>\n      <th>8</th>\n      <td>0.802995</td>\n      <td>0.030378</td>\n      <td>0.047205</td>\n      <td>0.001601</td>\n      <td>0.46431</td>\n      <td>559</td>\n      <td>{'max_features': 0.46430988007106144, 'n_estim...</td>\n      <td>-3.875141e+07</td>\n      <td>-2.384973e+07</td>\n      <td>-3.480671e+07</td>\n      <td>-8.957301e+06</td>\n      <td>-9.307789e+06</td>\n      <td>-2.313459e+07</td>\n      <td>1.243230e+07</td>\n      <td>9</td>\n    </tr>\n    <tr>\n      <th>9</th>\n      <td>1.361602</td>\n      <td>0.073290</td>\n      <td>0.077197</td>\n      <td>0.001936</td>\n      <td>0.615706</td>\n      <td>909</td>\n      <td>{'max_features': 0.615705990989708, 'n_estimat...</td>\n      <td>-3.990285e+07</td>\n      <td>-2.619291e+07</td>\n      <td>-3.124402e+07</td>\n      <td>-6.489946e+06</td>\n      <td>-1.238228e+07</td>\n      <td>-2.324240e+07</td>\n      <td>1.223837e+07</td>\n      <td>14</td>\n    </tr>\n    <tr>\n      <th>10</th>\n      <td>0.211402</td>\n      <td>0.009727</td>\n      <td>0.014398</td>\n      <td>0.001356</td>\n      <td>0.449022</td>\n      <td>141</td>\n      <td>{'max_features': 0.44902183370491494, 'n_estim...</td>\n      <td>-3.811554e+07</td>\n      <td>-2.413411e+07</td>\n      <td>-3.644658e+07</td>\n      <td>-8.373384e+06</td>\n      <td>-8.623145e+06</td>\n      <td>-2.313855e+07</td>\n      <td>1.289273e+07</td>\n      <td>10</td>\n    </tr>\n    <tr>\n      <th>11</th>\n      <td>0.029598</td>\n      <td>0.002056</td>\n      <td>0.003204</td>\n      <td>0.000400</td>\n      <td>0.373896</td>\n      <td>18</td>\n      <td>{'max_features': 0.37389634497269075, 'n_estim...</td>\n      <td>-3.403021e+07</td>\n      <td>-2.579456e+07</td>\n      <td>-3.317226e+07</td>\n      <td>-1.210354e+07</td>\n      <td>-1.109509e+07</td>\n      <td>-2.323913e+07</td>\n      <td>9.930998e+06</td>\n      <td>13</td>\n    </tr>\n    <tr>\n      <th>12</th>\n      <td>1.180601</td>\n      <td>0.078835</td>\n      <td>0.079600</td>\n      <td>0.012419</td>\n      <td>0.402162</td>\n      <td>774</td>\n      <td>{'max_features': 0.4021622298288422, 'n_estima...</td>\n      <td>-3.773886e+07</td>\n      <td>-2.444956e+07</td>\n      <td>-3.443770e+07</td>\n      <td>-8.376073e+06</td>\n      <td>-9.249858e+06</td>\n      <td>-2.285041e+07</td>\n      <td>1.227167e+07</td>\n      <td>5</td>\n    </tr>\n    <tr>\n      <th>13</th>\n      <td>1.107589</td>\n      <td>0.025495</td>\n      <td>0.065002</td>\n      <td>0.001672</td>\n      <td>0.442501</td>\n      <td>774</td>\n      <td>{'max_features': 0.44250108969902635, 'n_estim...</td>\n      <td>-3.788557e+07</td>\n      <td>-2.396125e+07</td>\n      <td>-3.412025e+07</td>\n      <td>-8.596228e+06</td>\n      <td>-8.822607e+06</td>\n      <td>-2.267718e+07</td>\n      <td>1.228096e+07</td>\n      <td>2</td>\n    </tr>\n    <tr>\n      <th>14</th>\n      <td>0.021998</td>\n      <td>0.002758</td>\n      <td>0.006002</td>\n      <td>0.006511</td>\n      <td>0.328082</td>\n      <td>12</td>\n      <td>{'max_features': 0.32808210815911965, 'n_estim...</td>\n      <td>-3.893295e+07</td>\n      <td>-1.927330e+07</td>\n      <td>-3.929162e+07</td>\n      <td>-1.118231e+07</td>\n      <td>-1.262228e+07</td>\n      <td>-2.426049e+07</td>\n      <td>1.243040e+07</td>\n      <td>20</td>\n    </tr>\n    <tr>\n      <th>15</th>\n      <td>0.646802</td>\n      <td>0.017064</td>\n      <td>0.036797</td>\n      <td>0.002228</td>\n      <td>0.638615</td>\n      <td>423</td>\n      <td>{'max_features': 0.6386153845111577, 'n_estima...</td>\n      <td>-4.018811e+07</td>\n      <td>-2.545741e+07</td>\n      <td>-3.102912e+07</td>\n      <td>-6.487190e+06</td>\n      <td>-1.180596e+07</td>\n      <td>-2.299356e+07</td>\n      <td>1.236055e+07</td>\n      <td>8</td>\n    </tr>\n    <tr>\n      <th>16</th>\n      <td>1.262398</td>\n      <td>0.035679</td>\n      <td>0.072399</td>\n      <td>0.001856</td>\n      <td>0.307417</td>\n      <td>866</td>\n      <td>{'max_features': 0.30741710140393697, 'n_estim...</td>\n      <td>-3.850993e+07</td>\n      <td>-2.434876e+07</td>\n      <td>-3.508884e+07</td>\n      <td>-8.556351e+06</td>\n      <td>-9.848512e+06</td>\n      <td>-2.327048e+07</td>\n      <td>1.240751e+07</td>\n      <td>15</td>\n    </tr>\n    <tr>\n      <th>17</th>\n      <td>1.398598</td>\n      <td>0.066034</td>\n      <td>0.081199</td>\n      <td>0.009908</td>\n      <td>0.448744</td>\n      <td>913</td>\n      <td>{'max_features': 0.44874403325156736, 'n_estim...</td>\n      <td>-3.826030e+07</td>\n      <td>-2.402229e+07</td>\n      <td>-3.455459e+07</td>\n      <td>-8.475833e+06</td>\n      <td>-9.068191e+06</td>\n      <td>-2.287624e+07</td>\n      <td>1.242900e+07</td>\n      <td>7</td>\n    </tr>\n    <tr>\n      <th>18</th>\n      <td>0.294202</td>\n      <td>0.010028</td>\n      <td>0.018200</td>\n      <td>0.000983</td>\n      <td>0.572369</td>\n      <td>193</td>\n      <td>{'max_features': 0.572368880492134, 'n_estimat...</td>\n      <td>-4.031267e+07</td>\n      <td>-2.644238e+07</td>\n      <td>-3.222038e+07</td>\n      <td>-6.585211e+06</td>\n      <td>-1.213556e+07</td>\n      <td>-2.353924e+07</td>\n      <td>1.251097e+07</td>\n      <td>18</td>\n    </tr>\n    <tr>\n      <th>19</th>\n      <td>1.122802</td>\n      <td>0.030398</td>\n      <td>0.052396</td>\n      <td>0.006648</td>\n      <td>0.059183</td>\n      <td>741</td>\n      <td>{'max_features': 0.05918338655325994, 'n_estim...</td>\n      <td>-3.765715e+07</td>\n      <td>-2.278437e+07</td>\n      <td>-3.451758e+07</td>\n      <td>-8.426119e+06</td>\n      <td>-9.841807e+06</td>\n      <td>-2.264540e+07</td>\n      <td>1.210323e+07</td>\n      <td>1</td>\n    </tr>\n  </tbody>\n</table>\n</div>"
     },
     "execution_count": 97,
     "metadata": {},
     "output_type": "execute_result"
    }
   ],
   "source": [
    "pd.DataFrame(gridRandomized.cv_results_)"
   ],
   "metadata": {
    "collapsed": false
   }
  },
  {
   "cell_type": "code",
   "execution_count": 98,
   "outputs": [
    {
     "data": {
      "text/plain": "3019.694196201905"
     },
     "execution_count": 98,
     "metadata": {},
     "output_type": "execute_result"
    }
   ],
   "source": [
    "calc_error(gridRandomized, X_test, y_test)"
   ],
   "metadata": {
    "collapsed": false
   }
  }
 ],
 "metadata": {
  "kernelspec": {
   "display_name": "Python 3",
   "language": "python",
   "name": "python3"
  },
  "language_info": {
   "codemirror_mode": {
    "name": "ipython",
    "version": 2
   },
   "file_extension": ".py",
   "mimetype": "text/x-python",
   "name": "python",
   "nbconvert_exporter": "python",
   "pygments_lexer": "ipython2",
   "version": "2.7.6"
  }
 },
 "nbformat": 4,
 "nbformat_minor": 0
}
