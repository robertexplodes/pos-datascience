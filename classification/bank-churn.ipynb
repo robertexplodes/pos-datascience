{
 "cells": [
  {
   "cell_type": "code",
   "execution_count": 1,
   "outputs": [],
   "source": [
    "import pandas as pd"
   ],
   "metadata": {
    "collapsed": false
   }
  },
  {
   "cell_type": "markdown",
   "source": [
    "## Erstelle aus `bank-churn.csv` einen DataFrame"
   ],
   "metadata": {
    "collapsed": false
   }
  },
  {
   "cell_type": "code",
   "execution_count": 2,
   "outputs": [
    {
     "data": {
      "text/plain": "   RowNumber  CustomerId   Surname  CreditScore Geography  Gender  Age  \\\n0          1    15634602  Hargrave          619    France  Female   42   \n1          2    15647311      Hill          608     Spain  Female   41   \n2          3    15619304      Onio          502    France  Female   42   \n3          4    15701354      Boni          699    France  Female   39   \n4          5    15737888  Mitchell          850     Spain  Female   43   \n\n   Tenure    Balance  NumOfProducts  HasCrCard  IsActiveMember  \\\n0       2       0.00              1          1               1   \n1       1   83807.86              1          0               1   \n2       8  159660.80              3          1               0   \n3       1       0.00              2          0               0   \n4       2  125510.82              1          1               1   \n\n   EstimatedSalary  Exited  \n0        101348.88       1  \n1        112542.58       0  \n2        113931.57       1  \n3         93826.63       0  \n4         79084.10       0  ",
      "text/html": "<div>\n<style scoped>\n    .dataframe tbody tr th:only-of-type {\n        vertical-align: middle;\n    }\n\n    .dataframe tbody tr th {\n        vertical-align: top;\n    }\n\n    .dataframe thead th {\n        text-align: right;\n    }\n</style>\n<table border=\"1\" class=\"dataframe\">\n  <thead>\n    <tr style=\"text-align: right;\">\n      <th></th>\n      <th>RowNumber</th>\n      <th>CustomerId</th>\n      <th>Surname</th>\n      <th>CreditScore</th>\n      <th>Geography</th>\n      <th>Gender</th>\n      <th>Age</th>\n      <th>Tenure</th>\n      <th>Balance</th>\n      <th>NumOfProducts</th>\n      <th>HasCrCard</th>\n      <th>IsActiveMember</th>\n      <th>EstimatedSalary</th>\n      <th>Exited</th>\n    </tr>\n  </thead>\n  <tbody>\n    <tr>\n      <th>0</th>\n      <td>1</td>\n      <td>15634602</td>\n      <td>Hargrave</td>\n      <td>619</td>\n      <td>France</td>\n      <td>Female</td>\n      <td>42</td>\n      <td>2</td>\n      <td>0.00</td>\n      <td>1</td>\n      <td>1</td>\n      <td>1</td>\n      <td>101348.88</td>\n      <td>1</td>\n    </tr>\n    <tr>\n      <th>1</th>\n      <td>2</td>\n      <td>15647311</td>\n      <td>Hill</td>\n      <td>608</td>\n      <td>Spain</td>\n      <td>Female</td>\n      <td>41</td>\n      <td>1</td>\n      <td>83807.86</td>\n      <td>1</td>\n      <td>0</td>\n      <td>1</td>\n      <td>112542.58</td>\n      <td>0</td>\n    </tr>\n    <tr>\n      <th>2</th>\n      <td>3</td>\n      <td>15619304</td>\n      <td>Onio</td>\n      <td>502</td>\n      <td>France</td>\n      <td>Female</td>\n      <td>42</td>\n      <td>8</td>\n      <td>159660.80</td>\n      <td>3</td>\n      <td>1</td>\n      <td>0</td>\n      <td>113931.57</td>\n      <td>1</td>\n    </tr>\n    <tr>\n      <th>3</th>\n      <td>4</td>\n      <td>15701354</td>\n      <td>Boni</td>\n      <td>699</td>\n      <td>France</td>\n      <td>Female</td>\n      <td>39</td>\n      <td>1</td>\n      <td>0.00</td>\n      <td>2</td>\n      <td>0</td>\n      <td>0</td>\n      <td>93826.63</td>\n      <td>0</td>\n    </tr>\n    <tr>\n      <th>4</th>\n      <td>5</td>\n      <td>15737888</td>\n      <td>Mitchell</td>\n      <td>850</td>\n      <td>Spain</td>\n      <td>Female</td>\n      <td>43</td>\n      <td>2</td>\n      <td>125510.82</td>\n      <td>1</td>\n      <td>1</td>\n      <td>1</td>\n      <td>79084.10</td>\n      <td>0</td>\n    </tr>\n  </tbody>\n</table>\n</div>"
     },
     "execution_count": 2,
     "metadata": {},
     "output_type": "execute_result"
    }
   ],
   "source": [
    "df = pd.read_csv('data/bank-churn.csv')\n",
    "df.head()"
   ],
   "metadata": {
    "collapsed": false
   }
  },
  {
   "cell_type": "markdown",
   "source": [
    "## Data Cleaning"
   ],
   "metadata": {
    "collapsed": false
   }
  },
  {
   "cell_type": "code",
   "execution_count": 3,
   "outputs": [
    {
     "data": {
      "text/plain": "      CreditScore Geography  Gender  Age  Tenure    Balance  NumOfProducts  \\\n0             619    France  Female   42       2       0.00              1   \n1             608     Spain  Female   41       1   83807.86              1   \n2             502    France  Female   42       8  159660.80              3   \n3             699    France  Female   39       1       0.00              2   \n4             850     Spain  Female   43       2  125510.82              1   \n...           ...       ...     ...  ...     ...        ...            ...   \n9995          771    France    Male   39       5       0.00              2   \n9996          516    France    Male   35      10   57369.61              1   \n9997          709    France  Female   36       7       0.00              1   \n9998          772   Germany    Male   42       3   75075.31              2   \n9999          792    France  Female   28       4  130142.79              1   \n\n      HasCrCard  IsActiveMember  EstimatedSalary  Exited  \n0             1               1        101348.88       1  \n1             0               1        112542.58       0  \n2             1               0        113931.57       1  \n3             0               0         93826.63       0  \n4             1               1         79084.10       0  \n...         ...             ...              ...     ...  \n9995          1               0         96270.64       0  \n9996          1               1        101699.77       0  \n9997          0               1         42085.58       1  \n9998          1               0         92888.52       1  \n9999          1               0         38190.78       0  \n\n[10000 rows x 11 columns]",
      "text/html": "<div>\n<style scoped>\n    .dataframe tbody tr th:only-of-type {\n        vertical-align: middle;\n    }\n\n    .dataframe tbody tr th {\n        vertical-align: top;\n    }\n\n    .dataframe thead th {\n        text-align: right;\n    }\n</style>\n<table border=\"1\" class=\"dataframe\">\n  <thead>\n    <tr style=\"text-align: right;\">\n      <th></th>\n      <th>CreditScore</th>\n      <th>Geography</th>\n      <th>Gender</th>\n      <th>Age</th>\n      <th>Tenure</th>\n      <th>Balance</th>\n      <th>NumOfProducts</th>\n      <th>HasCrCard</th>\n      <th>IsActiveMember</th>\n      <th>EstimatedSalary</th>\n      <th>Exited</th>\n    </tr>\n  </thead>\n  <tbody>\n    <tr>\n      <th>0</th>\n      <td>619</td>\n      <td>France</td>\n      <td>Female</td>\n      <td>42</td>\n      <td>2</td>\n      <td>0.00</td>\n      <td>1</td>\n      <td>1</td>\n      <td>1</td>\n      <td>101348.88</td>\n      <td>1</td>\n    </tr>\n    <tr>\n      <th>1</th>\n      <td>608</td>\n      <td>Spain</td>\n      <td>Female</td>\n      <td>41</td>\n      <td>1</td>\n      <td>83807.86</td>\n      <td>1</td>\n      <td>0</td>\n      <td>1</td>\n      <td>112542.58</td>\n      <td>0</td>\n    </tr>\n    <tr>\n      <th>2</th>\n      <td>502</td>\n      <td>France</td>\n      <td>Female</td>\n      <td>42</td>\n      <td>8</td>\n      <td>159660.80</td>\n      <td>3</td>\n      <td>1</td>\n      <td>0</td>\n      <td>113931.57</td>\n      <td>1</td>\n    </tr>\n    <tr>\n      <th>3</th>\n      <td>699</td>\n      <td>France</td>\n      <td>Female</td>\n      <td>39</td>\n      <td>1</td>\n      <td>0.00</td>\n      <td>2</td>\n      <td>0</td>\n      <td>0</td>\n      <td>93826.63</td>\n      <td>0</td>\n    </tr>\n    <tr>\n      <th>4</th>\n      <td>850</td>\n      <td>Spain</td>\n      <td>Female</td>\n      <td>43</td>\n      <td>2</td>\n      <td>125510.82</td>\n      <td>1</td>\n      <td>1</td>\n      <td>1</td>\n      <td>79084.10</td>\n      <td>0</td>\n    </tr>\n    <tr>\n      <th>...</th>\n      <td>...</td>\n      <td>...</td>\n      <td>...</td>\n      <td>...</td>\n      <td>...</td>\n      <td>...</td>\n      <td>...</td>\n      <td>...</td>\n      <td>...</td>\n      <td>...</td>\n      <td>...</td>\n    </tr>\n    <tr>\n      <th>9995</th>\n      <td>771</td>\n      <td>France</td>\n      <td>Male</td>\n      <td>39</td>\n      <td>5</td>\n      <td>0.00</td>\n      <td>2</td>\n      <td>1</td>\n      <td>0</td>\n      <td>96270.64</td>\n      <td>0</td>\n    </tr>\n    <tr>\n      <th>9996</th>\n      <td>516</td>\n      <td>France</td>\n      <td>Male</td>\n      <td>35</td>\n      <td>10</td>\n      <td>57369.61</td>\n      <td>1</td>\n      <td>1</td>\n      <td>1</td>\n      <td>101699.77</td>\n      <td>0</td>\n    </tr>\n    <tr>\n      <th>9997</th>\n      <td>709</td>\n      <td>France</td>\n      <td>Female</td>\n      <td>36</td>\n      <td>7</td>\n      <td>0.00</td>\n      <td>1</td>\n      <td>0</td>\n      <td>1</td>\n      <td>42085.58</td>\n      <td>1</td>\n    </tr>\n    <tr>\n      <th>9998</th>\n      <td>772</td>\n      <td>Germany</td>\n      <td>Male</td>\n      <td>42</td>\n      <td>3</td>\n      <td>75075.31</td>\n      <td>2</td>\n      <td>1</td>\n      <td>0</td>\n      <td>92888.52</td>\n      <td>1</td>\n    </tr>\n    <tr>\n      <th>9999</th>\n      <td>792</td>\n      <td>France</td>\n      <td>Female</td>\n      <td>28</td>\n      <td>4</td>\n      <td>130142.79</td>\n      <td>1</td>\n      <td>1</td>\n      <td>0</td>\n      <td>38190.78</td>\n      <td>0</td>\n    </tr>\n  </tbody>\n</table>\n<p>10000 rows × 11 columns</p>\n</div>"
     },
     "execution_count": 3,
     "metadata": {},
     "output_type": "execute_result"
    }
   ],
   "source": [
    "df = df.drop(columns=[\"CustomerId\", \"Surname\", \"RowNumber\"])\n",
    "df"
   ],
   "metadata": {
    "collapsed": false
   }
  },
  {
   "cell_type": "code",
   "execution_count": 4,
   "outputs": [
    {
     "data": {
      "text/plain": "   CreditScore  Age  Tenure    Balance  NumOfProducts  HasCrCard  \\\n0          619   42       2       0.00              1          1   \n1          608   41       1   83807.86              1          0   \n2          502   42       8  159660.80              3          1   \n3          699   39       1       0.00              2          0   \n4          850   43       2  125510.82              1          1   \n\n   IsActiveMember  EstimatedSalary  Exited  Gender_Male  Geography_Germany  \\\n0               1        101348.88       1            0                  0   \n1               1        112542.58       0            0                  0   \n2               0        113931.57       1            0                  0   \n3               0         93826.63       0            0                  0   \n4               1         79084.10       0            0                  0   \n\n   Geography_Spain  \n0                0  \n1                1  \n2                0  \n3                0  \n4                1  ",
      "text/html": "<div>\n<style scoped>\n    .dataframe tbody tr th:only-of-type {\n        vertical-align: middle;\n    }\n\n    .dataframe tbody tr th {\n        vertical-align: top;\n    }\n\n    .dataframe thead th {\n        text-align: right;\n    }\n</style>\n<table border=\"1\" class=\"dataframe\">\n  <thead>\n    <tr style=\"text-align: right;\">\n      <th></th>\n      <th>CreditScore</th>\n      <th>Age</th>\n      <th>Tenure</th>\n      <th>Balance</th>\n      <th>NumOfProducts</th>\n      <th>HasCrCard</th>\n      <th>IsActiveMember</th>\n      <th>EstimatedSalary</th>\n      <th>Exited</th>\n      <th>Gender_Male</th>\n      <th>Geography_Germany</th>\n      <th>Geography_Spain</th>\n    </tr>\n  </thead>\n  <tbody>\n    <tr>\n      <th>0</th>\n      <td>619</td>\n      <td>42</td>\n      <td>2</td>\n      <td>0.00</td>\n      <td>1</td>\n      <td>1</td>\n      <td>1</td>\n      <td>101348.88</td>\n      <td>1</td>\n      <td>0</td>\n      <td>0</td>\n      <td>0</td>\n    </tr>\n    <tr>\n      <th>1</th>\n      <td>608</td>\n      <td>41</td>\n      <td>1</td>\n      <td>83807.86</td>\n      <td>1</td>\n      <td>0</td>\n      <td>1</td>\n      <td>112542.58</td>\n      <td>0</td>\n      <td>0</td>\n      <td>0</td>\n      <td>1</td>\n    </tr>\n    <tr>\n      <th>2</th>\n      <td>502</td>\n      <td>42</td>\n      <td>8</td>\n      <td>159660.80</td>\n      <td>3</td>\n      <td>1</td>\n      <td>0</td>\n      <td>113931.57</td>\n      <td>1</td>\n      <td>0</td>\n      <td>0</td>\n      <td>0</td>\n    </tr>\n    <tr>\n      <th>3</th>\n      <td>699</td>\n      <td>39</td>\n      <td>1</td>\n      <td>0.00</td>\n      <td>2</td>\n      <td>0</td>\n      <td>0</td>\n      <td>93826.63</td>\n      <td>0</td>\n      <td>0</td>\n      <td>0</td>\n      <td>0</td>\n    </tr>\n    <tr>\n      <th>4</th>\n      <td>850</td>\n      <td>43</td>\n      <td>2</td>\n      <td>125510.82</td>\n      <td>1</td>\n      <td>1</td>\n      <td>1</td>\n      <td>79084.10</td>\n      <td>0</td>\n      <td>0</td>\n      <td>0</td>\n      <td>1</td>\n    </tr>\n  </tbody>\n</table>\n</div>"
     },
     "execution_count": 4,
     "metadata": {},
     "output_type": "execute_result"
    }
   ],
   "source": [
    "df = pd.get_dummies(data=df, columns=['Gender', 'Geography'], drop_first=True)\n",
    "df.head()"
   ],
   "metadata": {
    "collapsed": false
   }
  },
  {
   "cell_type": "markdown",
   "source": [
    "## Training\n",
    "* 20% Testdaten\n",
    "* `random_state=42` sofern unterstützt\n",
    "* target feature: `Exited`\n",
    "* Ziel: score von 0.85"
   ],
   "metadata": {
    "collapsed": false
   }
  },
  {
   "cell_type": "code",
   "execution_count": 5,
   "outputs": [],
   "source": [
    "from sklearn.model_selection import train_test_split\n",
    "\n",
    "X = df.drop(columns='Exited')\n",
    "y = df['Exited']\n",
    "\n",
    "X_train, X_test, y_train, y_test = train_test_split(X, y, test_size=0.2, random_state=42)"
   ],
   "metadata": {
    "collapsed": false
   }
  },
  {
   "cell_type": "code",
   "execution_count": 6,
   "outputs": [
    {
     "data": {
      "text/plain": "      CreditScore  Age  Tenure    Balance  NumOfProducts  HasCrCard  \\\n9254          686   32       6       0.00              2          1   \n1561          632   42       4  119624.60              2          1   \n1670          559   24       3  114739.92              1          1   \n6087          561   27       9  135637.00              1          1   \n6669          517   56       9  142147.32              1          0   \n...           ...  ...     ...        ...            ...        ...   \n5734          768   54       8   69712.74              1          1   \n5191          682   58       1       0.00              1          1   \n5390          735   38       1       0.00              3          0   \n860           667   43       8  190227.46              1          1   \n7270          697   51       1  147910.30              1          1   \n\n      IsActiveMember  EstimatedSalary  Gender_Male  Geography_Germany  \\\n9254               1        179093.26            1                  0   \n1561               1        195978.86            1                  1   \n1670               0         85891.02            1                  0   \n6087               0        153080.40            0                  0   \n6669               0         39488.04            1                  0   \n...              ...              ...          ...                ...   \n5734               1         69381.05            1                  0   \n5191               1           706.50            0                  0   \n5390               0         92220.12            0                  0   \n860                0         97508.04            1                  0   \n7270               1         53581.14            1                  1   \n\n      Geography_Spain  \n9254                0  \n1561                0  \n1670                1  \n6087                0  \n6669                0  \n...               ...  \n5734                0  \n5191                0  \n5390                0  \n860                 0  \n7270                0  \n\n[8000 rows x 11 columns]",
      "text/html": "<div>\n<style scoped>\n    .dataframe tbody tr th:only-of-type {\n        vertical-align: middle;\n    }\n\n    .dataframe tbody tr th {\n        vertical-align: top;\n    }\n\n    .dataframe thead th {\n        text-align: right;\n    }\n</style>\n<table border=\"1\" class=\"dataframe\">\n  <thead>\n    <tr style=\"text-align: right;\">\n      <th></th>\n      <th>CreditScore</th>\n      <th>Age</th>\n      <th>Tenure</th>\n      <th>Balance</th>\n      <th>NumOfProducts</th>\n      <th>HasCrCard</th>\n      <th>IsActiveMember</th>\n      <th>EstimatedSalary</th>\n      <th>Gender_Male</th>\n      <th>Geography_Germany</th>\n      <th>Geography_Spain</th>\n    </tr>\n  </thead>\n  <tbody>\n    <tr>\n      <th>9254</th>\n      <td>686</td>\n      <td>32</td>\n      <td>6</td>\n      <td>0.00</td>\n      <td>2</td>\n      <td>1</td>\n      <td>1</td>\n      <td>179093.26</td>\n      <td>1</td>\n      <td>0</td>\n      <td>0</td>\n    </tr>\n    <tr>\n      <th>1561</th>\n      <td>632</td>\n      <td>42</td>\n      <td>4</td>\n      <td>119624.60</td>\n      <td>2</td>\n      <td>1</td>\n      <td>1</td>\n      <td>195978.86</td>\n      <td>1</td>\n      <td>1</td>\n      <td>0</td>\n    </tr>\n    <tr>\n      <th>1670</th>\n      <td>559</td>\n      <td>24</td>\n      <td>3</td>\n      <td>114739.92</td>\n      <td>1</td>\n      <td>1</td>\n      <td>0</td>\n      <td>85891.02</td>\n      <td>1</td>\n      <td>0</td>\n      <td>1</td>\n    </tr>\n    <tr>\n      <th>6087</th>\n      <td>561</td>\n      <td>27</td>\n      <td>9</td>\n      <td>135637.00</td>\n      <td>1</td>\n      <td>1</td>\n      <td>0</td>\n      <td>153080.40</td>\n      <td>0</td>\n      <td>0</td>\n      <td>0</td>\n    </tr>\n    <tr>\n      <th>6669</th>\n      <td>517</td>\n      <td>56</td>\n      <td>9</td>\n      <td>142147.32</td>\n      <td>1</td>\n      <td>0</td>\n      <td>0</td>\n      <td>39488.04</td>\n      <td>1</td>\n      <td>0</td>\n      <td>0</td>\n    </tr>\n    <tr>\n      <th>...</th>\n      <td>...</td>\n      <td>...</td>\n      <td>...</td>\n      <td>...</td>\n      <td>...</td>\n      <td>...</td>\n      <td>...</td>\n      <td>...</td>\n      <td>...</td>\n      <td>...</td>\n      <td>...</td>\n    </tr>\n    <tr>\n      <th>5734</th>\n      <td>768</td>\n      <td>54</td>\n      <td>8</td>\n      <td>69712.74</td>\n      <td>1</td>\n      <td>1</td>\n      <td>1</td>\n      <td>69381.05</td>\n      <td>1</td>\n      <td>0</td>\n      <td>0</td>\n    </tr>\n    <tr>\n      <th>5191</th>\n      <td>682</td>\n      <td>58</td>\n      <td>1</td>\n      <td>0.00</td>\n      <td>1</td>\n      <td>1</td>\n      <td>1</td>\n      <td>706.50</td>\n      <td>0</td>\n      <td>0</td>\n      <td>0</td>\n    </tr>\n    <tr>\n      <th>5390</th>\n      <td>735</td>\n      <td>38</td>\n      <td>1</td>\n      <td>0.00</td>\n      <td>3</td>\n      <td>0</td>\n      <td>0</td>\n      <td>92220.12</td>\n      <td>0</td>\n      <td>0</td>\n      <td>0</td>\n    </tr>\n    <tr>\n      <th>860</th>\n      <td>667</td>\n      <td>43</td>\n      <td>8</td>\n      <td>190227.46</td>\n      <td>1</td>\n      <td>1</td>\n      <td>0</td>\n      <td>97508.04</td>\n      <td>1</td>\n      <td>0</td>\n      <td>0</td>\n    </tr>\n    <tr>\n      <th>7270</th>\n      <td>697</td>\n      <td>51</td>\n      <td>1</td>\n      <td>147910.30</td>\n      <td>1</td>\n      <td>1</td>\n      <td>1</td>\n      <td>53581.14</td>\n      <td>1</td>\n      <td>1</td>\n      <td>0</td>\n    </tr>\n  </tbody>\n</table>\n<p>8000 rows × 11 columns</p>\n</div>"
     },
     "execution_count": 6,
     "metadata": {},
     "output_type": "execute_result"
    }
   ],
   "source": [
    "X_train"
   ],
   "metadata": {
    "collapsed": false
   }
  },
  {
   "cell_type": "code",
   "execution_count": 7,
   "outputs": [
    {
     "name": "stdout",
     "output_type": "stream",
     "text": [
      "Epoch 1/100\n",
      "500/500 [==============================] - 3s 3ms/step - loss: 957.6455 - accuracy: 0.6464 - val_loss: 41.3398 - val_accuracy: 0.6810\n",
      "Epoch 2/100\n",
      "500/500 [==============================] - 1s 2ms/step - loss: 70.6746 - accuracy: 0.6681 - val_loss: 67.8035 - val_accuracy: 0.7805\n",
      "Epoch 3/100\n",
      "500/500 [==============================] - 1s 2ms/step - loss: 70.1897 - accuracy: 0.6691 - val_loss: 29.5327 - val_accuracy: 0.7280\n",
      "Epoch 4/100\n",
      "500/500 [==============================] - 1s 2ms/step - loss: 61.8930 - accuracy: 0.6771 - val_loss: 75.1139 - val_accuracy: 0.6970\n",
      "Epoch 5/100\n",
      "500/500 [==============================] - 1s 2ms/step - loss: 67.0658 - accuracy: 0.6774 - val_loss: 39.3579 - val_accuracy: 0.7980\n",
      "Epoch 6/100\n",
      "500/500 [==============================] - 1s 2ms/step - loss: 64.0283 - accuracy: 0.6759 - val_loss: 16.9387 - val_accuracy: 0.7190\n",
      "Epoch 7/100\n",
      "500/500 [==============================] - 1s 2ms/step - loss: 51.9098 - accuracy: 0.6801 - val_loss: 44.0388 - val_accuracy: 0.8030\n",
      "Epoch 8/100\n",
      "500/500 [==============================] - 1s 2ms/step - loss: 47.4818 - accuracy: 0.6827 - val_loss: 45.3969 - val_accuracy: 0.5615\n",
      "Epoch 9/100\n",
      "500/500 [==============================] - 1s 2ms/step - loss: 45.7268 - accuracy: 0.6831 - val_loss: 215.0150 - val_accuracy: 0.8035\n",
      "Epoch 10/100\n",
      "500/500 [==============================] - 1s 2ms/step - loss: 54.5104 - accuracy: 0.6776 - val_loss: 48.6335 - val_accuracy: 0.8025\n",
      "Epoch 11/100\n",
      "500/500 [==============================] - 1s 2ms/step - loss: 39.9268 - accuracy: 0.6845 - val_loss: 33.5455 - val_accuracy: 0.8040\n",
      "Epoch 12/100\n",
      "500/500 [==============================] - 1s 2ms/step - loss: 45.2090 - accuracy: 0.6798 - val_loss: 5.6137 - val_accuracy: 0.7255\n",
      "Epoch 13/100\n",
      "500/500 [==============================] - 1s 2ms/step - loss: 42.3790 - accuracy: 0.6816 - val_loss: 52.1232 - val_accuracy: 0.6205\n",
      "Epoch 14/100\n",
      "500/500 [==============================] - 1s 2ms/step - loss: 35.2445 - accuracy: 0.6814 - val_loss: 53.2512 - val_accuracy: 0.2850\n",
      "Epoch 15/100\n",
      "500/500 [==============================] - 1s 2ms/step - loss: 34.9151 - accuracy: 0.6889 - val_loss: 48.7156 - val_accuracy: 0.7750\n",
      "Epoch 16/100\n",
      "500/500 [==============================] - 1s 2ms/step - loss: 43.2804 - accuracy: 0.6790 - val_loss: 40.0321 - val_accuracy: 0.8020\n",
      "Epoch 17/100\n",
      "500/500 [==============================] - 1s 2ms/step - loss: 44.6957 - accuracy: 0.6783 - val_loss: 16.9562 - val_accuracy: 0.8025\n",
      "Epoch 18/100\n",
      "500/500 [==============================] - 1s 2ms/step - loss: 31.5575 - accuracy: 0.6830 - val_loss: 34.1421 - val_accuracy: 0.4685\n",
      "Epoch 19/100\n",
      "500/500 [==============================] - 1s 2ms/step - loss: 41.2781 - accuracy: 0.6741 - val_loss: 12.0243 - val_accuracy: 0.8010\n",
      "Epoch 20/100\n",
      "500/500 [==============================] - 1s 2ms/step - loss: 40.3021 - accuracy: 0.6837 - val_loss: 36.8014 - val_accuracy: 0.7290\n",
      "Epoch 21/100\n",
      "500/500 [==============================] - 1s 2ms/step - loss: 36.6524 - accuracy: 0.6793 - val_loss: 48.9766 - val_accuracy: 0.8035\n",
      "Epoch 22/100\n",
      "500/500 [==============================] - 1s 2ms/step - loss: 29.7879 - accuracy: 0.6879 - val_loss: 16.9761 - val_accuracy: 0.8035\n",
      "Epoch 23/100\n",
      "500/500 [==============================] - 1s 2ms/step - loss: 26.3282 - accuracy: 0.6888 - val_loss: 49.7150 - val_accuracy: 0.5015\n",
      "Epoch 24/100\n",
      "500/500 [==============================] - 1s 2ms/step - loss: 36.2262 - accuracy: 0.6759 - val_loss: 45.9665 - val_accuracy: 0.8035\n",
      "Epoch 25/100\n",
      "500/500 [==============================] - 1s 2ms/step - loss: 27.4912 - accuracy: 0.6888 - val_loss: 33.5840 - val_accuracy: 0.7980\n",
      "Epoch 26/100\n",
      "500/500 [==============================] - 1s 2ms/step - loss: 26.8534 - accuracy: 0.6851 - val_loss: 10.1276 - val_accuracy: 0.7495\n",
      "Epoch 27/100\n",
      "500/500 [==============================] - 1s 2ms/step - loss: 30.3868 - accuracy: 0.6816 - val_loss: 23.1964 - val_accuracy: 0.5195\n",
      "Epoch 28/100\n",
      "500/500 [==============================] - 1s 2ms/step - loss: 27.2028 - accuracy: 0.6759 - val_loss: 35.5809 - val_accuracy: 0.5845\n",
      "Epoch 29/100\n",
      "500/500 [==============================] - 1s 2ms/step - loss: 26.8634 - accuracy: 0.6808 - val_loss: 8.2914 - val_accuracy: 0.7220\n",
      "Epoch 30/100\n",
      "500/500 [==============================] - 1s 2ms/step - loss: 26.8337 - accuracy: 0.6854 - val_loss: 12.6719 - val_accuracy: 0.8035\n",
      "Epoch 31/100\n",
      "500/500 [==============================] - 1s 2ms/step - loss: 23.6549 - accuracy: 0.6758 - val_loss: 18.1677 - val_accuracy: 0.8035\n",
      "Epoch 32/100\n",
      "500/500 [==============================] - 1s 2ms/step - loss: 25.9822 - accuracy: 0.6756 - val_loss: 15.0372 - val_accuracy: 0.5455\n",
      "Epoch 33/100\n",
      "500/500 [==============================] - 1s 2ms/step - loss: 26.1223 - accuracy: 0.6848 - val_loss: 17.9763 - val_accuracy: 0.8035\n",
      "Epoch 34/100\n",
      "500/500 [==============================] - 1s 2ms/step - loss: 27.8321 - accuracy: 0.6765 - val_loss: 28.3722 - val_accuracy: 0.7860\n",
      "Epoch 35/100\n",
      "500/500 [==============================] - 1s 2ms/step - loss: 23.4078 - accuracy: 0.6810 - val_loss: 20.8426 - val_accuracy: 0.8035\n",
      "Epoch 36/100\n",
      "500/500 [==============================] - 1s 2ms/step - loss: 26.0178 - accuracy: 0.6795 - val_loss: 30.5435 - val_accuracy: 0.8035\n",
      "Epoch 37/100\n",
      "500/500 [==============================] - 1s 2ms/step - loss: 19.2177 - accuracy: 0.6786 - val_loss: 14.1366 - val_accuracy: 0.8005\n",
      "Epoch 38/100\n",
      "500/500 [==============================] - 1s 2ms/step - loss: 19.7153 - accuracy: 0.6817 - val_loss: 10.9185 - val_accuracy: 0.6700\n",
      "Epoch 39/100\n",
      "500/500 [==============================] - 1s 2ms/step - loss: 19.6329 - accuracy: 0.6791 - val_loss: 11.2004 - val_accuracy: 0.7895\n",
      "Epoch 40/100\n",
      "500/500 [==============================] - 1s 2ms/step - loss: 19.0193 - accuracy: 0.6775 - val_loss: 4.3647 - val_accuracy: 0.8020\n",
      "Epoch 41/100\n",
      "500/500 [==============================] - 1s 2ms/step - loss: 22.0184 - accuracy: 0.6759 - val_loss: 22.3763 - val_accuracy: 0.7925\n",
      "Epoch 42/100\n",
      "500/500 [==============================] - 1s 2ms/step - loss: 22.1085 - accuracy: 0.6739 - val_loss: 8.5622 - val_accuracy: 0.5020\n",
      "Epoch 43/100\n",
      "500/500 [==============================] - 1s 2ms/step - loss: 21.4213 - accuracy: 0.6789 - val_loss: 66.4691 - val_accuracy: 0.2000\n",
      "Epoch 44/100\n",
      "500/500 [==============================] - 1s 2ms/step - loss: 19.8835 - accuracy: 0.6825 - val_loss: 8.9756 - val_accuracy: 0.7500\n",
      "Epoch 45/100\n",
      "500/500 [==============================] - 1s 2ms/step - loss: 21.9064 - accuracy: 0.6812 - val_loss: 18.4118 - val_accuracy: 0.8035\n",
      "Epoch 46/100\n",
      "500/500 [==============================] - 1s 2ms/step - loss: 12.9136 - accuracy: 0.6914 - val_loss: 59.7980 - val_accuracy: 0.8035\n",
      "Epoch 47/100\n",
      "500/500 [==============================] - 1s 2ms/step - loss: 15.0804 - accuracy: 0.6898 - val_loss: 3.1911 - val_accuracy: 0.7045\n",
      "Epoch 48/100\n",
      "500/500 [==============================] - 1s 2ms/step - loss: 19.0205 - accuracy: 0.6806 - val_loss: 21.5962 - val_accuracy: 0.7165\n",
      "Epoch 49/100\n",
      "500/500 [==============================] - 1s 2ms/step - loss: 20.7289 - accuracy: 0.6904 - val_loss: 13.2062 - val_accuracy: 0.4480\n",
      "Epoch 50/100\n",
      "500/500 [==============================] - 1s 2ms/step - loss: 14.5345 - accuracy: 0.6855 - val_loss: 10.9664 - val_accuracy: 0.5700\n",
      "Epoch 51/100\n",
      "500/500 [==============================] - 1s 2ms/step - loss: 17.5798 - accuracy: 0.6862 - val_loss: 16.6509 - val_accuracy: 0.8035\n",
      "Epoch 52/100\n",
      "500/500 [==============================] - 1s 2ms/step - loss: 20.9258 - accuracy: 0.6852 - val_loss: 8.5882 - val_accuracy: 0.6545\n",
      "Epoch 53/100\n",
      "500/500 [==============================] - 1s 2ms/step - loss: 16.5298 - accuracy: 0.6898 - val_loss: 17.7720 - val_accuracy: 0.4890\n",
      "Epoch 54/100\n",
      "500/500 [==============================] - 1s 2ms/step - loss: 17.8182 - accuracy: 0.6845 - val_loss: 4.3256 - val_accuracy: 0.7895\n",
      "Epoch 55/100\n",
      "500/500 [==============================] - 1s 2ms/step - loss: 14.0262 - accuracy: 0.6908 - val_loss: 8.3386 - val_accuracy: 0.3075\n",
      "Epoch 56/100\n",
      "500/500 [==============================] - 1s 2ms/step - loss: 12.1626 - accuracy: 0.6956 - val_loss: 2.8883 - val_accuracy: 0.6695\n",
      "Epoch 57/100\n",
      "500/500 [==============================] - 1s 2ms/step - loss: 13.7037 - accuracy: 0.6851 - val_loss: 21.6794 - val_accuracy: 0.8035\n",
      "Epoch 58/100\n",
      "500/500 [==============================] - 1s 2ms/step - loss: 11.4731 - accuracy: 0.6919 - val_loss: 13.5062 - val_accuracy: 0.8035\n",
      "Epoch 59/100\n",
      "500/500 [==============================] - 2s 5ms/step - loss: 13.3394 - accuracy: 0.6933 - val_loss: 19.9544 - val_accuracy: 0.5680\n",
      "Epoch 60/100\n",
      "500/500 [==============================] - 1s 3ms/step - loss: 10.8081 - accuracy: 0.7005 - val_loss: 6.2255 - val_accuracy: 0.5595\n",
      "Epoch 61/100\n",
      "500/500 [==============================] - 1s 2ms/step - loss: 12.5452 - accuracy: 0.6942 - val_loss: 2.5047 - val_accuracy: 0.7590\n",
      "Epoch 62/100\n",
      "500/500 [==============================] - 2s 3ms/step - loss: 15.7579 - accuracy: 0.6904 - val_loss: 2.5521 - val_accuracy: 0.7950\n",
      "Epoch 63/100\n",
      "500/500 [==============================] - 1s 2ms/step - loss: 9.9830 - accuracy: 0.6891 - val_loss: 13.8655 - val_accuracy: 0.8030\n",
      "Epoch 64/100\n",
      "500/500 [==============================] - 1s 2ms/step - loss: 12.2352 - accuracy: 0.7001 - val_loss: 4.4383 - val_accuracy: 0.7790\n",
      "Epoch 65/100\n",
      "500/500 [==============================] - 1s 2ms/step - loss: 8.5775 - accuracy: 0.6984 - val_loss: 6.5213 - val_accuracy: 0.6275\n",
      "Epoch 66/100\n",
      "500/500 [==============================] - 1s 2ms/step - loss: 8.4456 - accuracy: 0.7046 - val_loss: 4.1021 - val_accuracy: 0.5525\n",
      "Epoch 67/100\n",
      "500/500 [==============================] - 1s 2ms/step - loss: 9.3614 - accuracy: 0.6916 - val_loss: 3.7613 - val_accuracy: 0.6595\n",
      "Epoch 68/100\n",
      "500/500 [==============================] - 1s 2ms/step - loss: 8.3831 - accuracy: 0.7048 - val_loss: 15.8546 - val_accuracy: 0.8035\n",
      "Epoch 69/100\n",
      "500/500 [==============================] - 1s 2ms/step - loss: 8.3478 - accuracy: 0.7028 - val_loss: 1.8581 - val_accuracy: 0.7965\n",
      "Epoch 70/100\n",
      "500/500 [==============================] - 1s 2ms/step - loss: 7.5481 - accuracy: 0.7001 - val_loss: 11.9866 - val_accuracy: 0.8035\n",
      "Epoch 71/100\n",
      "500/500 [==============================] - 1s 2ms/step - loss: 7.9019 - accuracy: 0.7035 - val_loss: 4.1667 - val_accuracy: 0.7375\n",
      "Epoch 72/100\n",
      "500/500 [==============================] - 1s 2ms/step - loss: 5.5562 - accuracy: 0.7031 - val_loss: 7.6479 - val_accuracy: 0.2495\n",
      "Epoch 73/100\n",
      "500/500 [==============================] - 1s 2ms/step - loss: 5.6882 - accuracy: 0.7105 - val_loss: 8.7723 - val_accuracy: 0.5280\n",
      "Epoch 74/100\n",
      "500/500 [==============================] - 1s 2ms/step - loss: 6.2720 - accuracy: 0.7034 - val_loss: 7.1332 - val_accuracy: 0.5850\n",
      "Epoch 75/100\n",
      "500/500 [==============================] - 1s 2ms/step - loss: 5.4504 - accuracy: 0.7113 - val_loss: 3.9010 - val_accuracy: 0.7930\n",
      "Epoch 76/100\n",
      "500/500 [==============================] - 1s 2ms/step - loss: 4.9080 - accuracy: 0.7281 - val_loss: 3.2102 - val_accuracy: 0.7475\n",
      "Epoch 77/100\n",
      "500/500 [==============================] - 1s 2ms/step - loss: 3.1918 - accuracy: 0.7393 - val_loss: 5.2618 - val_accuracy: 0.8035\n",
      "Epoch 78/100\n",
      "500/500 [==============================] - 1s 2ms/step - loss: 3.0157 - accuracy: 0.7495 - val_loss: 2.8872 - val_accuracy: 0.6485\n",
      "Epoch 79/100\n",
      "500/500 [==============================] - 1s 2ms/step - loss: 3.2306 - accuracy: 0.7483 - val_loss: 2.6461 - val_accuracy: 0.8035\n",
      "Epoch 80/100\n",
      "500/500 [==============================] - 1s 2ms/step - loss: 3.1841 - accuracy: 0.7521 - val_loss: 1.8876 - val_accuracy: 0.8035\n",
      "Epoch 81/100\n",
      "500/500 [==============================] - 1s 2ms/step - loss: 2.5005 - accuracy: 0.7592 - val_loss: 1.5731 - val_accuracy: 0.8045\n",
      "Epoch 82/100\n",
      "500/500 [==============================] - 1s 2ms/step - loss: 2.2366 - accuracy: 0.7585 - val_loss: 3.2013 - val_accuracy: 0.8035\n",
      "Epoch 83/100\n",
      "500/500 [==============================] - 1s 2ms/step - loss: 2.1340 - accuracy: 0.7676 - val_loss: 4.2054 - val_accuracy: 0.8035\n",
      "Epoch 84/100\n",
      "500/500 [==============================] - 1s 2ms/step - loss: 2.0276 - accuracy: 0.7697 - val_loss: 1.0212 - val_accuracy: 0.8030\n",
      "Epoch 85/100\n",
      "500/500 [==============================] - 1s 2ms/step - loss: 1.7627 - accuracy: 0.7709 - val_loss: 1.6480 - val_accuracy: 0.6975\n",
      "Epoch 86/100\n",
      "500/500 [==============================] - 1s 2ms/step - loss: 1.4797 - accuracy: 0.7715 - val_loss: 0.6865 - val_accuracy: 0.8035\n",
      "Epoch 87/100\n",
      "500/500 [==============================] - 1s 2ms/step - loss: 1.0689 - accuracy: 0.7779 - val_loss: 0.5106 - val_accuracy: 0.7950\n",
      "Epoch 88/100\n",
      "500/500 [==============================] - 1s 2ms/step - loss: 0.9828 - accuracy: 0.7820 - val_loss: 0.6204 - val_accuracy: 0.8035\n",
      "Epoch 89/100\n",
      "500/500 [==============================] - 1s 2ms/step - loss: 0.8133 - accuracy: 0.7816 - val_loss: 0.6102 - val_accuracy: 0.8035\n",
      "Epoch 90/100\n",
      "500/500 [==============================] - 1s 2ms/step - loss: 0.7102 - accuracy: 0.7845 - val_loss: 0.5868 - val_accuracy: 0.8035\n",
      "Epoch 91/100\n",
      "500/500 [==============================] - 1s 2ms/step - loss: 0.6248 - accuracy: 0.7875 - val_loss: 0.5300 - val_accuracy: 0.7915\n",
      "Epoch 92/100\n",
      "500/500 [==============================] - 1s 2ms/step - loss: 0.5726 - accuracy: 0.7885 - val_loss: 0.5300 - val_accuracy: 0.8035\n",
      "Epoch 93/100\n",
      "500/500 [==============================] - 1s 2ms/step - loss: 0.5306 - accuracy: 0.7929 - val_loss: 0.5063 - val_accuracy: 0.8035\n",
      "Epoch 94/100\n",
      "500/500 [==============================] - 1s 2ms/step - loss: 0.5342 - accuracy: 0.7929 - val_loss: 0.5070 - val_accuracy: 0.8025\n",
      "Epoch 95/100\n",
      "500/500 [==============================] - 1s 2ms/step - loss: 0.5094 - accuracy: 0.7943 - val_loss: 0.5066 - val_accuracy: 0.8035\n",
      "Epoch 96/100\n",
      "500/500 [==============================] - 1s 2ms/step - loss: 0.5142 - accuracy: 0.7940 - val_loss: 0.5041 - val_accuracy: 0.8035\n",
      "Epoch 97/100\n",
      "500/500 [==============================] - 1s 2ms/step - loss: 0.5080 - accuracy: 0.7943 - val_loss: 0.5046 - val_accuracy: 0.8035\n",
      "Epoch 98/100\n",
      "500/500 [==============================] - 1s 2ms/step - loss: 0.5102 - accuracy: 0.7945 - val_loss: 0.4984 - val_accuracy: 0.8035\n",
      "Epoch 99/100\n",
      "500/500 [==============================] - 1s 2ms/step - loss: 0.5078 - accuracy: 0.7945 - val_loss: 0.4983 - val_accuracy: 0.8035\n",
      "Epoch 100/100\n",
      "500/500 [==============================] - 1s 2ms/step - loss: 0.5077 - accuracy: 0.7945 - val_loss: 0.4987 - val_accuracy: 0.8035\n"
     ]
    }
   ],
   "source": [
    "from tensorflow.keras import layers\n",
    "from tensorflow.keras.models import Sequential\n",
    "\n",
    "ann = Sequential([\n",
    "    layers.Dense(units=11, activation='relu', dtype='float64'),\n",
    "    layers.Dense(units=11, activation='relu', dtype='float64'),\n",
    "    layers.Dense(units=1, activation='sigmoid', dtype='float64'),   # LogisticRegression\n",
    "])\n",
    "\n",
    "ann.compile(optimizer='adam', loss='binary_crossentropy', metrics='accuracy')\n",
    "history = ann.fit(X_train,\n",
    "                  y_train,\n",
    "                  batch_size=16,\n",
    "                  validation_data=(X_test, y_test),\n",
    "                  epochs=100,\n",
    "                  verbose=1)"
   ],
   "metadata": {
    "collapsed": false
   }
  },
  {
   "cell_type": "code",
   "execution_count": 25,
   "outputs": [],
   "source": [
    "import tensorflow as tf\n",
    "\n",
    "ann = tf.keras.models.load_model('ann')"
   ],
   "metadata": {
    "collapsed": false
   }
  },
  {
   "cell_type": "code",
   "execution_count": 26,
   "outputs": [
    {
     "name": "stdout",
     "output_type": "stream",
     "text": [
      "63/63 [==============================] - 0s 2ms/step\n"
     ]
    },
    {
     "data": {
      "text/plain": "0.804"
     },
     "execution_count": 26,
     "metadata": {},
     "output_type": "execute_result"
    }
   ],
   "source": [
    "from sklearn import metrics\n",
    "\n",
    "metrics.accuracy_score(ann.predict(X_test) > 0.5, y_test)"
   ],
   "metadata": {
    "collapsed": false
   }
  },
  {
   "cell_type": "markdown",
   "source": [],
   "metadata": {
    "collapsed": false
   }
  },
  {
   "cell_type": "markdown",
   "source": [
    "## Interpretiere den rechten oberen Eintrag der Confusion Matrix"
   ],
   "metadata": {
    "collapsed": false
   }
  },
  {
   "cell_type": "code",
   "execution_count": 27,
   "outputs": [
    {
     "name": "stdout",
     "output_type": "stream",
     "text": [
      "63/63 [==============================] - 0s 2ms/step\n"
     ]
    },
    {
     "data": {
      "text/plain": "array([[1607,    0],\n       [ 392,    1]], dtype=int64)"
     },
     "execution_count": 27,
     "metadata": {},
     "output_type": "execute_result"
    }
   ],
   "source": [
    "from sklearn.metrics import confusion_matrix\n",
    "predictions = ann.predict(X_test) > 0.5\n",
    "confusion_matrix(y_test, predictions)"
   ],
   "metadata": {
    "collapsed": false
   }
  },
  {
   "cell_type": "markdown",
   "source": [
    "Wir sagen 78 Customer leaven obwohl sie eigentlich bleiben"
   ],
   "metadata": {
    "collapsed": false
   }
  },
  {
   "cell_type": "markdown",
   "source": [
    "## Predicte, mit welcher Wahrscheinlichkeit der Kunde aussteigen wird\n",
    "Er sollte mit etwa 90%iger Wahrscheinlichkeit **bleiben**"
   ],
   "metadata": {
    "collapsed": false
   }
  },
  {
   "cell_type": "code",
   "execution_count": 10,
   "outputs": [
    {
     "data": {
      "text/plain": "   CreditScore  Age  Tenure    Balance  NumOfProducts  HasCrCard  \\\n0          619   42       2       0.00              1          1   \n1          608   41       1   83807.86              1          0   \n2          502   42       8  159660.80              3          1   \n3          699   39       1       0.00              2          0   \n4          850   43       2  125510.82              1          1   \n\n   IsActiveMember  EstimatedSalary  Exited  Gender_Male  Geography_Germany  \\\n0               1        101348.88       1            0                  0   \n1               1        112542.58       0            0                  0   \n2               0        113931.57       1            0                  0   \n3               0         93826.63       0            0                  0   \n4               1         79084.10       0            0                  0   \n\n   Geography_Spain  \n0                0  \n1                1  \n2                0  \n3                0  \n4                1  ",
      "text/html": "<div>\n<style scoped>\n    .dataframe tbody tr th:only-of-type {\n        vertical-align: middle;\n    }\n\n    .dataframe tbody tr th {\n        vertical-align: top;\n    }\n\n    .dataframe thead th {\n        text-align: right;\n    }\n</style>\n<table border=\"1\" class=\"dataframe\">\n  <thead>\n    <tr style=\"text-align: right;\">\n      <th></th>\n      <th>CreditScore</th>\n      <th>Age</th>\n      <th>Tenure</th>\n      <th>Balance</th>\n      <th>NumOfProducts</th>\n      <th>HasCrCard</th>\n      <th>IsActiveMember</th>\n      <th>EstimatedSalary</th>\n      <th>Exited</th>\n      <th>Gender_Male</th>\n      <th>Geography_Germany</th>\n      <th>Geography_Spain</th>\n    </tr>\n  </thead>\n  <tbody>\n    <tr>\n      <th>0</th>\n      <td>619</td>\n      <td>42</td>\n      <td>2</td>\n      <td>0.00</td>\n      <td>1</td>\n      <td>1</td>\n      <td>1</td>\n      <td>101348.88</td>\n      <td>1</td>\n      <td>0</td>\n      <td>0</td>\n      <td>0</td>\n    </tr>\n    <tr>\n      <th>1</th>\n      <td>608</td>\n      <td>41</td>\n      <td>1</td>\n      <td>83807.86</td>\n      <td>1</td>\n      <td>0</td>\n      <td>1</td>\n      <td>112542.58</td>\n      <td>0</td>\n      <td>0</td>\n      <td>0</td>\n      <td>1</td>\n    </tr>\n    <tr>\n      <th>2</th>\n      <td>502</td>\n      <td>42</td>\n      <td>8</td>\n      <td>159660.80</td>\n      <td>3</td>\n      <td>1</td>\n      <td>0</td>\n      <td>113931.57</td>\n      <td>1</td>\n      <td>0</td>\n      <td>0</td>\n      <td>0</td>\n    </tr>\n    <tr>\n      <th>3</th>\n      <td>699</td>\n      <td>39</td>\n      <td>1</td>\n      <td>0.00</td>\n      <td>2</td>\n      <td>0</td>\n      <td>0</td>\n      <td>93826.63</td>\n      <td>0</td>\n      <td>0</td>\n      <td>0</td>\n      <td>0</td>\n    </tr>\n    <tr>\n      <th>4</th>\n      <td>850</td>\n      <td>43</td>\n      <td>2</td>\n      <td>125510.82</td>\n      <td>1</td>\n      <td>1</td>\n      <td>1</td>\n      <td>79084.10</td>\n      <td>0</td>\n      <td>0</td>\n      <td>0</td>\n      <td>1</td>\n    </tr>\n  </tbody>\n</table>\n</div>"
     },
     "execution_count": 10,
     "metadata": {},
     "output_type": "execute_result"
    }
   ],
   "source": [
    "df.head()"
   ],
   "metadata": {
    "collapsed": false
   }
  },
  {
   "cell_type": "code",
   "execution_count": 17,
   "outputs": [],
   "source": [
    "customer = pd.DataFrame(data={\n",
    "    'CreditScore': 500,\n",
    "    'Age': 20,\n",
    "    'Tenure': 2,\n",
    "    'Balance': 0.0,\n",
    "    'NumOfProducts': 1,\n",
    "    'HasCrCard': 1,\n",
    "    'IsActiveMember': 1,\n",
    "    'EstimatedSalary': 60_000.0,\n",
    "    'Geography': 'Germany',\n",
    "    'Gender': 'Male'},\n",
    "    index=[0])"
   ],
   "metadata": {
    "collapsed": false
   }
  },
  {
   "cell_type": "code",
   "execution_count": 18,
   "outputs": [
    {
     "data": {
      "text/plain": "   CreditScore  Age  Tenure  Balance  NumOfProducts  HasCrCard  \\\n0          500   20       2      0.0              1          1   \n\n   IsActiveMember  EstimatedSalary  Gender_Male  Geography_Germany  \\\n0               1          60000.0            1                  1   \n\n   Geography_Spain  \n0                0  ",
      "text/html": "<div>\n<style scoped>\n    .dataframe tbody tr th:only-of-type {\n        vertical-align: middle;\n    }\n\n    .dataframe tbody tr th {\n        vertical-align: top;\n    }\n\n    .dataframe thead th {\n        text-align: right;\n    }\n</style>\n<table border=\"1\" class=\"dataframe\">\n  <thead>\n    <tr style=\"text-align: right;\">\n      <th></th>\n      <th>CreditScore</th>\n      <th>Age</th>\n      <th>Tenure</th>\n      <th>Balance</th>\n      <th>NumOfProducts</th>\n      <th>HasCrCard</th>\n      <th>IsActiveMember</th>\n      <th>EstimatedSalary</th>\n      <th>Gender_Male</th>\n      <th>Geography_Germany</th>\n      <th>Geography_Spain</th>\n    </tr>\n  </thead>\n  <tbody>\n    <tr>\n      <th>0</th>\n      <td>500</td>\n      <td>20</td>\n      <td>2</td>\n      <td>0.0</td>\n      <td>1</td>\n      <td>1</td>\n      <td>1</td>\n      <td>60000.0</td>\n      <td>1</td>\n      <td>1</td>\n      <td>0</td>\n    </tr>\n  </tbody>\n</table>\n</div>"
     },
     "execution_count": 18,
     "metadata": {},
     "output_type": "execute_result"
    }
   ],
   "source": [
    "customer = customer.drop(columns=[\"Gender\", \"Geography\"])\n",
    "customer[\"Gender_Male\"] = 1\n",
    "customer[\"Geography_Germany\"] = 1\n",
    "customer[\"Geography_Spain\"] = 0\n",
    "customer"
   ],
   "metadata": {
    "collapsed": false
   }
  },
  {
   "cell_type": "code",
   "execution_count": 28,
   "outputs": [
    {
     "name": "stdout",
     "output_type": "stream",
     "text": [
      "1/1 [==============================] - 0s 26ms/step\n"
     ]
    },
    {
     "data": {
      "text/plain": "array([[0.99999918]])"
     },
     "execution_count": 28,
     "metadata": {},
     "output_type": "execute_result"
    }
   ],
   "source": [
    "1 - ann.predict(customer)"
   ],
   "metadata": {
    "collapsed": false
   }
  },
  {
   "cell_type": "code",
   "execution_count": 29,
   "outputs": [
    {
     "data": {
      "text/plain": "0.865"
     },
     "execution_count": 29,
     "metadata": {},
     "output_type": "execute_result"
    }
   ],
   "source": [
    "from sklearn.ensemble import RandomForestClassifier\n",
    "\n",
    "forest = RandomForestClassifier()\n",
    "forest.fit(X_train, y_train)\n",
    "forest.score(X_test, y_test)"
   ],
   "metadata": {
    "collapsed": false
   }
  },
  {
   "cell_type": "code",
   "execution_count": 30,
   "outputs": [
    {
     "data": {
      "text/plain": "array([1], dtype=int64)"
     },
     "execution_count": 30,
     "metadata": {},
     "output_type": "execute_result"
    }
   ],
   "source": [
    "1 - forest.predict(customer)"
   ],
   "metadata": {
    "collapsed": false
   }
  }
 ],
 "metadata": {
  "kernelspec": {
   "display_name": "Python 3",
   "language": "python",
   "name": "python3"
  },
  "language_info": {
   "codemirror_mode": {
    "name": "ipython",
    "version": 3
   },
   "file_extension": ".py",
   "mimetype": "text/x-python",
   "name": "python",
   "nbconvert_exporter": "python",
   "pygments_lexer": "ipython3",
   "version": "3.7.7"
  }
 },
 "nbformat": 4,
 "nbformat_minor": 2
}
