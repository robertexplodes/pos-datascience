{
 "cells": [
  {
   "cell_type": "code",
   "execution_count": 47,
   "outputs": [],
   "source": [
    "import pandas as pd"
   ],
   "metadata": {
    "collapsed": false
   }
  },
  {
   "cell_type": "markdown",
   "source": [
    "## Erstelle aus `bank-churn.csv` einen DataFrame"
   ],
   "metadata": {
    "collapsed": false
   }
  },
  {
   "cell_type": "code",
   "execution_count": 48,
   "outputs": [
    {
     "data": {
      "text/plain": "   RowNumber  CustomerId   Surname  CreditScore Geography  Gender  Age  \\\n0          1    15634602  Hargrave          619    France  Female   42   \n1          2    15647311      Hill          608     Spain  Female   41   \n2          3    15619304      Onio          502    France  Female   42   \n3          4    15701354      Boni          699    France  Female   39   \n4          5    15737888  Mitchell          850     Spain  Female   43   \n\n   Tenure    Balance  NumOfProducts  HasCrCard  IsActiveMember  \\\n0       2       0.00              1          1               1   \n1       1   83807.86              1          0               1   \n2       8  159660.80              3          1               0   \n3       1       0.00              2          0               0   \n4       2  125510.82              1          1               1   \n\n   EstimatedSalary  Exited  \n0        101348.88       1  \n1        112542.58       0  \n2        113931.57       1  \n3         93826.63       0  \n4         79084.10       0  ",
      "text/html": "<div>\n<style scoped>\n    .dataframe tbody tr th:only-of-type {\n        vertical-align: middle;\n    }\n\n    .dataframe tbody tr th {\n        vertical-align: top;\n    }\n\n    .dataframe thead th {\n        text-align: right;\n    }\n</style>\n<table border=\"1\" class=\"dataframe\">\n  <thead>\n    <tr style=\"text-align: right;\">\n      <th></th>\n      <th>RowNumber</th>\n      <th>CustomerId</th>\n      <th>Surname</th>\n      <th>CreditScore</th>\n      <th>Geography</th>\n      <th>Gender</th>\n      <th>Age</th>\n      <th>Tenure</th>\n      <th>Balance</th>\n      <th>NumOfProducts</th>\n      <th>HasCrCard</th>\n      <th>IsActiveMember</th>\n      <th>EstimatedSalary</th>\n      <th>Exited</th>\n    </tr>\n  </thead>\n  <tbody>\n    <tr>\n      <th>0</th>\n      <td>1</td>\n      <td>15634602</td>\n      <td>Hargrave</td>\n      <td>619</td>\n      <td>France</td>\n      <td>Female</td>\n      <td>42</td>\n      <td>2</td>\n      <td>0.00</td>\n      <td>1</td>\n      <td>1</td>\n      <td>1</td>\n      <td>101348.88</td>\n      <td>1</td>\n    </tr>\n    <tr>\n      <th>1</th>\n      <td>2</td>\n      <td>15647311</td>\n      <td>Hill</td>\n      <td>608</td>\n      <td>Spain</td>\n      <td>Female</td>\n      <td>41</td>\n      <td>1</td>\n      <td>83807.86</td>\n      <td>1</td>\n      <td>0</td>\n      <td>1</td>\n      <td>112542.58</td>\n      <td>0</td>\n    </tr>\n    <tr>\n      <th>2</th>\n      <td>3</td>\n      <td>15619304</td>\n      <td>Onio</td>\n      <td>502</td>\n      <td>France</td>\n      <td>Female</td>\n      <td>42</td>\n      <td>8</td>\n      <td>159660.80</td>\n      <td>3</td>\n      <td>1</td>\n      <td>0</td>\n      <td>113931.57</td>\n      <td>1</td>\n    </tr>\n    <tr>\n      <th>3</th>\n      <td>4</td>\n      <td>15701354</td>\n      <td>Boni</td>\n      <td>699</td>\n      <td>France</td>\n      <td>Female</td>\n      <td>39</td>\n      <td>1</td>\n      <td>0.00</td>\n      <td>2</td>\n      <td>0</td>\n      <td>0</td>\n      <td>93826.63</td>\n      <td>0</td>\n    </tr>\n    <tr>\n      <th>4</th>\n      <td>5</td>\n      <td>15737888</td>\n      <td>Mitchell</td>\n      <td>850</td>\n      <td>Spain</td>\n      <td>Female</td>\n      <td>43</td>\n      <td>2</td>\n      <td>125510.82</td>\n      <td>1</td>\n      <td>1</td>\n      <td>1</td>\n      <td>79084.10</td>\n      <td>0</td>\n    </tr>\n  </tbody>\n</table>\n</div>"
     },
     "execution_count": 48,
     "metadata": {},
     "output_type": "execute_result"
    }
   ],
   "source": [
    "df = pd.read_csv('data/bank-churn.csv')\n",
    "df.head()"
   ],
   "metadata": {
    "collapsed": false
   }
  },
  {
   "cell_type": "markdown",
   "source": [
    "## Data Cleaning"
   ],
   "metadata": {
    "collapsed": false
   }
  },
  {
   "cell_type": "code",
   "execution_count": 49,
   "outputs": [
    {
     "data": {
      "text/plain": "      CreditScore Geography  Gender  Age  Tenure    Balance  NumOfProducts  \\\n0             619    France  Female   42       2       0.00              1   \n1             608     Spain  Female   41       1   83807.86              1   \n2             502    France  Female   42       8  159660.80              3   \n3             699    France  Female   39       1       0.00              2   \n4             850     Spain  Female   43       2  125510.82              1   \n...           ...       ...     ...  ...     ...        ...            ...   \n9995          771    France    Male   39       5       0.00              2   \n9996          516    France    Male   35      10   57369.61              1   \n9997          709    France  Female   36       7       0.00              1   \n9998          772   Germany    Male   42       3   75075.31              2   \n9999          792    France  Female   28       4  130142.79              1   \n\n      HasCrCard  IsActiveMember  EstimatedSalary  Exited  \n0             1               1        101348.88       1  \n1             0               1        112542.58       0  \n2             1               0        113931.57       1  \n3             0               0         93826.63       0  \n4             1               1         79084.10       0  \n...         ...             ...              ...     ...  \n9995          1               0         96270.64       0  \n9996          1               1        101699.77       0  \n9997          0               1         42085.58       1  \n9998          1               0         92888.52       1  \n9999          1               0         38190.78       0  \n\n[10000 rows x 11 columns]",
      "text/html": "<div>\n<style scoped>\n    .dataframe tbody tr th:only-of-type {\n        vertical-align: middle;\n    }\n\n    .dataframe tbody tr th {\n        vertical-align: top;\n    }\n\n    .dataframe thead th {\n        text-align: right;\n    }\n</style>\n<table border=\"1\" class=\"dataframe\">\n  <thead>\n    <tr style=\"text-align: right;\">\n      <th></th>\n      <th>CreditScore</th>\n      <th>Geography</th>\n      <th>Gender</th>\n      <th>Age</th>\n      <th>Tenure</th>\n      <th>Balance</th>\n      <th>NumOfProducts</th>\n      <th>HasCrCard</th>\n      <th>IsActiveMember</th>\n      <th>EstimatedSalary</th>\n      <th>Exited</th>\n    </tr>\n  </thead>\n  <tbody>\n    <tr>\n      <th>0</th>\n      <td>619</td>\n      <td>France</td>\n      <td>Female</td>\n      <td>42</td>\n      <td>2</td>\n      <td>0.00</td>\n      <td>1</td>\n      <td>1</td>\n      <td>1</td>\n      <td>101348.88</td>\n      <td>1</td>\n    </tr>\n    <tr>\n      <th>1</th>\n      <td>608</td>\n      <td>Spain</td>\n      <td>Female</td>\n      <td>41</td>\n      <td>1</td>\n      <td>83807.86</td>\n      <td>1</td>\n      <td>0</td>\n      <td>1</td>\n      <td>112542.58</td>\n      <td>0</td>\n    </tr>\n    <tr>\n      <th>2</th>\n      <td>502</td>\n      <td>France</td>\n      <td>Female</td>\n      <td>42</td>\n      <td>8</td>\n      <td>159660.80</td>\n      <td>3</td>\n      <td>1</td>\n      <td>0</td>\n      <td>113931.57</td>\n      <td>1</td>\n    </tr>\n    <tr>\n      <th>3</th>\n      <td>699</td>\n      <td>France</td>\n      <td>Female</td>\n      <td>39</td>\n      <td>1</td>\n      <td>0.00</td>\n      <td>2</td>\n      <td>0</td>\n      <td>0</td>\n      <td>93826.63</td>\n      <td>0</td>\n    </tr>\n    <tr>\n      <th>4</th>\n      <td>850</td>\n      <td>Spain</td>\n      <td>Female</td>\n      <td>43</td>\n      <td>2</td>\n      <td>125510.82</td>\n      <td>1</td>\n      <td>1</td>\n      <td>1</td>\n      <td>79084.10</td>\n      <td>0</td>\n    </tr>\n    <tr>\n      <th>...</th>\n      <td>...</td>\n      <td>...</td>\n      <td>...</td>\n      <td>...</td>\n      <td>...</td>\n      <td>...</td>\n      <td>...</td>\n      <td>...</td>\n      <td>...</td>\n      <td>...</td>\n      <td>...</td>\n    </tr>\n    <tr>\n      <th>9995</th>\n      <td>771</td>\n      <td>France</td>\n      <td>Male</td>\n      <td>39</td>\n      <td>5</td>\n      <td>0.00</td>\n      <td>2</td>\n      <td>1</td>\n      <td>0</td>\n      <td>96270.64</td>\n      <td>0</td>\n    </tr>\n    <tr>\n      <th>9996</th>\n      <td>516</td>\n      <td>France</td>\n      <td>Male</td>\n      <td>35</td>\n      <td>10</td>\n      <td>57369.61</td>\n      <td>1</td>\n      <td>1</td>\n      <td>1</td>\n      <td>101699.77</td>\n      <td>0</td>\n    </tr>\n    <tr>\n      <th>9997</th>\n      <td>709</td>\n      <td>France</td>\n      <td>Female</td>\n      <td>36</td>\n      <td>7</td>\n      <td>0.00</td>\n      <td>1</td>\n      <td>0</td>\n      <td>1</td>\n      <td>42085.58</td>\n      <td>1</td>\n    </tr>\n    <tr>\n      <th>9998</th>\n      <td>772</td>\n      <td>Germany</td>\n      <td>Male</td>\n      <td>42</td>\n      <td>3</td>\n      <td>75075.31</td>\n      <td>2</td>\n      <td>1</td>\n      <td>0</td>\n      <td>92888.52</td>\n      <td>1</td>\n    </tr>\n    <tr>\n      <th>9999</th>\n      <td>792</td>\n      <td>France</td>\n      <td>Female</td>\n      <td>28</td>\n      <td>4</td>\n      <td>130142.79</td>\n      <td>1</td>\n      <td>1</td>\n      <td>0</td>\n      <td>38190.78</td>\n      <td>0</td>\n    </tr>\n  </tbody>\n</table>\n<p>10000 rows × 11 columns</p>\n</div>"
     },
     "execution_count": 49,
     "metadata": {},
     "output_type": "execute_result"
    }
   ],
   "source": [
    "df = df.drop(columns=[\"CustomerId\", \"Surname\", \"RowNumber\"])\n",
    "df"
   ],
   "metadata": {
    "collapsed": false
   }
  },
  {
   "cell_type": "code",
   "execution_count": 50,
   "outputs": [
    {
     "data": {
      "text/plain": "   CreditScore  Age  Tenure    Balance  NumOfProducts  HasCrCard  \\\n0          619   42       2       0.00              1          1   \n1          608   41       1   83807.86              1          0   \n2          502   42       8  159660.80              3          1   \n3          699   39       1       0.00              2          0   \n4          850   43       2  125510.82              1          1   \n\n   IsActiveMember  EstimatedSalary  Exited  Gender_Male  Geography_Germany  \\\n0               1        101348.88       1            0                  0   \n1               1        112542.58       0            0                  0   \n2               0        113931.57       1            0                  0   \n3               0         93826.63       0            0                  0   \n4               1         79084.10       0            0                  0   \n\n   Geography_Spain  \n0                0  \n1                1  \n2                0  \n3                0  \n4                1  ",
      "text/html": "<div>\n<style scoped>\n    .dataframe tbody tr th:only-of-type {\n        vertical-align: middle;\n    }\n\n    .dataframe tbody tr th {\n        vertical-align: top;\n    }\n\n    .dataframe thead th {\n        text-align: right;\n    }\n</style>\n<table border=\"1\" class=\"dataframe\">\n  <thead>\n    <tr style=\"text-align: right;\">\n      <th></th>\n      <th>CreditScore</th>\n      <th>Age</th>\n      <th>Tenure</th>\n      <th>Balance</th>\n      <th>NumOfProducts</th>\n      <th>HasCrCard</th>\n      <th>IsActiveMember</th>\n      <th>EstimatedSalary</th>\n      <th>Exited</th>\n      <th>Gender_Male</th>\n      <th>Geography_Germany</th>\n      <th>Geography_Spain</th>\n    </tr>\n  </thead>\n  <tbody>\n    <tr>\n      <th>0</th>\n      <td>619</td>\n      <td>42</td>\n      <td>2</td>\n      <td>0.00</td>\n      <td>1</td>\n      <td>1</td>\n      <td>1</td>\n      <td>101348.88</td>\n      <td>1</td>\n      <td>0</td>\n      <td>0</td>\n      <td>0</td>\n    </tr>\n    <tr>\n      <th>1</th>\n      <td>608</td>\n      <td>41</td>\n      <td>1</td>\n      <td>83807.86</td>\n      <td>1</td>\n      <td>0</td>\n      <td>1</td>\n      <td>112542.58</td>\n      <td>0</td>\n      <td>0</td>\n      <td>0</td>\n      <td>1</td>\n    </tr>\n    <tr>\n      <th>2</th>\n      <td>502</td>\n      <td>42</td>\n      <td>8</td>\n      <td>159660.80</td>\n      <td>3</td>\n      <td>1</td>\n      <td>0</td>\n      <td>113931.57</td>\n      <td>1</td>\n      <td>0</td>\n      <td>0</td>\n      <td>0</td>\n    </tr>\n    <tr>\n      <th>3</th>\n      <td>699</td>\n      <td>39</td>\n      <td>1</td>\n      <td>0.00</td>\n      <td>2</td>\n      <td>0</td>\n      <td>0</td>\n      <td>93826.63</td>\n      <td>0</td>\n      <td>0</td>\n      <td>0</td>\n      <td>0</td>\n    </tr>\n    <tr>\n      <th>4</th>\n      <td>850</td>\n      <td>43</td>\n      <td>2</td>\n      <td>125510.82</td>\n      <td>1</td>\n      <td>1</td>\n      <td>1</td>\n      <td>79084.10</td>\n      <td>0</td>\n      <td>0</td>\n      <td>0</td>\n      <td>1</td>\n    </tr>\n  </tbody>\n</table>\n</div>"
     },
     "execution_count": 50,
     "metadata": {},
     "output_type": "execute_result"
    }
   ],
   "source": [
    "df = pd.get_dummies(data=df, columns=['Gender', 'Geography'], drop_first=True)\n",
    "df.head()"
   ],
   "metadata": {
    "collapsed": false
   }
  },
  {
   "cell_type": "markdown",
   "source": [
    "## Training\n",
    "* 20% Testdaten\n",
    "* `random_state=42` sofern unterstützt\n",
    "* target feature: `Exited`\n",
    "* Ziel: score von 0.85"
   ],
   "metadata": {
    "collapsed": false
   }
  },
  {
   "cell_type": "code",
   "execution_count": 51,
   "outputs": [],
   "source": [
    "from sklearn.model_selection import train_test_split\n",
    "\n",
    "X = df.drop(columns='Exited')\n",
    "y = df['Exited']\n",
    "\n",
    "X_train, X_test, y_train, y_test = train_test_split(X, y, test_size=0.2, random_state=42)"
   ],
   "metadata": {
    "collapsed": false
   }
  },
  {
   "cell_type": "code",
   "execution_count": 52,
   "outputs": [
    {
     "data": {
      "text/plain": "      CreditScore  Age  Tenure    Balance  NumOfProducts  HasCrCard  \\\n9254          686   32       6       0.00              2          1   \n1561          632   42       4  119624.60              2          1   \n1670          559   24       3  114739.92              1          1   \n6087          561   27       9  135637.00              1          1   \n6669          517   56       9  142147.32              1          0   \n...           ...  ...     ...        ...            ...        ...   \n5734          768   54       8   69712.74              1          1   \n5191          682   58       1       0.00              1          1   \n5390          735   38       1       0.00              3          0   \n860           667   43       8  190227.46              1          1   \n7270          697   51       1  147910.30              1          1   \n\n      IsActiveMember  EstimatedSalary  Gender_Male  Geography_Germany  \\\n9254               1        179093.26            1                  0   \n1561               1        195978.86            1                  1   \n1670               0         85891.02            1                  0   \n6087               0        153080.40            0                  0   \n6669               0         39488.04            1                  0   \n...              ...              ...          ...                ...   \n5734               1         69381.05            1                  0   \n5191               1           706.50            0                  0   \n5390               0         92220.12            0                  0   \n860                0         97508.04            1                  0   \n7270               1         53581.14            1                  1   \n\n      Geography_Spain  \n9254                0  \n1561                0  \n1670                1  \n6087                0  \n6669                0  \n...               ...  \n5734                0  \n5191                0  \n5390                0  \n860                 0  \n7270                0  \n\n[8000 rows x 11 columns]",
      "text/html": "<div>\n<style scoped>\n    .dataframe tbody tr th:only-of-type {\n        vertical-align: middle;\n    }\n\n    .dataframe tbody tr th {\n        vertical-align: top;\n    }\n\n    .dataframe thead th {\n        text-align: right;\n    }\n</style>\n<table border=\"1\" class=\"dataframe\">\n  <thead>\n    <tr style=\"text-align: right;\">\n      <th></th>\n      <th>CreditScore</th>\n      <th>Age</th>\n      <th>Tenure</th>\n      <th>Balance</th>\n      <th>NumOfProducts</th>\n      <th>HasCrCard</th>\n      <th>IsActiveMember</th>\n      <th>EstimatedSalary</th>\n      <th>Gender_Male</th>\n      <th>Geography_Germany</th>\n      <th>Geography_Spain</th>\n    </tr>\n  </thead>\n  <tbody>\n    <tr>\n      <th>9254</th>\n      <td>686</td>\n      <td>32</td>\n      <td>6</td>\n      <td>0.00</td>\n      <td>2</td>\n      <td>1</td>\n      <td>1</td>\n      <td>179093.26</td>\n      <td>1</td>\n      <td>0</td>\n      <td>0</td>\n    </tr>\n    <tr>\n      <th>1561</th>\n      <td>632</td>\n      <td>42</td>\n      <td>4</td>\n      <td>119624.60</td>\n      <td>2</td>\n      <td>1</td>\n      <td>1</td>\n      <td>195978.86</td>\n      <td>1</td>\n      <td>1</td>\n      <td>0</td>\n    </tr>\n    <tr>\n      <th>1670</th>\n      <td>559</td>\n      <td>24</td>\n      <td>3</td>\n      <td>114739.92</td>\n      <td>1</td>\n      <td>1</td>\n      <td>0</td>\n      <td>85891.02</td>\n      <td>1</td>\n      <td>0</td>\n      <td>1</td>\n    </tr>\n    <tr>\n      <th>6087</th>\n      <td>561</td>\n      <td>27</td>\n      <td>9</td>\n      <td>135637.00</td>\n      <td>1</td>\n      <td>1</td>\n      <td>0</td>\n      <td>153080.40</td>\n      <td>0</td>\n      <td>0</td>\n      <td>0</td>\n    </tr>\n    <tr>\n      <th>6669</th>\n      <td>517</td>\n      <td>56</td>\n      <td>9</td>\n      <td>142147.32</td>\n      <td>1</td>\n      <td>0</td>\n      <td>0</td>\n      <td>39488.04</td>\n      <td>1</td>\n      <td>0</td>\n      <td>0</td>\n    </tr>\n    <tr>\n      <th>...</th>\n      <td>...</td>\n      <td>...</td>\n      <td>...</td>\n      <td>...</td>\n      <td>...</td>\n      <td>...</td>\n      <td>...</td>\n      <td>...</td>\n      <td>...</td>\n      <td>...</td>\n      <td>...</td>\n    </tr>\n    <tr>\n      <th>5734</th>\n      <td>768</td>\n      <td>54</td>\n      <td>8</td>\n      <td>69712.74</td>\n      <td>1</td>\n      <td>1</td>\n      <td>1</td>\n      <td>69381.05</td>\n      <td>1</td>\n      <td>0</td>\n      <td>0</td>\n    </tr>\n    <tr>\n      <th>5191</th>\n      <td>682</td>\n      <td>58</td>\n      <td>1</td>\n      <td>0.00</td>\n      <td>1</td>\n      <td>1</td>\n      <td>1</td>\n      <td>706.50</td>\n      <td>0</td>\n      <td>0</td>\n      <td>0</td>\n    </tr>\n    <tr>\n      <th>5390</th>\n      <td>735</td>\n      <td>38</td>\n      <td>1</td>\n      <td>0.00</td>\n      <td>3</td>\n      <td>0</td>\n      <td>0</td>\n      <td>92220.12</td>\n      <td>0</td>\n      <td>0</td>\n      <td>0</td>\n    </tr>\n    <tr>\n      <th>860</th>\n      <td>667</td>\n      <td>43</td>\n      <td>8</td>\n      <td>190227.46</td>\n      <td>1</td>\n      <td>1</td>\n      <td>0</td>\n      <td>97508.04</td>\n      <td>1</td>\n      <td>0</td>\n      <td>0</td>\n    </tr>\n    <tr>\n      <th>7270</th>\n      <td>697</td>\n      <td>51</td>\n      <td>1</td>\n      <td>147910.30</td>\n      <td>1</td>\n      <td>1</td>\n      <td>1</td>\n      <td>53581.14</td>\n      <td>1</td>\n      <td>1</td>\n      <td>0</td>\n    </tr>\n  </tbody>\n</table>\n<p>8000 rows × 11 columns</p>\n</div>"
     },
     "execution_count": 52,
     "metadata": {},
     "output_type": "execute_result"
    }
   ],
   "source": [
    "X_train"
   ],
   "metadata": {
    "collapsed": false
   }
  },
  {
   "cell_type": "code",
   "execution_count": 53,
   "outputs": [
    {
     "name": "stdout",
     "output_type": "stream",
     "text": [
      "Epoch 1/100\n",
      "500/500 [==============================] - 3s 3ms/step - loss: 712.9171 - accuracy: 0.6960 - val_loss: 17.3051 - val_accuracy: 0.7080\n",
      "Epoch 2/100\n",
      "500/500 [==============================] - 1s 2ms/step - loss: 28.8556 - accuracy: 0.6842 - val_loss: 22.6390 - val_accuracy: 0.4950\n",
      "Epoch 3/100\n",
      "500/500 [==============================] - 1s 2ms/step - loss: 26.4203 - accuracy: 0.6809 - val_loss: 33.5610 - val_accuracy: 0.4675\n",
      "Epoch 4/100\n",
      "500/500 [==============================] - 1s 2ms/step - loss: 31.6878 - accuracy: 0.6764 - val_loss: 13.3506 - val_accuracy: 0.7265\n",
      "Epoch 5/100\n",
      "500/500 [==============================] - 1s 2ms/step - loss: 25.1344 - accuracy: 0.6804 - val_loss: 17.7406 - val_accuracy: 0.7875\n",
      "Epoch 6/100\n",
      "500/500 [==============================] - 1s 2ms/step - loss: 22.3433 - accuracy: 0.6769 - val_loss: 13.1031 - val_accuracy: 0.3910\n",
      "Epoch 7/100\n",
      "500/500 [==============================] - 1s 2ms/step - loss: 20.2384 - accuracy: 0.6785 - val_loss: 36.8579 - val_accuracy: 0.7525\n",
      "Epoch 8/100\n",
      "500/500 [==============================] - 1s 2ms/step - loss: 24.4536 - accuracy: 0.6796 - val_loss: 13.1251 - val_accuracy: 0.5315\n",
      "Epoch 9/100\n",
      "500/500 [==============================] - 1s 2ms/step - loss: 17.9147 - accuracy: 0.6836 - val_loss: 14.3148 - val_accuracy: 0.7110\n",
      "Epoch 10/100\n",
      "500/500 [==============================] - 1s 2ms/step - loss: 20.6573 - accuracy: 0.6833 - val_loss: 8.1650 - val_accuracy: 0.7960\n",
      "Epoch 11/100\n",
      "500/500 [==============================] - 1s 2ms/step - loss: 24.7685 - accuracy: 0.6761 - val_loss: 8.2242 - val_accuracy: 0.8000\n",
      "Epoch 12/100\n",
      "500/500 [==============================] - 1s 2ms/step - loss: 22.3621 - accuracy: 0.6787 - val_loss: 17.9111 - val_accuracy: 0.4740\n",
      "Epoch 13/100\n",
      "500/500 [==============================] - 1s 2ms/step - loss: 21.3032 - accuracy: 0.6848 - val_loss: 24.1490 - val_accuracy: 0.8015\n",
      "Epoch 14/100\n",
      "500/500 [==============================] - 1s 1ms/step - loss: 19.1990 - accuracy: 0.6812 - val_loss: 15.9846 - val_accuracy: 0.8025\n",
      "Epoch 15/100\n",
      "500/500 [==============================] - 1s 1ms/step - loss: 21.0987 - accuracy: 0.6804 - val_loss: 20.8300 - val_accuracy: 0.5235\n",
      "Epoch 16/100\n",
      "500/500 [==============================] - 1s 1ms/step - loss: 20.0775 - accuracy: 0.6883 - val_loss: 20.4423 - val_accuracy: 0.5975\n",
      "Epoch 17/100\n",
      "500/500 [==============================] - 1s 1ms/step - loss: 19.8342 - accuracy: 0.6800 - val_loss: 6.9658 - val_accuracy: 0.7365\n",
      "Epoch 18/100\n",
      "500/500 [==============================] - 1s 1ms/step - loss: 17.4135 - accuracy: 0.6855 - val_loss: 29.0860 - val_accuracy: 0.8020\n",
      "Epoch 19/100\n",
      "500/500 [==============================] - 1s 2ms/step - loss: 19.4410 - accuracy: 0.6839 - val_loss: 13.2884 - val_accuracy: 0.5955\n",
      "Epoch 20/100\n",
      "500/500 [==============================] - 1s 2ms/step - loss: 18.2771 - accuracy: 0.6856 - val_loss: 14.3264 - val_accuracy: 0.8015\n",
      "Epoch 21/100\n",
      "500/500 [==============================] - 1s 2ms/step - loss: 17.6477 - accuracy: 0.6865 - val_loss: 11.9018 - val_accuracy: 0.8025\n",
      "Epoch 22/100\n",
      "500/500 [==============================] - 1s 2ms/step - loss: 19.6912 - accuracy: 0.6830 - val_loss: 13.1311 - val_accuracy: 0.6560\n",
      "Epoch 23/100\n",
      "500/500 [==============================] - 1s 2ms/step - loss: 16.3065 - accuracy: 0.6904 - val_loss: 22.9761 - val_accuracy: 0.8030\n",
      "Epoch 24/100\n",
      "500/500 [==============================] - 1s 2ms/step - loss: 15.4373 - accuracy: 0.6845 - val_loss: 14.8808 - val_accuracy: 0.8050\n",
      "Epoch 25/100\n",
      "500/500 [==============================] - 1s 2ms/step - loss: 16.7933 - accuracy: 0.6846 - val_loss: 23.5270 - val_accuracy: 0.4535\n",
      "Epoch 26/100\n",
      "500/500 [==============================] - 1s 1ms/step - loss: 18.8513 - accuracy: 0.6830 - val_loss: 13.1114 - val_accuracy: 0.7345\n",
      "Epoch 27/100\n",
      "500/500 [==============================] - 1s 2ms/step - loss: 17.0627 - accuracy: 0.6824 - val_loss: 17.1485 - val_accuracy: 0.6710\n",
      "Epoch 28/100\n",
      "500/500 [==============================] - 1s 2ms/step - loss: 18.4313 - accuracy: 0.6862 - val_loss: 26.4872 - val_accuracy: 0.5990\n",
      "Epoch 29/100\n",
      "500/500 [==============================] - 1s 1ms/step - loss: 16.3614 - accuracy: 0.6820 - val_loss: 5.5679 - val_accuracy: 0.7730\n",
      "Epoch 30/100\n",
      "500/500 [==============================] - 1s 1ms/step - loss: 15.1337 - accuracy: 0.6858 - val_loss: 22.4599 - val_accuracy: 0.6750\n",
      "Epoch 31/100\n",
      "500/500 [==============================] - 1s 2ms/step - loss: 16.7096 - accuracy: 0.6916 - val_loss: 18.2175 - val_accuracy: 0.5715\n",
      "Epoch 32/100\n",
      "500/500 [==============================] - 1s 2ms/step - loss: 12.6648 - accuracy: 0.6944 - val_loss: 10.8309 - val_accuracy: 0.7330\n",
      "Epoch 33/100\n",
      "500/500 [==============================] - 1s 2ms/step - loss: 15.8096 - accuracy: 0.6866 - val_loss: 4.8710 - val_accuracy: 0.7925\n",
      "Epoch 34/100\n",
      "500/500 [==============================] - 1s 2ms/step - loss: 14.0996 - accuracy: 0.6873 - val_loss: 17.8827 - val_accuracy: 0.4155\n",
      "Epoch 35/100\n",
      "500/500 [==============================] - 1s 2ms/step - loss: 18.5103 - accuracy: 0.6845 - val_loss: 8.8670 - val_accuracy: 0.8000\n",
      "Epoch 36/100\n",
      "500/500 [==============================] - 1s 2ms/step - loss: 14.6293 - accuracy: 0.6849 - val_loss: 24.5930 - val_accuracy: 0.8020\n",
      "Epoch 37/100\n",
      "500/500 [==============================] - 1s 1ms/step - loss: 12.1661 - accuracy: 0.6955 - val_loss: 17.4683 - val_accuracy: 0.7580\n",
      "Epoch 38/100\n",
      "500/500 [==============================] - 1s 1ms/step - loss: 13.6964 - accuracy: 0.6916 - val_loss: 14.1738 - val_accuracy: 0.6905\n",
      "Epoch 39/100\n",
      "500/500 [==============================] - 1s 1ms/step - loss: 12.7201 - accuracy: 0.6931 - val_loss: 4.1043 - val_accuracy: 0.6355\n",
      "Epoch 40/100\n",
      "500/500 [==============================] - 1s 1ms/step - loss: 14.7651 - accuracy: 0.6891 - val_loss: 10.9908 - val_accuracy: 0.8030\n",
      "Epoch 41/100\n",
      "500/500 [==============================] - 1s 2ms/step - loss: 14.2198 - accuracy: 0.6805 - val_loss: 14.7750 - val_accuracy: 0.8035\n",
      "Epoch 42/100\n",
      "500/500 [==============================] - 1s 2ms/step - loss: 12.9577 - accuracy: 0.6973 - val_loss: 7.6680 - val_accuracy: 0.6825\n",
      "Epoch 43/100\n",
      "500/500 [==============================] - 1s 2ms/step - loss: 12.0144 - accuracy: 0.6901 - val_loss: 12.9626 - val_accuracy: 0.8010\n",
      "Epoch 44/100\n",
      "500/500 [==============================] - 1s 2ms/step - loss: 11.9955 - accuracy: 0.6936 - val_loss: 7.5076 - val_accuracy: 0.7345\n",
      "Epoch 45/100\n",
      "500/500 [==============================] - 1s 2ms/step - loss: 14.9734 - accuracy: 0.6852 - val_loss: 27.9792 - val_accuracy: 0.2455\n",
      "Epoch 46/100\n",
      "500/500 [==============================] - 1s 2ms/step - loss: 12.4992 - accuracy: 0.6899 - val_loss: 16.0386 - val_accuracy: 0.5135\n",
      "Epoch 47/100\n",
      "500/500 [==============================] - 1s 2ms/step - loss: 11.4373 - accuracy: 0.6905 - val_loss: 10.3296 - val_accuracy: 0.8030\n",
      "Epoch 48/100\n",
      "500/500 [==============================] - 1s 2ms/step - loss: 10.9027 - accuracy: 0.6901 - val_loss: 7.6293 - val_accuracy: 0.7170\n",
      "Epoch 49/100\n",
      "500/500 [==============================] - 1s 1ms/step - loss: 12.5096 - accuracy: 0.6819 - val_loss: 4.5739 - val_accuracy: 0.7410\n",
      "Epoch 50/100\n",
      "500/500 [==============================] - 1s 1ms/step - loss: 14.0506 - accuracy: 0.6837 - val_loss: 9.7905 - val_accuracy: 0.4845\n",
      "Epoch 51/100\n",
      "500/500 [==============================] - 1s 1ms/step - loss: 12.7476 - accuracy: 0.6862 - val_loss: 8.3809 - val_accuracy: 0.7425\n",
      "Epoch 52/100\n",
      "500/500 [==============================] - 1s 2ms/step - loss: 11.8499 - accuracy: 0.6869 - val_loss: 9.3469 - val_accuracy: 0.8030\n",
      "Epoch 53/100\n",
      "500/500 [==============================] - 1s 2ms/step - loss: 13.0022 - accuracy: 0.6905 - val_loss: 4.2022 - val_accuracy: 0.7980\n",
      "Epoch 54/100\n",
      "500/500 [==============================] - 1s 2ms/step - loss: 11.7959 - accuracy: 0.6859 - val_loss: 14.6856 - val_accuracy: 0.8030\n",
      "Epoch 55/100\n",
      "500/500 [==============================] - 1s 2ms/step - loss: 12.7510 - accuracy: 0.6890 - val_loss: 20.5003 - val_accuracy: 0.8025\n",
      "Epoch 56/100\n",
      "500/500 [==============================] - 1s 2ms/step - loss: 12.1901 - accuracy: 0.6902 - val_loss: 9.3235 - val_accuracy: 0.8035\n",
      "Epoch 57/100\n",
      "500/500 [==============================] - 1s 2ms/step - loss: 11.2683 - accuracy: 0.6905 - val_loss: 7.7036 - val_accuracy: 0.7870\n",
      "Epoch 58/100\n",
      "500/500 [==============================] - 1s 2ms/step - loss: 11.2950 - accuracy: 0.6906 - val_loss: 12.2374 - val_accuracy: 0.7660\n",
      "Epoch 59/100\n",
      "500/500 [==============================] - 1s 2ms/step - loss: 10.0125 - accuracy: 0.6951 - val_loss: 3.7367 - val_accuracy: 0.6875\n",
      "Epoch 60/100\n",
      "500/500 [==============================] - 1s 2ms/step - loss: 9.0111 - accuracy: 0.6961 - val_loss: 5.6533 - val_accuracy: 0.7070\n",
      "Epoch 61/100\n",
      "500/500 [==============================] - 1s 1ms/step - loss: 9.9864 - accuracy: 0.6849 - val_loss: 6.4107 - val_accuracy: 0.6905\n",
      "Epoch 62/100\n",
      "500/500 [==============================] - 1s 1ms/step - loss: 10.6568 - accuracy: 0.6844 - val_loss: 11.8262 - val_accuracy: 0.6115\n",
      "Epoch 63/100\n",
      "500/500 [==============================] - 1s 1ms/step - loss: 10.7702 - accuracy: 0.6952 - val_loss: 7.7999 - val_accuracy: 0.6545\n",
      "Epoch 64/100\n",
      "500/500 [==============================] - 1s 1ms/step - loss: 11.3452 - accuracy: 0.6896 - val_loss: 10.3569 - val_accuracy: 0.8035\n",
      "Epoch 65/100\n",
      "500/500 [==============================] - 1s 2ms/step - loss: 10.0850 - accuracy: 0.6934 - val_loss: 16.6683 - val_accuracy: 0.5250\n",
      "Epoch 66/100\n",
      "500/500 [==============================] - 1s 2ms/step - loss: 12.2988 - accuracy: 0.6826 - val_loss: 6.0950 - val_accuracy: 0.5810\n",
      "Epoch 67/100\n",
      "500/500 [==============================] - 1s 2ms/step - loss: 9.0413 - accuracy: 0.6942 - val_loss: 6.8996 - val_accuracy: 0.6770\n",
      "Epoch 68/100\n",
      "500/500 [==============================] - 1s 2ms/step - loss: 7.9512 - accuracy: 0.6939 - val_loss: 12.5072 - val_accuracy: 0.5745\n",
      "Epoch 69/100\n",
      "500/500 [==============================] - 1s 2ms/step - loss: 9.4147 - accuracy: 0.6888 - val_loss: 4.1740 - val_accuracy: 0.6220\n",
      "Epoch 70/100\n",
      "500/500 [==============================] - 1s 2ms/step - loss: 10.1122 - accuracy: 0.6871 - val_loss: 6.7424 - val_accuracy: 0.5510\n",
      "Epoch 71/100\n",
      "500/500 [==============================] - 1s 2ms/step - loss: 9.1164 - accuracy: 0.6870 - val_loss: 14.5506 - val_accuracy: 0.8035\n",
      "Epoch 72/100\n",
      "500/500 [==============================] - 1s 1ms/step - loss: 9.1867 - accuracy: 0.6896 - val_loss: 4.7889 - val_accuracy: 0.7950\n",
      "Epoch 73/100\n",
      "500/500 [==============================] - 1s 1ms/step - loss: 10.6197 - accuracy: 0.6917 - val_loss: 5.6631 - val_accuracy: 0.7845\n",
      "Epoch 74/100\n",
      "500/500 [==============================] - 1s 1ms/step - loss: 6.2882 - accuracy: 0.7051 - val_loss: 9.1373 - val_accuracy: 0.4490\n",
      "Epoch 75/100\n",
      "500/500 [==============================] - 1s 2ms/step - loss: 7.9207 - accuracy: 0.6905 - val_loss: 3.4490 - val_accuracy: 0.7980\n",
      "Epoch 76/100\n",
      "500/500 [==============================] - 1s 2ms/step - loss: 7.8080 - accuracy: 0.6950 - val_loss: 5.7473 - val_accuracy: 0.8030\n",
      "Epoch 77/100\n",
      "500/500 [==============================] - 1s 2ms/step - loss: 7.5469 - accuracy: 0.6946 - val_loss: 8.9529 - val_accuracy: 0.7205\n",
      "Epoch 78/100\n",
      "500/500 [==============================] - 1s 2ms/step - loss: 7.3245 - accuracy: 0.6925 - val_loss: 10.3410 - val_accuracy: 0.8025\n",
      "Epoch 79/100\n",
      "500/500 [==============================] - 1s 2ms/step - loss: 8.8276 - accuracy: 0.6933 - val_loss: 9.6313 - val_accuracy: 0.8040\n",
      "Epoch 80/100\n",
      "500/500 [==============================] - 1s 2ms/step - loss: 6.6343 - accuracy: 0.6991 - val_loss: 3.6143 - val_accuracy: 0.5115\n",
      "Epoch 81/100\n",
      "500/500 [==============================] - 1s 2ms/step - loss: 7.4992 - accuracy: 0.6898 - val_loss: 3.2158 - val_accuracy: 0.7780\n",
      "Epoch 82/100\n",
      "500/500 [==============================] - 1s 2ms/step - loss: 6.9745 - accuracy: 0.6974 - val_loss: 17.5107 - val_accuracy: 0.8040\n",
      "Epoch 83/100\n",
      "500/500 [==============================] - 1s 2ms/step - loss: 7.1633 - accuracy: 0.6938 - val_loss: 3.8341 - val_accuracy: 0.7220\n",
      "Epoch 84/100\n",
      "500/500 [==============================] - 1s 2ms/step - loss: 6.3778 - accuracy: 0.6942 - val_loss: 9.0377 - val_accuracy: 0.8025\n",
      "Epoch 85/100\n",
      "500/500 [==============================] - 1s 2ms/step - loss: 7.3846 - accuracy: 0.6936 - val_loss: 7.4316 - val_accuracy: 0.7930\n",
      "Epoch 86/100\n",
      "500/500 [==============================] - 1s 2ms/step - loss: 7.5013 - accuracy: 0.6920 - val_loss: 3.2399 - val_accuracy: 0.6175\n",
      "Epoch 87/100\n",
      "500/500 [==============================] - 1s 2ms/step - loss: 6.3198 - accuracy: 0.6894 - val_loss: 6.4452 - val_accuracy: 0.5385\n",
      "Epoch 88/100\n",
      "500/500 [==============================] - 1s 1ms/step - loss: 6.1024 - accuracy: 0.6957 - val_loss: 3.7650 - val_accuracy: 0.5595\n",
      "Epoch 89/100\n",
      "500/500 [==============================] - 1s 2ms/step - loss: 5.6037 - accuracy: 0.6988 - val_loss: 7.4776 - val_accuracy: 0.8035\n",
      "Epoch 90/100\n",
      "500/500 [==============================] - 1s 2ms/step - loss: 6.1114 - accuracy: 0.6944 - val_loss: 6.1402 - val_accuracy: 0.6190\n",
      "Epoch 91/100\n",
      "500/500 [==============================] - 1s 2ms/step - loss: 5.7429 - accuracy: 0.6915 - val_loss: 3.8483 - val_accuracy: 0.8065\n",
      "Epoch 92/100\n",
      "500/500 [==============================] - 1s 2ms/step - loss: 6.3161 - accuracy: 0.6959 - val_loss: 8.3333 - val_accuracy: 0.8035\n",
      "Epoch 93/100\n",
      "500/500 [==============================] - 1s 2ms/step - loss: 4.9460 - accuracy: 0.6985 - val_loss: 5.8686 - val_accuracy: 0.8025\n",
      "Epoch 94/100\n",
      "500/500 [==============================] - 1s 2ms/step - loss: 4.1687 - accuracy: 0.6923 - val_loss: 2.2487 - val_accuracy: 0.7720\n",
      "Epoch 95/100\n",
      "500/500 [==============================] - 1s 1ms/step - loss: 4.7256 - accuracy: 0.6989 - val_loss: 3.5290 - val_accuracy: 0.3550\n",
      "Epoch 96/100\n",
      "500/500 [==============================] - 1s 1ms/step - loss: 5.3812 - accuracy: 0.6960 - val_loss: 9.2769 - val_accuracy: 0.8035\n",
      "Epoch 97/100\n",
      "500/500 [==============================] - 1s 1ms/step - loss: 5.6780 - accuracy: 0.6950 - val_loss: 5.1360 - val_accuracy: 0.6360\n",
      "Epoch 98/100\n",
      "500/500 [==============================] - 1s 1ms/step - loss: 4.8231 - accuracy: 0.6935 - val_loss: 5.0095 - val_accuracy: 0.8030\n",
      "Epoch 99/100\n",
      "500/500 [==============================] - 1s 2ms/step - loss: 4.5687 - accuracy: 0.6934 - val_loss: 3.7814 - val_accuracy: 0.7485\n",
      "Epoch 100/100\n",
      "500/500 [==============================] - 1s 2ms/step - loss: 4.5896 - accuracy: 0.6952 - val_loss: 11.8665 - val_accuracy: 0.8030\n"
     ]
    }
   ],
   "source": [
    "from tensorflow.keras import layers\n",
    "from tensorflow.keras.models import Sequential\n",
    "\n",
    "ann = Sequential([\n",
    "    layers.Dense(units=11, activation='relu', dtype='float64'),\n",
    "    layers.Dense(units=11, activation='relu', dtype='float64'),\n",
    "    layers.Dense(units=1, activation='sigmoid', dtype='float64'),   # LogisticRegression\n",
    "])\n",
    "\n",
    "ann.compile(optimizer='adam', loss='binary_crossentropy', metrics='accuracy')\n",
    "history = ann.fit(X_train,\n",
    "                  y_train,\n",
    "                  batch_size=16,\n",
    "                  validation_data=(X_test, y_test),\n",
    "                  epochs=100,\n",
    "                  verbose=1)"
   ],
   "metadata": {
    "collapsed": false
   }
  },
  {
   "cell_type": "code",
   "execution_count": 38,
   "outputs": [
    {
     "name": "stdout",
     "output_type": "stream",
     "text": [
      "63/63 [==============================] - 0s 2ms/step\n"
     ]
    },
    {
     "data": {
      "text/plain": "0.804"
     },
     "execution_count": 38,
     "metadata": {},
     "output_type": "execute_result"
    }
   ],
   "source": [
    "from sklearn import metrics\n",
    "\n",
    "metrics.accuracy_score(ann.predict(X_test) > 0.5, y_test)"
   ],
   "metadata": {
    "collapsed": false
   }
  },
  {
   "cell_type": "markdown",
   "source": [],
   "metadata": {
    "collapsed": false
   }
  },
  {
   "cell_type": "markdown",
   "source": [
    "## Interpretiere den rechten oberen Eintrag der Confusion Matrix"
   ],
   "metadata": {
    "collapsed": false
   }
  },
  {
   "cell_type": "code",
   "execution_count": 26,
   "outputs": [
    {
     "name": "stdout",
     "output_type": "stream",
     "text": [
      "63/63 [==============================] - 0s 2ms/step\n"
     ]
    },
    {
     "data": {
      "text/plain": "array([[1607,    0],\n       [ 392,    1]], dtype=int64)"
     },
     "execution_count": 26,
     "metadata": {},
     "output_type": "execute_result"
    }
   ],
   "source": [
    "from sklearn.metrics import confusion_matrix\n",
    "predictions = ann.predict(X_test) > 0.5\n",
    "confusion_matrix(y_test, predictions)"
   ],
   "metadata": {
    "collapsed": false
   }
  },
  {
   "cell_type": "markdown",
   "source": [
    "Wir sagen 78 Customer leaven obwohl sie eigentlich bleiben"
   ],
   "metadata": {
    "collapsed": false
   }
  },
  {
   "cell_type": "markdown",
   "source": [
    "## Predicte, mit welcher Wahrscheinlichkeit der Kunde aussteigen wird\n",
    "Er sollte mit etwa 90%iger Wahrscheinlichkeit **bleiben**"
   ],
   "metadata": {
    "collapsed": false
   }
  },
  {
   "cell_type": "code",
   "execution_count": 80,
   "outputs": [
    {
     "data": {
      "text/plain": "   CreditScore  Age  Tenure    Balance  NumOfProducts  HasCrCard  \\\n0          619   42       2       0.00              1          1   \n1          608   41       1   83807.86              1          0   \n2          502   42       8  159660.80              3          1   \n3          699   39       1       0.00              2          0   \n4          850   43       2  125510.82              1          1   \n\n   IsActiveMember  EstimatedSalary  Exited  Gender_Male  Geography_Germany  \\\n0               1        101348.88       1            0                  0   \n1               1        112542.58       0            0                  0   \n2               0        113931.57       1            0                  0   \n3               0         93826.63       0            0                  0   \n4               1         79084.10       0            0                  0   \n\n   Geography_Spain  \n0                0  \n1                1  \n2                0  \n3                0  \n4                1  ",
      "text/html": "<div>\n<style scoped>\n    .dataframe tbody tr th:only-of-type {\n        vertical-align: middle;\n    }\n\n    .dataframe tbody tr th {\n        vertical-align: top;\n    }\n\n    .dataframe thead th {\n        text-align: right;\n    }\n</style>\n<table border=\"1\" class=\"dataframe\">\n  <thead>\n    <tr style=\"text-align: right;\">\n      <th></th>\n      <th>CreditScore</th>\n      <th>Age</th>\n      <th>Tenure</th>\n      <th>Balance</th>\n      <th>NumOfProducts</th>\n      <th>HasCrCard</th>\n      <th>IsActiveMember</th>\n      <th>EstimatedSalary</th>\n      <th>Exited</th>\n      <th>Gender_Male</th>\n      <th>Geography_Germany</th>\n      <th>Geography_Spain</th>\n    </tr>\n  </thead>\n  <tbody>\n    <tr>\n      <th>0</th>\n      <td>619</td>\n      <td>42</td>\n      <td>2</td>\n      <td>0.00</td>\n      <td>1</td>\n      <td>1</td>\n      <td>1</td>\n      <td>101348.88</td>\n      <td>1</td>\n      <td>0</td>\n      <td>0</td>\n      <td>0</td>\n    </tr>\n    <tr>\n      <th>1</th>\n      <td>608</td>\n      <td>41</td>\n      <td>1</td>\n      <td>83807.86</td>\n      <td>1</td>\n      <td>0</td>\n      <td>1</td>\n      <td>112542.58</td>\n      <td>0</td>\n      <td>0</td>\n      <td>0</td>\n      <td>1</td>\n    </tr>\n    <tr>\n      <th>2</th>\n      <td>502</td>\n      <td>42</td>\n      <td>8</td>\n      <td>159660.80</td>\n      <td>3</td>\n      <td>1</td>\n      <td>0</td>\n      <td>113931.57</td>\n      <td>1</td>\n      <td>0</td>\n      <td>0</td>\n      <td>0</td>\n    </tr>\n    <tr>\n      <th>3</th>\n      <td>699</td>\n      <td>39</td>\n      <td>1</td>\n      <td>0.00</td>\n      <td>2</td>\n      <td>0</td>\n      <td>0</td>\n      <td>93826.63</td>\n      <td>0</td>\n      <td>0</td>\n      <td>0</td>\n      <td>0</td>\n    </tr>\n    <tr>\n      <th>4</th>\n      <td>850</td>\n      <td>43</td>\n      <td>2</td>\n      <td>125510.82</td>\n      <td>1</td>\n      <td>1</td>\n      <td>1</td>\n      <td>79084.10</td>\n      <td>0</td>\n      <td>0</td>\n      <td>0</td>\n      <td>1</td>\n    </tr>\n  </tbody>\n</table>\n</div>"
     },
     "execution_count": 80,
     "metadata": {},
     "output_type": "execute_result"
    }
   ],
   "source": [
    "df.head()"
   ],
   "metadata": {
    "collapsed": false
   }
  },
  {
   "cell_type": "code",
   "execution_count": 31,
   "outputs": [],
   "source": [
    "customer = pd.DataFrame(data={\n",
    "    'CreditScore': 500,\n",
    "    'Age': 20,\n",
    "    'Tenure': 2,\n",
    "    'Balance': 0.0,\n",
    "    'NumOfProducts': 1,\n",
    "    'HasCrCard': 1,\n",
    "    'IsActiveMember': 1,\n",
    "    'EstimatedSalary': 60_000.0,\n",
    "    'Geography': 'Germany',\n",
    "    'Gender': 'Male'},\n",
    "    index=[0])"
   ],
   "metadata": {
    "collapsed": false
   }
  },
  {
   "cell_type": "code",
   "execution_count": 32,
   "outputs": [
    {
     "data": {
      "text/plain": "   CreditScore  Age  Tenure  Balance  NumOfProducts  HasCrCard  \\\n0          500   20       2      0.0              1          1   \n\n   IsActiveMember  EstimatedSalary  Gender_Male  Geography_Germany  \\\n0               1          60000.0            1                  1   \n\n   Geography_Spain  \n0                0  ",
      "text/html": "<div>\n<style scoped>\n    .dataframe tbody tr th:only-of-type {\n        vertical-align: middle;\n    }\n\n    .dataframe tbody tr th {\n        vertical-align: top;\n    }\n\n    .dataframe thead th {\n        text-align: right;\n    }\n</style>\n<table border=\"1\" class=\"dataframe\">\n  <thead>\n    <tr style=\"text-align: right;\">\n      <th></th>\n      <th>CreditScore</th>\n      <th>Age</th>\n      <th>Tenure</th>\n      <th>Balance</th>\n      <th>NumOfProducts</th>\n      <th>HasCrCard</th>\n      <th>IsActiveMember</th>\n      <th>EstimatedSalary</th>\n      <th>Gender_Male</th>\n      <th>Geography_Germany</th>\n      <th>Geography_Spain</th>\n    </tr>\n  </thead>\n  <tbody>\n    <tr>\n      <th>0</th>\n      <td>500</td>\n      <td>20</td>\n      <td>2</td>\n      <td>0.0</td>\n      <td>1</td>\n      <td>1</td>\n      <td>1</td>\n      <td>60000.0</td>\n      <td>1</td>\n      <td>1</td>\n      <td>0</td>\n    </tr>\n  </tbody>\n</table>\n</div>"
     },
     "execution_count": 32,
     "metadata": {},
     "output_type": "execute_result"
    }
   ],
   "source": [
    "customer = customer.drop(columns=[\"Gender\", \"Geography\"])\n",
    "customer[\"Gender_Male\"] = 1\n",
    "customer[\"Geography_Germany\"] = 1\n",
    "customer[\"Geography_Spain\"] = 0\n",
    "customer"
   ],
   "metadata": {
    "collapsed": false
   }
  },
  {
   "cell_type": "code",
   "execution_count": 33,
   "outputs": [
    {
     "name": "stdout",
     "output_type": "stream",
     "text": [
      "1/1 [==============================] - 0s 28ms/step\n"
     ]
    },
    {
     "data": {
      "text/plain": "array([[0.99999918]])"
     },
     "execution_count": 33,
     "metadata": {},
     "output_type": "execute_result"
    }
   ],
   "source": [
    "1 - ann.predict(customer)"
   ],
   "metadata": {
    "collapsed": false
   }
  },
  {
   "cell_type": "code",
   "execution_count": 93,
   "outputs": [
    {
     "data": {
      "text/plain": "0.867"
     },
     "execution_count": 93,
     "metadata": {},
     "output_type": "execute_result"
    }
   ],
   "source": [
    "from sklearn.ensemble import RandomForestClassifier\n",
    "\n",
    "forest = RandomForestClassifier()\n",
    "forest.fit(X_train, y_train)\n",
    "forest.score(X_test, y_test)"
   ],
   "metadata": {
    "collapsed": false
   }
  },
  {
   "cell_type": "code",
   "execution_count": 95,
   "outputs": [
    {
     "data": {
      "text/plain": "array([1], dtype=int64)"
     },
     "execution_count": 95,
     "metadata": {},
     "output_type": "execute_result"
    }
   ],
   "source": [
    "1 - forest.predict(customer)"
   ],
   "metadata": {
    "collapsed": false
   }
  }
 ],
 "metadata": {
  "kernelspec": {
   "display_name": "Python 3",
   "language": "python",
   "name": "python3"
  },
  "language_info": {
   "codemirror_mode": {
    "name": "ipython",
    "version": 3
   },
   "file_extension": ".py",
   "mimetype": "text/x-python",
   "name": "python",
   "nbconvert_exporter": "python",
   "pygments_lexer": "ipython3",
   "version": "3.7.7"
  }
 },
 "nbformat": 4,
 "nbformat_minor": 2
}
