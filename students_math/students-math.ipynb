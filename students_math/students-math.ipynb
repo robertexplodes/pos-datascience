{
 "cells": [
  {
   "cell_type": "markdown",
   "id": "124e6773",
   "metadata": {},
   "source": [
    "* school - student's school (binary: 'GP' - Gabriel Pereira or 'MS' - Mousinho da Silveira)\n",
    "* sex - student's sex (binary: 'F' - female or 'M' - male)\n",
    "* age - student's age (numeric: from 15 to 22)\n",
    "* address - student's home address type (binary: 'U' - urban or 'R' - rural)\n",
    "* famsize - family size (binary: 'LE3' - less or equal to 3 or 'GT3' - greater than 3)\n",
    "* Pstatus - parent's cohabitation status (binary: 'T' - living together or 'A' - apart)\n",
    "* Medu - mother's education (numeric: 0 - none, 1 - primary education (4th grade), 2 – 5th to 9th grade, 3 – secondary education or 4 – higher education)\n",
    "* Fedu - father's education (numeric: 0 - none, 1 - primary education (4th grade), 2 – 5th to 9th grade, 3 – secondary education or 4 – higher education)\n",
    "* Mjob - mother's job (nominal: 'teacher', 'health' care related, civil 'services' (e.g. administrative or police), 'at_home' or 'other')\n",
    "* Fjob - father's job (nominal: 'teacher', 'health' care related, civil 'services' (e.g. administrative or police), 'at_home' or 'other')\n",
    "* reason - reason to choose this school (nominal: close to 'home', school 'reputation', 'course' preference or 'other')\n",
    "* guardian - student's guardian (nominal: 'mother', 'father' or 'other')\n",
    "* traveltime - home to school travel time (numeric: 1 - <15 min., 2 - 15 to 30 min., 3 - 30 min. to 1 hour, or 4 - >1 hour)\n",
    "* studytime - weekly study time (numeric: 1 - <2 hours, 2 - 2 to 5 hours, 3 - 5 to 10 hours, or 4 - >10 hours)\n",
    "* failures - number of past class failures (numeric: n if 1<=n<3, else 4)\n",
    "* schoolsup - extra educational support (binary: yes or no)\n",
    "* famsup - family educational support (binary: yes or no)\n",
    "* paid - extra paid classes within the course subject (Math or Portuguese) (binary: yes or no)\n",
    "* activities - extra-curricular activities (binary: yes or no)\n",
    "* nursery - attended nursery school (binary: yes or no)\n",
    "* higher - wants to take higher education (binary: yes or no)\n",
    "* internet - Internet access at home (binary: yes or no)\n",
    "* romantic - with a romantic relationship (binary: yes or no)\n",
    "* famrel - quality of family relationships (numeric: from 1 - very bad to 5 - excellent)\n",
    "* freetime - free time after school (numeric: from 1 - very low to 5 - very high)\n",
    "* goout - going out with friends (numeric: from 1 - very low to 5 - very high)\n",
    "* Dalc - workday alcohol consumption (numeric: from 1 - very low to 5 - very high)\n",
    "* Walc - weekend alcohol consumption (numeric: from 1 - very low to 5 - very high)\n",
    "* health - current health status (numeric: from 1 - very bad to 5 - very good)\n",
    "* absences - number of school absences (numeric: from 0 to 93)\n",
    "\n",
    "\n",
    "* G1 - first period grade (numeric: from 0 to 20)\n",
    "* G2 - second period grade (numeric: from 0 to 20)\n",
    "* G3 - final grade (numeric: from 0 to 20, output target)"
   ]
  },
  {
   "cell_type": "markdown",
   "id": "d2719c33",
   "metadata": {},
   "source": [
    "## Erzeuge einen DataFrame aus `student-math.csv`"
   ]
  },
  {
   "cell_type": "code",
   "execution_count": 1,
   "id": "380f9f1c",
   "metadata": {
    "scrolled": true
   },
   "outputs": [
    {
     "data": {
      "text/plain": "  school sex  age address famsize Pstatus  Medu  Fedu     Mjob      Fjob  ...  \\\n0     GP   F   18       U     GT3       A     4     4  at_home   teacher  ...   \n1     GP   F   17       U     GT3       T     1     1  at_home     other  ...   \n2     GP   F   15       U     LE3       T     1     1  at_home     other  ...   \n3     GP   F   15       U     GT3       T     4     2   health  services  ...   \n4     GP   F   16       U     GT3       T     3     3    other     other  ...   \n\n  famrel freetime  goout  Dalc  Walc health absences  G1  G2  G3  \n0      4        3      4     1     1      3        6   5   6   6  \n1      5        3      3     1     1      3        4   5   5   6  \n2      4        3      2     2     3      3       10   7   8  10  \n3      3        2      2     1     1      5        2  15  14  15  \n4      4        3      2     1     2      5        4   6  10  10  \n\n[5 rows x 33 columns]",
      "text/html": "<div>\n<style scoped>\n    .dataframe tbody tr th:only-of-type {\n        vertical-align: middle;\n    }\n\n    .dataframe tbody tr th {\n        vertical-align: top;\n    }\n\n    .dataframe thead th {\n        text-align: right;\n    }\n</style>\n<table border=\"1\" class=\"dataframe\">\n  <thead>\n    <tr style=\"text-align: right;\">\n      <th></th>\n      <th>school</th>\n      <th>sex</th>\n      <th>age</th>\n      <th>address</th>\n      <th>famsize</th>\n      <th>Pstatus</th>\n      <th>Medu</th>\n      <th>Fedu</th>\n      <th>Mjob</th>\n      <th>Fjob</th>\n      <th>...</th>\n      <th>famrel</th>\n      <th>freetime</th>\n      <th>goout</th>\n      <th>Dalc</th>\n      <th>Walc</th>\n      <th>health</th>\n      <th>absences</th>\n      <th>G1</th>\n      <th>G2</th>\n      <th>G3</th>\n    </tr>\n  </thead>\n  <tbody>\n    <tr>\n      <th>0</th>\n      <td>GP</td>\n      <td>F</td>\n      <td>18</td>\n      <td>U</td>\n      <td>GT3</td>\n      <td>A</td>\n      <td>4</td>\n      <td>4</td>\n      <td>at_home</td>\n      <td>teacher</td>\n      <td>...</td>\n      <td>4</td>\n      <td>3</td>\n      <td>4</td>\n      <td>1</td>\n      <td>1</td>\n      <td>3</td>\n      <td>6</td>\n      <td>5</td>\n      <td>6</td>\n      <td>6</td>\n    </tr>\n    <tr>\n      <th>1</th>\n      <td>GP</td>\n      <td>F</td>\n      <td>17</td>\n      <td>U</td>\n      <td>GT3</td>\n      <td>T</td>\n      <td>1</td>\n      <td>1</td>\n      <td>at_home</td>\n      <td>other</td>\n      <td>...</td>\n      <td>5</td>\n      <td>3</td>\n      <td>3</td>\n      <td>1</td>\n      <td>1</td>\n      <td>3</td>\n      <td>4</td>\n      <td>5</td>\n      <td>5</td>\n      <td>6</td>\n    </tr>\n    <tr>\n      <th>2</th>\n      <td>GP</td>\n      <td>F</td>\n      <td>15</td>\n      <td>U</td>\n      <td>LE3</td>\n      <td>T</td>\n      <td>1</td>\n      <td>1</td>\n      <td>at_home</td>\n      <td>other</td>\n      <td>...</td>\n      <td>4</td>\n      <td>3</td>\n      <td>2</td>\n      <td>2</td>\n      <td>3</td>\n      <td>3</td>\n      <td>10</td>\n      <td>7</td>\n      <td>8</td>\n      <td>10</td>\n    </tr>\n    <tr>\n      <th>3</th>\n      <td>GP</td>\n      <td>F</td>\n      <td>15</td>\n      <td>U</td>\n      <td>GT3</td>\n      <td>T</td>\n      <td>4</td>\n      <td>2</td>\n      <td>health</td>\n      <td>services</td>\n      <td>...</td>\n      <td>3</td>\n      <td>2</td>\n      <td>2</td>\n      <td>1</td>\n      <td>1</td>\n      <td>5</td>\n      <td>2</td>\n      <td>15</td>\n      <td>14</td>\n      <td>15</td>\n    </tr>\n    <tr>\n      <th>4</th>\n      <td>GP</td>\n      <td>F</td>\n      <td>16</td>\n      <td>U</td>\n      <td>GT3</td>\n      <td>T</td>\n      <td>3</td>\n      <td>3</td>\n      <td>other</td>\n      <td>other</td>\n      <td>...</td>\n      <td>4</td>\n      <td>3</td>\n      <td>2</td>\n      <td>1</td>\n      <td>2</td>\n      <td>5</td>\n      <td>4</td>\n      <td>6</td>\n      <td>10</td>\n      <td>10</td>\n    </tr>\n  </tbody>\n</table>\n<p>5 rows × 33 columns</p>\n</div>"
     },
     "execution_count": 1,
     "metadata": {},
     "output_type": "execute_result"
    }
   ],
   "source": [
    "import pandas\n",
    "import pandas as pd\n",
    "df = pd.read_csv('data/student-math.csv')\n",
    "df.head()"
   ]
  },
  {
   "cell_type": "markdown",
   "id": "c7b1b319",
   "metadata": {},
   "source": [
    "## Ermittle nach Geschlechtern gruppiert den durchschnittlichen Alkoholkonsum"
   ]
  },
  {
   "cell_type": "code",
   "execution_count": 2,
   "id": "e4bf1a21",
   "metadata": {},
   "outputs": [
    {
     "data": {
      "text/plain": "         Walc      Dalc\nsex                    \nF    1.956731  1.254808\nM    2.663102  1.732620",
      "text/html": "<div>\n<style scoped>\n    .dataframe tbody tr th:only-of-type {\n        vertical-align: middle;\n    }\n\n    .dataframe tbody tr th {\n        vertical-align: top;\n    }\n\n    .dataframe thead th {\n        text-align: right;\n    }\n</style>\n<table border=\"1\" class=\"dataframe\">\n  <thead>\n    <tr style=\"text-align: right;\">\n      <th></th>\n      <th>Walc</th>\n      <th>Dalc</th>\n    </tr>\n    <tr>\n      <th>sex</th>\n      <th></th>\n      <th></th>\n    </tr>\n  </thead>\n  <tbody>\n    <tr>\n      <th>F</th>\n      <td>1.956731</td>\n      <td>1.254808</td>\n    </tr>\n    <tr>\n      <th>M</th>\n      <td>2.663102</td>\n      <td>1.732620</td>\n    </tr>\n  </tbody>\n</table>\n</div>"
     },
     "execution_count": 2,
     "metadata": {},
     "output_type": "execute_result"
    }
   ],
   "source": [
    "df.groupby(by='sex')[[\"Walc\", \"Dalc\"]].mean()"
   ]
  },
  {
   "cell_type": "markdown",
   "id": "c4731e80",
   "metadata": {},
   "source": [
    "## Ermittle jene 3 Features, welche am meisten mit `G3` korrelieren, abgesehen von `G1` und `G2`\n"
   ]
  },
  {
   "cell_type": "code",
   "execution_count": 5,
   "id": "f7a18575",
   "metadata": {},
   "outputs": [
    {
     "data": {
      "text/plain": "failures    0.360415\nMedu        0.217147\nage         0.161579\nName: G3, dtype: float64"
     },
     "execution_count": 5,
     "metadata": {},
     "output_type": "execute_result"
    }
   ],
   "source": [
    "# TODO\n",
    "df.corr()['G3'][:-3].abs().sort_values(ascending=False)[:3]"
   ]
  },
  {
   "cell_type": "markdown",
   "id": "acffb1d1",
   "metadata": {},
   "source": [
    "## Ermittle jene 3 Features, welche am meisten mit `Walc` korrelieren"
   ]
  },
  {
   "cell_type": "markdown",
   "source": [],
   "metadata": {
    "collapsed": false
   }
  },
  {
   "cell_type": "code",
   "execution_count": 6,
   "id": "b3ac28d7",
   "metadata": {},
   "outputs": [
    {
     "data": {
      "text/plain": "Dalc         0.647544\ngoout        0.420386\nstudytime    0.253785\nName: Walc, dtype: float64"
     },
     "execution_count": 6,
     "metadata": {},
     "output_type": "execute_result"
    }
   ],
   "source": [
    "df.corr()[\"Walc\"].drop(index=\"Walc\").abs().sort_values(ascending=False)[:3]"
   ]
  },
  {
   "cell_type": "markdown",
   "id": "1483f9ae",
   "metadata": {},
   "source": [
    "## Ermittle die Absenzzahl jenes Schülers mit den meisten Absenzen, der trotzdem >= 10 G3 hat"
   ]
  },
  {
   "cell_type": "code",
   "execution_count": 60,
   "id": "78ba9bb0",
   "metadata": {
    "scrolled": true
   },
   "outputs": [
    {
     "data": {
      "text/plain": "54"
     },
     "execution_count": 60,
     "metadata": {},
     "output_type": "execute_result"
    }
   ],
   "source": [
    "df.query(\"G3 >= 10\")[\"absences\"].max()"
   ]
  },
  {
   "cell_type": "markdown",
   "id": "fdd63c7f",
   "metadata": {},
   "source": [
    "## Ermittle, ob die Schüler mit mehr als 18 Punkten eher aus dem ruralen oder aus dem urbanen Raum kommen"
   ]
  },
  {
   "cell_type": "code",
   "execution_count": 90,
   "id": "eb3a3a6b",
   "metadata": {},
   "outputs": [
    {
     "data": {
      "text/plain": "address\nR    1\nU    6\ndtype: int64"
     },
     "execution_count": 90,
     "metadata": {},
     "output_type": "execute_result"
    }
   ],
   "source": [
    "df.query('G1 > 18 or G2 > 18 or G3 > 18').groupby(by=\"address\").size()"
   ]
  },
  {
   "cell_type": "markdown",
   "id": "682a40af",
   "metadata": {},
   "source": [
    "## Versuche, folgende Behauptung zu widerlegen:\n",
    "\"Dass die Eltern unter einem Dach leben ist sehr wichtig für eine **herausragende** Mathematiknote, immerhin leben doppelt so viele dieser Schüler mit **beiden** Eltern zusammen\""
   ]
  },
  {
   "cell_type": "code",
   "execution_count": 7,
   "id": "d99e821f",
   "metadata": {
    "scrolled": false
   },
   "outputs": [
    {
     "name": "stdout",
     "output_type": "stream",
     "text": [
      "8.634146341463415\n",
      "2.5\n"
     ]
    },
    {
     "data": {
      "text/plain": "Pstatus\nA    2\nT    5\ndtype: int64"
     },
     "execution_count": 7,
     "metadata": {},
     "output_type": "execute_result"
    }
   ],
   "source": [
    "# TODO\n",
    "groupedByPstatus = df.groupby(by=\"Pstatus\").size()\n",
    "print(groupedByPstatus[1] / groupedByPstatus[0])\n",
    "groupedMoreThan19points = df.query(\"G1 >= 19 or G2 >= 19 or G3 >= 19\").groupby(by=\"Pstatus\").size()\n",
    "print(groupedMoreThan19points[1] / groupedMoreThan19points[0])\n",
    "groupedMoreThan19points"
   ]
  },
  {
   "cell_type": "code",
   "execution_count": null,
   "outputs": [],
   "source": [],
   "metadata": {
    "collapsed": false
   }
  },
  {
   "cell_type": "code",
   "execution_count": 123,
   "outputs": [
    {
     "data": {
      "text/plain": "                  G1        G2        G3  Pstatus_T\nage         0.064081  0.143474  0.161579   0.029598\nMedu        0.205341  0.215527  0.217147   0.123565\nFedu        0.190270  0.164893  0.152457   0.088730\ntraveltime  0.089492  0.158030  0.126088   0.020570\nstudytime   0.160612  0.135880  0.097820   0.024294\nfailures    0.354718  0.355896  0.360415   0.003339\nfamrel      0.022168  0.018281  0.051363   0.025179\nfreetime    0.012613  0.013777  0.011307   0.038717\ngoout       0.149104  0.162250  0.132791   0.003459\nDalc        0.094159  0.064120  0.054660   0.030590\nWalc        0.126179  0.084927  0.051939   0.006045\nhealth      0.073172  0.097720  0.061335   0.022307\nabsences    0.031003  0.031777  0.034247   0.134937\nG1          1.000000  0.852118  0.801468   0.016868\nG2          0.852118  1.000000  0.904868   0.041382\nG3          0.801468  0.904868  1.000000   0.058009\nPstatus_T   0.016868  0.041382  0.058009   1.000000",
      "text/html": "<div>\n<style scoped>\n    .dataframe tbody tr th:only-of-type {\n        vertical-align: middle;\n    }\n\n    .dataframe tbody tr th {\n        vertical-align: top;\n    }\n\n    .dataframe thead th {\n        text-align: right;\n    }\n</style>\n<table border=\"1\" class=\"dataframe\">\n  <thead>\n    <tr style=\"text-align: right;\">\n      <th></th>\n      <th>G1</th>\n      <th>G2</th>\n      <th>G3</th>\n      <th>Pstatus_T</th>\n    </tr>\n  </thead>\n  <tbody>\n    <tr>\n      <th>age</th>\n      <td>0.064081</td>\n      <td>0.143474</td>\n      <td>0.161579</td>\n      <td>0.029598</td>\n    </tr>\n    <tr>\n      <th>Medu</th>\n      <td>0.205341</td>\n      <td>0.215527</td>\n      <td>0.217147</td>\n      <td>0.123565</td>\n    </tr>\n    <tr>\n      <th>Fedu</th>\n      <td>0.190270</td>\n      <td>0.164893</td>\n      <td>0.152457</td>\n      <td>0.088730</td>\n    </tr>\n    <tr>\n      <th>traveltime</th>\n      <td>0.089492</td>\n      <td>0.158030</td>\n      <td>0.126088</td>\n      <td>0.020570</td>\n    </tr>\n    <tr>\n      <th>studytime</th>\n      <td>0.160612</td>\n      <td>0.135880</td>\n      <td>0.097820</td>\n      <td>0.024294</td>\n    </tr>\n    <tr>\n      <th>failures</th>\n      <td>0.354718</td>\n      <td>0.355896</td>\n      <td>0.360415</td>\n      <td>0.003339</td>\n    </tr>\n    <tr>\n      <th>famrel</th>\n      <td>0.022168</td>\n      <td>0.018281</td>\n      <td>0.051363</td>\n      <td>0.025179</td>\n    </tr>\n    <tr>\n      <th>freetime</th>\n      <td>0.012613</td>\n      <td>0.013777</td>\n      <td>0.011307</td>\n      <td>0.038717</td>\n    </tr>\n    <tr>\n      <th>goout</th>\n      <td>0.149104</td>\n      <td>0.162250</td>\n      <td>0.132791</td>\n      <td>0.003459</td>\n    </tr>\n    <tr>\n      <th>Dalc</th>\n      <td>0.094159</td>\n      <td>0.064120</td>\n      <td>0.054660</td>\n      <td>0.030590</td>\n    </tr>\n    <tr>\n      <th>Walc</th>\n      <td>0.126179</td>\n      <td>0.084927</td>\n      <td>0.051939</td>\n      <td>0.006045</td>\n    </tr>\n    <tr>\n      <th>health</th>\n      <td>0.073172</td>\n      <td>0.097720</td>\n      <td>0.061335</td>\n      <td>0.022307</td>\n    </tr>\n    <tr>\n      <th>absences</th>\n      <td>0.031003</td>\n      <td>0.031777</td>\n      <td>0.034247</td>\n      <td>0.134937</td>\n    </tr>\n    <tr>\n      <th>G1</th>\n      <td>1.000000</td>\n      <td>0.852118</td>\n      <td>0.801468</td>\n      <td>0.016868</td>\n    </tr>\n    <tr>\n      <th>G2</th>\n      <td>0.852118</td>\n      <td>1.000000</td>\n      <td>0.904868</td>\n      <td>0.041382</td>\n    </tr>\n    <tr>\n      <th>G3</th>\n      <td>0.801468</td>\n      <td>0.904868</td>\n      <td>1.000000</td>\n      <td>0.058009</td>\n    </tr>\n    <tr>\n      <th>Pstatus_T</th>\n      <td>0.016868</td>\n      <td>0.041382</td>\n      <td>0.058009</td>\n      <td>1.000000</td>\n    </tr>\n  </tbody>\n</table>\n</div>"
     },
     "execution_count": 123,
     "metadata": {},
     "output_type": "execute_result"
    }
   ],
   "source": [
    "pd.get_dummies(data=df, columns=['Pstatus'], drop_first=True).corr().abs()[[\"G1\", \"G2\", \"G3\", \"Pstatus_T\"]]"
   ],
   "metadata": {
    "collapsed": false
   }
  },
  {
   "attachments": {
    "image.png": {
     "image/png": "[encoded data removed]"
    }
   },
   "cell_type": "markdown",
   "id": "1ef0c7ba",
   "metadata": {},
   "source": [
    "## Erzeuge folgende Graphik, welche die Punkte nach Adresse darstellt\n",
    "![img.png](./assets/img.png)"
   ]
  },
  {
   "cell_type": "code",
   "execution_count": 132,
   "id": "a67dc27d",
   "metadata": {
    "scrolled": true
   },
   "outputs": [
    {
     "data": {
      "text/plain": "<AxesSubplot:xlabel='G3', ylabel='Count'>"
     },
     "execution_count": 132,
     "metadata": {},
     "output_type": "execute_result"
    },
    {
     "data": {
      "text/plain": "<Figure size 640x480 with 1 Axes>",
      "image/png": "[encoded data removed]"
     },
     "metadata": {},
     "output_type": "display_data"
    }
   ],
   "source": [
    "# TODO\n",
    "import seaborn as sns\n",
    "sns.histplot(data=df, x=\"G3\", hue=\"address\", multiple=\"stack\")"
   ]
  },
  {
   "cell_type": "markdown",
   "id": "443aa45d",
   "metadata": {},
   "source": [
    "## Ermittle die durchschnittliche Punktzahl aller Schüler, bei denen Mutter und Vater derselben Berufsgruppe angehören, gruppiert nach Berufsgruppe"
   ]
  },
  {
   "cell_type": "code",
   "execution_count": 137,
   "id": "5a71474d",
   "metadata": {},
   "outputs": [
    {
     "data": {
      "text/plain": "                 G3\nMjob               \nat_home   12.285714\nhealth    13.500000\nother      9.798077\nservices  10.767442\nteacher   13.083333",
      "text/html": "<div>\n<style scoped>\n    .dataframe tbody tr th:only-of-type {\n        vertical-align: middle;\n    }\n\n    .dataframe tbody tr th {\n        vertical-align: top;\n    }\n\n    .dataframe thead th {\n        text-align: right;\n    }\n</style>\n<table border=\"1\" class=\"dataframe\">\n  <thead>\n    <tr style=\"text-align: right;\">\n      <th></th>\n      <th>G3</th>\n    </tr>\n    <tr>\n      <th>Mjob</th>\n      <th></th>\n    </tr>\n  </thead>\n  <tbody>\n    <tr>\n      <th>at_home</th>\n      <td>12.285714</td>\n    </tr>\n    <tr>\n      <th>health</th>\n      <td>13.500000</td>\n    </tr>\n    <tr>\n      <th>other</th>\n      <td>9.798077</td>\n    </tr>\n    <tr>\n      <th>services</th>\n      <td>10.767442</td>\n    </tr>\n    <tr>\n      <th>teacher</th>\n      <td>13.083333</td>\n    </tr>\n  </tbody>\n</table>\n</div>"
     },
     "execution_count": 137,
     "metadata": {},
     "output_type": "execute_result"
    }
   ],
   "source": [
    "# TODO\n",
    "sameJob = df[df.Mjob == df.Fjob]\n",
    "sameJob.groupby(by=\"Mjob\")[[\"G3\"]].mean()"
   ]
  },
  {
   "cell_type": "markdown",
   "id": "4fbcd052",
   "metadata": {},
   "source": [
    "## Ersetze fehlende Werte durch den **Median** der jeweiligen `address`"
   ]
  },
  {
   "cell_type": "code",
   "execution_count": 8,
   "id": "7635f8ac",
   "metadata": {},
   "outputs": [
    {
     "data": {
      "text/plain": "traveltime    36\nschool         0\nfreetime       0\ndtype: int64"
     },
     "execution_count": 8,
     "metadata": {},
     "output_type": "execute_result"
    }
   ],
   "source": [
    "df.isna().sum().sort_values(ascending=False)[:3]"
   ]
  },
  {
   "cell_type": "code",
   "execution_count": 9,
   "outputs": [],
   "source": [
    "filled = df.groupby(by='address')[\"traveltime\"].apply(lambda travelTime:\n",
    "                                             travelTime.fillna(travelTime.mean()))"
   ],
   "metadata": {
    "collapsed": false
   }
  },
  {
   "cell_type": "code",
   "execution_count": 18,
   "outputs": [
    {
     "data": {
      "text/plain": "0"
     },
     "execution_count": 18,
     "metadata": {},
     "output_type": "execute_result"
    }
   ],
   "source": [
    "filled[filled.isna()].count()"
   ],
   "metadata": {
    "collapsed": false
   }
  },
  {
   "cell_type": "code",
   "execution_count": null,
   "outputs": [],
   "source": [],
   "metadata": {
    "collapsed": false
   }
  }
 ],
 "metadata": {
  "kernelspec": {
   "display_name": "Python 3",
   "language": "python",
   "name": "python3"
  },
  "language_info": {
   "codemirror_mode": {
    "name": "ipython",
    "version": 3
   },
   "file_extension": ".py",
   "mimetype": "text/x-python",
   "name": "python",
   "nbconvert_exporter": "python",
   "pygments_lexer": "ipython3",
   "version": "3.8.8"
  }
 },
 "nbformat": 4,
 "nbformat_minor": 5
}
